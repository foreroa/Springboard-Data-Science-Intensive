{
 "cells": [
  {
   "cell_type": "markdown",
   "metadata": {},
   "source": [
    "# XML example and exercise\n",
    "****\n",
    "+ study examples of accessing nodes in XML tree structure  \n",
    "+ work on exercise to be completed and submitted\n",
    "****\n",
    "+ reference: https://docs.python.org/2.7/library/xml.etree.elementtree.html\n",
    "+ data source: http://www.dbis.informatik.uni-goettingen.de/Mondial\n",
    "****"
   ]
  },
  {
   "cell_type": "code",
   "execution_count": 2,
   "metadata": {
    "collapsed": true
   },
   "outputs": [],
   "source": [
    "from xml.etree import ElementTree as ET"
   ]
  },
  {
   "cell_type": "markdown",
   "metadata": {},
   "source": [
    "## XML example\n",
    "\n",
    "+ for details about tree traversal and iterators, see https://docs.python.org/2.7/library/xml.etree.elementtree.html"
   ]
  },
  {
   "cell_type": "code",
   "execution_count": 3,
   "metadata": {
    "collapsed": false
   },
   "outputs": [],
   "source": [
    "document_tree = ET.parse( './data/mondial_database_less.xml' )"
   ]
  },
  {
   "cell_type": "code",
   "execution_count": 3,
   "metadata": {
    "collapsed": false
   },
   "outputs": [
    {
     "name": "stdout",
     "output_type": "stream",
     "text": [
      "Albania\n",
      "Greece\n",
      "Macedonia\n",
      "Serbia\n",
      "Montenegro\n",
      "Kosovo\n",
      "Andorra\n"
     ]
    }
   ],
   "source": [
    "# print names of all countries\n",
    "for child in document_tree.getroot():\n",
    "    print child.find('name').text"
   ]
  },
  {
   "cell_type": "code",
   "execution_count": 12,
   "metadata": {
    "collapsed": false
   },
   "outputs": [
    {
     "name": "stdout",
     "output_type": "stream",
     "text": [
      "* Albania: Tirana, Shkodër, Durrës, Vlorë, Elbasan, Korçë\n",
      "* Greece: Komotini, Kavala, Athina, Peiraias, Peristeri, Acharnes, Patra, Kozani, Kerkyra, Ioannina, Thessaloniki, Iraklio, Chania, Ermoupoli, Rhodes, Tripoli, Lamia, Chalkida, Larissa, Volos, Mytilini, Karyes\n",
      "* Macedonia: Skopje, Kumanovo\n",
      "* Serbia: Beograd, Novi Sad, Niš\n",
      "* Montenegro: Podgorica\n",
      "* Kosovo: Prishtine\n",
      "* Andorra: Andorra la Vella\n"
     ]
    }
   ],
   "source": [
    "# print names of all countries and their cities\n",
    "for element in document_tree.iterfind('country'):\n",
    "    print '* ' + element.find('name').text + ':',\n",
    "    capitals_string = ''\n",
    "    for subelement in element.getiterator('city'):\n",
    "        capitals_string += subelement.find('name').text + ', '\n",
    "    print capitals_string[:-2]"
   ]
  },
  {
   "cell_type": "markdown",
   "metadata": {},
   "source": [
    "****\n",
    "## XML exercise\n",
    "\n",
    "Using data in 'data/mondial_database.xml', the examples above, and refering to https://docs.python.org/2.7/library/xml.etree.elementtree.html, find\n",
    "\n",
    "1. 10 countries with the lowest infant mortality rates\n",
    "2. 10 cities with the largest population\n",
    "3. 10 ethnic groups with the largest overall populations (sum of best/latest estimates over all countries)\n",
    "4. name and country of a) longest river, b) largest lake and c) airport at highest elevation"
   ]
  },
  {
   "cell_type": "code",
   "execution_count": 20,
   "metadata": {
    "collapsed": false
   },
   "outputs": [],
   "source": [
    "document = ET.parse( 'mondial_database.xml' )"
   ]
  },
  {
   "cell_type": "code",
   "execution_count": 21,
   "metadata": {
    "collapsed": false
   },
   "outputs": [],
   "source": [
    "import xml.etree.ElementTree as ET\n",
    "tree = ET.parse('mondial_database.xml')\n",
    "root = tree.getroot()"
   ]
  },
  {
   "cell_type": "code",
   "execution_count": 22,
   "metadata": {
    "collapsed": true
   },
   "outputs": [],
   "source": [
    "from xml.etree import ElementTree as ET\n",
    "import pandas as pd\n",
    "import numpy as np"
   ]
  },
  {
   "cell_type": "markdown",
   "metadata": {},
   "source": [
    "# Q1: Find the top 10 countries with the lowest infant mortality rates"
   ]
  },
  {
   "cell_type": "code",
   "execution_count": 23,
   "metadata": {
    "collapsed": false
   },
   "outputs": [
    {
     "data": {
      "text/html": [
       "<div>\n",
       "<table border=\"1\" class=\"dataframe\">\n",
       "  <thead>\n",
       "    <tr style=\"text-align: right;\">\n",
       "      <th></th>\n",
       "      <th>name</th>\n",
       "      <th>infant_mortality</th>\n",
       "    </tr>\n",
       "  </thead>\n",
       "  <tbody>\n",
       "    <tr>\n",
       "      <th>35</th>\n",
       "      <td>Monaco</td>\n",
       "      <td>1.81</td>\n",
       "    </tr>\n",
       "    <tr>\n",
       "      <th>210</th>\n",
       "      <td>Japan</td>\n",
       "      <td>2.13</td>\n",
       "    </tr>\n",
       "    <tr>\n",
       "      <th>72</th>\n",
       "      <td>Norway</td>\n",
       "      <td>2.48</td>\n",
       "    </tr>\n",
       "    <tr>\n",
       "      <th>65</th>\n",
       "      <td>Bermuda</td>\n",
       "      <td>2.48</td>\n",
       "    </tr>\n",
       "    <tr>\n",
       "      <th>77</th>\n",
       "      <td>Singapore</td>\n",
       "      <td>2.53</td>\n",
       "    </tr>\n",
       "    <tr>\n",
       "      <th>107</th>\n",
       "      <td>Sweden</td>\n",
       "      <td>2.60</td>\n",
       "    </tr>\n",
       "    <tr>\n",
       "      <th>56</th>\n",
       "      <td>Czech Republic</td>\n",
       "      <td>2.63</td>\n",
       "    </tr>\n",
       "    <tr>\n",
       "      <th>144</th>\n",
       "      <td>Hong Kong</td>\n",
       "      <td>2.73</td>\n",
       "    </tr>\n",
       "    <tr>\n",
       "      <th>53</th>\n",
       "      <td>Macao</td>\n",
       "      <td>3.13</td>\n",
       "    </tr>\n",
       "    <tr>\n",
       "      <th>188</th>\n",
       "      <td>Iceland</td>\n",
       "      <td>3.15</td>\n",
       "    </tr>\n",
       "  </tbody>\n",
       "</table>\n",
       "</div>"
      ],
      "text/plain": [
       "               name  infant_mortality\n",
       "35           Monaco              1.81\n",
       "210           Japan              2.13\n",
       "72           Norway              2.48\n",
       "65          Bermuda              2.48\n",
       "77        Singapore              2.53\n",
       "107          Sweden              2.60\n",
       "56   Czech Republic              2.63\n",
       "144       Hong Kong              2.73\n",
       "53            Macao              3.13\n",
       "188         Iceland              3.15"
      ]
     },
     "execution_count": 23,
     "metadata": {},
     "output_type": "execute_result"
    }
   ],
   "source": [
    "country_mortality_dict  = {}\n",
    "for country in document.iterfind('country'):\n",
    "    mortality = country.find('infant_mortality')\n",
    "    if mortality is not None:\n",
    "        country_mortality_dict[country.find('name').text] = float(mortality.text)\n",
    "df = pd.DataFrame(country_mortality_dict.items(), columns=['name', 'infant_mortality'])\n",
    "df.sort_values('infant_mortality').head(10)"
   ]
  },
  {
   "cell_type": "markdown",
   "metadata": {},
   "source": [
    "# Q2:  Find the 10 cities with the largest population:"
   ]
  },
  {
   "cell_type": "code",
   "execution_count": 46,
   "metadata": {
    "collapsed": false
   },
   "outputs": [
    {
     "data": {
      "text/html": [
       "<div>\n",
       "<table border=\"1\" class=\"dataframe\">\n",
       "  <thead>\n",
       "    <tr style=\"text-align: right;\">\n",
       "      <th></th>\n",
       "      <th>id</th>\n",
       "      <th>name</th>\n",
       "      <th>population_2011</th>\n",
       "    </tr>\n",
       "  </thead>\n",
       "  <tbody>\n",
       "    <tr>\n",
       "      <th>1928</th>\n",
       "      <td>cty-South-Korea-2</td>\n",
       "      <td>Seoul</td>\n",
       "      <td>10,229,262.00</td>\n",
       "    </tr>\n",
       "    <tr>\n",
       "      <th>1527</th>\n",
       "      <td>cty-India-2</td>\n",
       "      <td>Mumbai</td>\n",
       "      <td>9,925,891.00</td>\n",
       "    </tr>\n",
       "    <tr>\n",
       "      <th>2810</th>\n",
       "      <td>cty-Brazil-Sao-Paulo</td>\n",
       "      <td>São Paulo</td>\n",
       "      <td>9,412,894.00</td>\n",
       "    </tr>\n",
       "    <tr>\n",
       "      <th>1757</th>\n",
       "      <td>cty-RI-11</td>\n",
       "      <td>Jakarta</td>\n",
       "      <td>8,259,266.00</td>\n",
       "    </tr>\n",
       "    <tr>\n",
       "      <th>1341</th>\n",
       "      <td>cty-China-Shanghai</td>\n",
       "      <td>Shanghai</td>\n",
       "      <td>8,205,598.00</td>\n",
       "    </tr>\n",
       "    <tr>\n",
       "      <th>2109</th>\n",
       "      <td>cty-Mexico-Mexico-City</td>\n",
       "      <td>Ciudad de México</td>\n",
       "      <td>8,092,449.00</td>\n",
       "    </tr>\n",
       "    <tr>\n",
       "      <th>479</th>\n",
       "      <td>cty-Russia-Moscow</td>\n",
       "      <td>Moskva</td>\n",
       "      <td>8,010,954.00</td>\n",
       "    </tr>\n",
       "    <tr>\n",
       "      <th>1876</th>\n",
       "      <td>cty-Japan-Tokyo</td>\n",
       "      <td>Tokyo</td>\n",
       "      <td>7,843,000.00</td>\n",
       "    </tr>\n",
       "    <tr>\n",
       "      <th>1340</th>\n",
       "      <td>cty-China-3</td>\n",
       "      <td>Beijing</td>\n",
       "      <td>7,362,426.00</td>\n",
       "    </tr>\n",
       "    <tr>\n",
       "      <th>1582</th>\n",
       "      <td>cty-India-New-Delhi</td>\n",
       "      <td>Delhi</td>\n",
       "      <td>7,206,704.00</td>\n",
       "    </tr>\n",
       "  </tbody>\n",
       "</table>\n",
       "</div>"
      ],
      "text/plain": [
       "                          id              name      population_2011\n",
       "1928       cty-South-Korea-2             Seoul        10,229,262.00\n",
       "1527             cty-India-2            Mumbai         9,925,891.00\n",
       "2810    cty-Brazil-Sao-Paulo         São Paulo         9,412,894.00\n",
       "1757               cty-RI-11           Jakarta         8,259,266.00\n",
       "1341      cty-China-Shanghai          Shanghai         8,205,598.00\n",
       "2109  cty-Mexico-Mexico-City  Ciudad de México         8,092,449.00\n",
       "479        cty-Russia-Moscow            Moskva         8,010,954.00\n",
       "1876         cty-Japan-Tokyo             Tokyo         7,843,000.00\n",
       "1340             cty-China-3           Beijing         7,362,426.00\n",
       "1582     cty-India-New-Delhi             Delhi         7,206,704.00"
      ]
     },
     "execution_count": 46,
     "metadata": {},
     "output_type": "execute_result"
    }
   ],
   "source": [
    "list = []\n",
    "for city in document.findall('.//city'):\n",
    "    name = city.find('name')\n",
    "    if  name is None:\n",
    "        name = np.nan\n",
    "    else:\n",
    "        name = name.text\n",
    "    population = city.find('population') \n",
    "    if population is None:\n",
    "        population = np.nan\n",
    "    else:\n",
    "        population = int(population.text)\n",
    "    list.append([city.attrib['id'],name, population])\n",
    "df = pd.DataFrame(list, columns=['id', 'name', 'population_2011'])\n",
    "df.sort_values('population_2011', ascending=False).head(10)"
   ]
  },
  {
   "cell_type": "markdown",
   "metadata": {},
   "source": [
    "# Q3:  Find the 10 ethnic groups with the largest overall populations (sum of best/latest estimates over all countries)"
   ]
  },
  {
   "cell_type": "code",
   "execution_count": 31,
   "metadata": {
    "collapsed": false
   },
   "outputs": [
    {
     "name": "stdout",
     "output_type": "stream",
     "text": [
      "                               0\n",
      "Han Chinese     1,245,058,800.00\n",
      "Indo-Aryan        871,815,583.44\n",
      "European          494,872,219.72\n",
      "African           318,325,120.37\n",
      "Dravidian         302,713,744.25\n",
      "Mestizo           157,734,354.94\n",
      "Bengali           146,776,916.72\n",
      "Russian           131,856,996.08\n",
      "Japanese          126,534,212.00\n",
      "Malay             121,993,550.37\n"
     ]
    }
   ],
   "source": [
    "ethnicgroups = dict()\n",
    "for country in document.iterfind('country'):\n",
    "    populations = []\n",
    "    for population in country.findall('population'):\n",
    "        populations.append((int(population.get('year')), int(population.text)))\n",
    "    max_population = max(populations)[1]\n",
    "    for ethnicgroup in country.findall('ethnicgroup'):\n",
    "        population_ethnic_group = (float(ethnicgroup.get('percentage')) * max_population / 100)\n",
    "        ethnicgroups[ethnicgroup.text] = ethnicgroups.setdefault(ethnicgroup.text, 0) + population_ethnic_group\n",
    "df = pd.DataFrame.from_dict(ethnicgroups, orient='index')\n",
    "pd.options.display.float_format = '{:20,.2f}'.format\n",
    "sorted_df = df.sort_values([0],ascending=False).head(10)\n",
    "print(sorted_df)  "
   ]
  },
  {
   "cell_type": "markdown",
   "metadata": {},
   "source": [
    "# Q4:  Find the name and country of a) longest river, b) largest lake and c) airport at highest elevation"
   ]
  },
  {
   "cell_type": "markdown",
   "metadata": {
    "collapsed": true
   },
   "source": [
    "# a) Longest River:\n"
   ]
  },
  {
   "cell_type": "code",
   "execution_count": 33,
   "metadata": {
    "collapsed": true
   },
   "outputs": [],
   "source": [
    "code_to_country_dict = {}\n",
    "for country in document.iterfind('country'):\n",
    "    code_to_country_dict[country.get('car_code')] = country.find('name').text\n",
    "\n",
    "rivers = []\n",
    "for river in document.iterfind('river'):\n",
    "    for country in river.get('country').split():\n",
    "        length = river.find('length')\n",
    "        if length is None:\n",
    "            length = np.nan\n",
    "        else:\n",
    "            length = float(length.text)\n",
    "        rivers.append([river.find('name').text, length, code_to_country_dict[country]])\n",
    "river_df = pd.DataFrame(rivers, columns=['name', 'length', 'country'])"
   ]
  },
  {
   "cell_type": "code",
   "execution_count": 35,
   "metadata": {
    "collapsed": false
   },
   "outputs": [
    {
     "data": {
      "text/html": [
       "<div>\n",
       "<table border=\"1\" class=\"dataframe\">\n",
       "  <thead>\n",
       "    <tr style=\"text-align: right;\">\n",
       "      <th></th>\n",
       "      <th>name</th>\n",
       "      <th>length</th>\n",
       "      <th>country</th>\n",
       "    </tr>\n",
       "  </thead>\n",
       "  <tbody>\n",
       "    <tr>\n",
       "      <th>0</th>\n",
       "      <td>Thjorsa</td>\n",
       "      <td>230.00</td>\n",
       "      <td>Iceland</td>\n",
       "    </tr>\n",
       "    <tr>\n",
       "      <th>1</th>\n",
       "      <td>Joekulsa a Fjoellum</td>\n",
       "      <td>206.00</td>\n",
       "      <td>Iceland</td>\n",
       "    </tr>\n",
       "    <tr>\n",
       "      <th>2</th>\n",
       "      <td>Glomma</td>\n",
       "      <td>604.00</td>\n",
       "      <td>Norway</td>\n",
       "    </tr>\n",
       "    <tr>\n",
       "      <th>3</th>\n",
       "      <td>Lagen</td>\n",
       "      <td>322.00</td>\n",
       "      <td>Norway</td>\n",
       "    </tr>\n",
       "    <tr>\n",
       "      <th>4</th>\n",
       "      <td>Goetaaelv</td>\n",
       "      <td>93.00</td>\n",
       "      <td>Sweden</td>\n",
       "    </tr>\n",
       "  </tbody>\n",
       "</table>\n",
       "</div>"
      ],
      "text/plain": [
       "                  name               length  country\n",
       "0              Thjorsa               230.00  Iceland\n",
       "1  Joekulsa a Fjoellum               206.00  Iceland\n",
       "2               Glomma               604.00   Norway\n",
       "3                Lagen               322.00   Norway\n",
       "4            Goetaaelv                93.00   Sweden"
      ]
     },
     "execution_count": 35,
     "metadata": {},
     "output_type": "execute_result"
    }
   ],
   "source": [
    "river_df.head()"
   ]
  },
  {
   "cell_type": "code",
   "execution_count": 36,
   "metadata": {
    "collapsed": false
   },
   "outputs": [
    {
     "data": {
      "text/plain": [
       "name                  Amazonas\n",
       "length                6,448.00\n",
       "country               Colombia\n",
       "Name: 298, dtype: object"
      ]
     },
     "execution_count": 36,
     "metadata": {},
     "output_type": "execute_result"
    }
   ],
   "source": [
    "max_river = river_df.loc[river_df['length'].idxmax()]\n",
    "max_river"
   ]
  },
  {
   "cell_type": "markdown",
   "metadata": {},
   "source": [
    "# b) Largest Lake"
   ]
  },
  {
   "cell_type": "code",
   "execution_count": 37,
   "metadata": {
    "collapsed": true
   },
   "outputs": [],
   "source": [
    "lakes = []\n",
    "for lake in document.iterfind('lake'):\n",
    "    for country in lake.get('country').split():\n",
    "        area = lake.find('area')\n",
    "        if area is None:\n",
    "            area = np.nan\n",
    "        else:\n",
    "            area = float(area.text)\n",
    "        lakes.append([lake.find('name').text, area, code_to_country_dict[country]])\n",
    "lake_df = pd.DataFrame(lakes, columns=['name', 'area', 'country'])"
   ]
  },
  {
   "cell_type": "code",
   "execution_count": 38,
   "metadata": {
    "collapsed": false
   },
   "outputs": [
    {
     "data": {
      "text/html": [
       "<div>\n",
       "<table border=\"1\" class=\"dataframe\">\n",
       "  <thead>\n",
       "    <tr style=\"text-align: right;\">\n",
       "      <th></th>\n",
       "      <th>name</th>\n",
       "      <th>area</th>\n",
       "      <th>country</th>\n",
       "    </tr>\n",
       "  </thead>\n",
       "  <tbody>\n",
       "    <tr>\n",
       "      <th>0</th>\n",
       "      <td>Inari</td>\n",
       "      <td>1,040.00</td>\n",
       "      <td>Finland</td>\n",
       "    </tr>\n",
       "    <tr>\n",
       "      <th>1</th>\n",
       "      <td>Oulujaervi</td>\n",
       "      <td>928.00</td>\n",
       "      <td>Finland</td>\n",
       "    </tr>\n",
       "    <tr>\n",
       "      <th>2</th>\n",
       "      <td>Kallavesi</td>\n",
       "      <td>472.00</td>\n",
       "      <td>Finland</td>\n",
       "    </tr>\n",
       "    <tr>\n",
       "      <th>3</th>\n",
       "      <td>Saimaa</td>\n",
       "      <td>4,370.00</td>\n",
       "      <td>Finland</td>\n",
       "    </tr>\n",
       "    <tr>\n",
       "      <th>4</th>\n",
       "      <td>Paeijaenne</td>\n",
       "      <td>1,118.00</td>\n",
       "      <td>Finland</td>\n",
       "    </tr>\n",
       "  </tbody>\n",
       "</table>\n",
       "</div>"
      ],
      "text/plain": [
       "         name                 area  country\n",
       "0       Inari             1,040.00  Finland\n",
       "1  Oulujaervi               928.00  Finland\n",
       "2   Kallavesi               472.00  Finland\n",
       "3      Saimaa             4,370.00  Finland\n",
       "4  Paeijaenne             1,118.00  Finland"
      ]
     },
     "execution_count": 38,
     "metadata": {},
     "output_type": "execute_result"
    }
   ],
   "source": [
    "lake_df.head()"
   ]
  },
  {
   "cell_type": "code",
   "execution_count": 39,
   "metadata": {
    "collapsed": false
   },
   "outputs": [
    {
     "data": {
      "text/plain": [
       "name               Caspian Sea\n",
       "area                386,400.00\n",
       "country                 Russia\n",
       "Name: 68, dtype: object"
      ]
     },
     "execution_count": 39,
     "metadata": {},
     "output_type": "execute_result"
    }
   ],
   "source": [
    "max_lake = lake_df.loc[lake_df['area'].idxmax()]\n",
    "max_lake"
   ]
  },
  {
   "cell_type": "markdown",
   "metadata": {},
   "source": [
    "# c) Airport at highest elevation:"
   ]
  },
  {
   "cell_type": "code",
   "execution_count": 40,
   "metadata": {
    "collapsed": true
   },
   "outputs": [],
   "source": [
    "airports = []\n",
    "for airport in document.iterfind('airport'):\n",
    "    for country in airport.get('country').split():\n",
    "        elevation = airport.find('elevation')\n",
    "        if elevation is None or elevation.text is None:\n",
    "            continue\n",
    "        else:\n",
    "            elevation = float(elevation.text)\n",
    "        airports.append([airport.find('name').text, elevation, code_to_country_dict[country]])\n",
    "airport_df = pd.DataFrame(airports, columns=['name', 'elevation', 'country'])"
   ]
  },
  {
   "cell_type": "code",
   "execution_count": 41,
   "metadata": {
    "collapsed": false
   },
   "outputs": [
    {
     "data": {
      "text/html": [
       "<div>\n",
       "<table border=\"1\" class=\"dataframe\">\n",
       "  <thead>\n",
       "    <tr style=\"text-align: right;\">\n",
       "      <th></th>\n",
       "      <th>name</th>\n",
       "      <th>elevation</th>\n",
       "      <th>country</th>\n",
       "    </tr>\n",
       "  </thead>\n",
       "  <tbody>\n",
       "    <tr>\n",
       "      <th>0</th>\n",
       "      <td>Herat</td>\n",
       "      <td>977.00</td>\n",
       "      <td>Afghanistan</td>\n",
       "    </tr>\n",
       "    <tr>\n",
       "      <th>1</th>\n",
       "      <td>Kabul Intl</td>\n",
       "      <td>1,792.00</td>\n",
       "      <td>Afghanistan</td>\n",
       "    </tr>\n",
       "    <tr>\n",
       "      <th>2</th>\n",
       "      <td>Tirana Rinas</td>\n",
       "      <td>38.00</td>\n",
       "      <td>Albania</td>\n",
       "    </tr>\n",
       "    <tr>\n",
       "      <th>3</th>\n",
       "      <td>Cheikh Larbi Tebessi</td>\n",
       "      <td>811.00</td>\n",
       "      <td>Algeria</td>\n",
       "    </tr>\n",
       "    <tr>\n",
       "      <th>4</th>\n",
       "      <td>Batna Airport</td>\n",
       "      <td>822.00</td>\n",
       "      <td>Algeria</td>\n",
       "    </tr>\n",
       "  </tbody>\n",
       "</table>\n",
       "</div>"
      ],
      "text/plain": [
       "                   name            elevation      country\n",
       "0                 Herat               977.00  Afghanistan\n",
       "1            Kabul Intl             1,792.00  Afghanistan\n",
       "2          Tirana Rinas                38.00      Albania\n",
       "3  Cheikh Larbi Tebessi               811.00      Algeria\n",
       "4         Batna Airport               822.00      Algeria"
      ]
     },
     "execution_count": 41,
     "metadata": {},
     "output_type": "execute_result"
    }
   ],
   "source": [
    "airport_df.head()"
   ]
  },
  {
   "cell_type": "code",
   "execution_count": 43,
   "metadata": {
    "collapsed": false
   },
   "outputs": [
    {
     "data": {
      "text/plain": [
       "name                El Alto Intl\n",
       "elevation               4,063.00\n",
       "country                  Bolivia\n",
       "Name: 80, dtype: object"
      ]
     },
     "execution_count": 43,
     "metadata": {},
     "output_type": "execute_result"
    }
   ],
   "source": [
    "max_airport = airport_df.loc[airport_df['elevation'].idxmax()]\n",
    "max_airport"
   ]
  },
  {
   "cell_type": "code",
   "execution_count": null,
   "metadata": {
    "collapsed": true
   },
   "outputs": [],
   "source": []
  },
  {
   "cell_type": "code",
   "execution_count": null,
   "metadata": {
    "collapsed": true
   },
   "outputs": [],
   "source": []
  },
  {
   "cell_type": "code",
   "execution_count": null,
   "metadata": {
    "collapsed": true
   },
   "outputs": [],
   "source": []
  }
 ],
 "metadata": {
  "anaconda-cloud": {},
  "kernelspec": {
   "display_name": "Python [Root]",
   "language": "python",
   "name": "Python [Root]"
  },
  "language_info": {
   "codemirror_mode": {
    "name": "ipython",
    "version": 2
   },
   "file_extension": ".py",
   "mimetype": "text/x-python",
   "name": "python",
   "nbconvert_exporter": "python",
   "pygments_lexer": "ipython2",
   "version": "2.7.12"
  }
 },
 "nbformat": 4,
 "nbformat_minor": 0
}
