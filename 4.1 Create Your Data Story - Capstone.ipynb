{
 "cells": [
  {
   "cell_type": "code",
   "execution_count": 1,
   "metadata": {
    "collapsed": true
   },
   "outputs": [],
   "source": [
    "import pandas as pd\n",
    "import numpy as np"
   ]
  },
  {
   "cell_type": "code",
   "execution_count": 2,
   "metadata": {
    "collapsed": true
   },
   "outputs": [],
   "source": [
    "import matplotlib.pyplot as plt\n",
    "import seaborn as sns\n",
    "%matplotlib inline"
   ]
  },
  {
   "cell_type": "code",
   "execution_count": 34,
   "metadata": {
    "collapsed": true
   },
   "outputs": [],
   "source": [
    "pipeline = pd.read_excel('pipeline.xlsx')"
   ]
  },
  {
   "cell_type": "markdown",
   "metadata": {},
   "source": [
    "# Count of Bids versus No Bids:\n",
    "* the bid rate is 65%"
   ]
  },
  {
   "cell_type": "code",
   "execution_count": 10,
   "metadata": {
    "collapsed": false
   },
   "outputs": [
    {
     "data": {
      "text/html": [
       "<div>\n",
       "<table border=\"1\" class=\"dataframe\">\n",
       "  <thead>\n",
       "    <tr style=\"text-align: right;\">\n",
       "      <th></th>\n",
       "      <th>Bid_NoBid</th>\n",
       "    </tr>\n",
       "    <tr>\n",
       "      <th>Bid_NoBid_Category</th>\n",
       "      <th></th>\n",
       "    </tr>\n",
       "  </thead>\n",
       "  <tbody>\n",
       "    <tr>\n",
       "      <th>Bid</th>\n",
       "      <td>10133.0</td>\n",
       "    </tr>\n",
       "    <tr>\n",
       "      <th>No Bid</th>\n",
       "      <td>5563.0</td>\n",
       "    </tr>\n",
       "    <tr>\n",
       "      <th>All</th>\n",
       "      <td>15696.0</td>\n",
       "    </tr>\n",
       "  </tbody>\n",
       "</table>\n",
       "</div>"
      ],
      "text/plain": [
       "                    Bid_NoBid\n",
       "Bid_NoBid_Category           \n",
       "Bid                   10133.0\n",
       "No Bid                 5563.0\n",
       "All                   15696.0"
      ]
     },
     "execution_count": 10,
     "metadata": {},
     "output_type": "execute_result"
    }
   ],
   "source": [
    "pd.pivot_table(pipeline,index=['Bid_NoBid_Category'], values=['Bid_NoBid'], aggfunc= len, margins = True)"
   ]
  },
  {
   "cell_type": "markdown",
   "metadata": {},
   "source": [
    "# Of the 10133 \"Bid\", 1037 are \"Oustanding\" (i.e. not decided on yet), and 1452 are \"Closed Other\".  Therefore, only 7644 are eligible for \"Win Rate\" calculation.  Win = 4761"
   ]
  },
  {
   "cell_type": "code",
   "execution_count": 12,
   "metadata": {
    "collapsed": false
   },
   "outputs": [
    {
     "data": {
      "text/html": [
       "<div>\n",
       "<table border=\"1\" class=\"dataframe\">\n",
       "  <thead>\n",
       "    <tr>\n",
       "      <th></th>\n",
       "      <th colspan=\"5\" halign=\"left\">Bid_NoBid</th>\n",
       "    </tr>\n",
       "    <tr>\n",
       "      <th>WinLoseCategory</th>\n",
       "      <th>Closed Other</th>\n",
       "      <th>Lose</th>\n",
       "      <th>Outstanding</th>\n",
       "      <th>Win</th>\n",
       "      <th>All</th>\n",
       "    </tr>\n",
       "    <tr>\n",
       "      <th>Bid_NoBid_Category</th>\n",
       "      <th></th>\n",
       "      <th></th>\n",
       "      <th></th>\n",
       "      <th></th>\n",
       "      <th></th>\n",
       "    </tr>\n",
       "  </thead>\n",
       "  <tbody>\n",
       "    <tr>\n",
       "      <th>Bid</th>\n",
       "      <td>1452.0</td>\n",
       "      <td>2883.0</td>\n",
       "      <td>1037.0</td>\n",
       "      <td>4761.0</td>\n",
       "      <td>10133.0</td>\n",
       "    </tr>\n",
       "    <tr>\n",
       "      <th>No Bid</th>\n",
       "      <td>5563.0</td>\n",
       "      <td>NaN</td>\n",
       "      <td>NaN</td>\n",
       "      <td>NaN</td>\n",
       "      <td>5563.0</td>\n",
       "    </tr>\n",
       "    <tr>\n",
       "      <th>All</th>\n",
       "      <td>7015.0</td>\n",
       "      <td>2883.0</td>\n",
       "      <td>1037.0</td>\n",
       "      <td>4761.0</td>\n",
       "      <td>15696.0</td>\n",
       "    </tr>\n",
       "  </tbody>\n",
       "</table>\n",
       "</div>"
      ],
      "text/plain": [
       "                      Bid_NoBid                                     \n",
       "WinLoseCategory    Closed Other    Lose Outstanding     Win      All\n",
       "Bid_NoBid_Category                                                  \n",
       "Bid                      1452.0  2883.0      1037.0  4761.0  10133.0\n",
       "No Bid                   5563.0     NaN         NaN     NaN   5563.0\n",
       "All                      7015.0  2883.0      1037.0  4761.0  15696.0"
      ]
     },
     "execution_count": 12,
     "metadata": {},
     "output_type": "execute_result"
    }
   ],
   "source": [
    "Bid1 = pd.pivot_table(pipeline,index=['Bid_NoBid_Category'], values=['Bid_NoBid'], columns=['WinLoseCategory'], aggfunc= len, margins = True)\n",
    "Bid1"
   ]
  },
  {
   "cell_type": "code",
   "execution_count": 13,
   "metadata": {
    "collapsed": false
   },
   "outputs": [
    {
     "data": {
      "text/html": [
       "<div>\n",
       "<table border=\"1\" class=\"dataframe\">\n",
       "  <thead>\n",
       "    <tr>\n",
       "      <th></th>\n",
       "      <th colspan=\"5\" halign=\"left\">Bid_NoBid</th>\n",
       "    </tr>\n",
       "    <tr>\n",
       "      <th>WinLoseCategory</th>\n",
       "      <th>Closed Other</th>\n",
       "      <th>Lose</th>\n",
       "      <th>Outstanding</th>\n",
       "      <th>Win</th>\n",
       "      <th>All</th>\n",
       "    </tr>\n",
       "    <tr>\n",
       "      <th>Bid_NoBid_Category</th>\n",
       "      <th></th>\n",
       "      <th></th>\n",
       "      <th></th>\n",
       "      <th></th>\n",
       "      <th></th>\n",
       "    </tr>\n",
       "  </thead>\n",
       "  <tbody>\n",
       "    <tr>\n",
       "      <th>Bid</th>\n",
       "      <td>1452.0</td>\n",
       "      <td>2883.0</td>\n",
       "      <td>1037.0</td>\n",
       "      <td>4761.0</td>\n",
       "      <td>10133.0</td>\n",
       "    </tr>\n",
       "  </tbody>\n",
       "</table>\n",
       "</div>"
      ],
      "text/plain": [
       "                      Bid_NoBid                                     \n",
       "WinLoseCategory    Closed Other    Lose Outstanding     Win      All\n",
       "Bid_NoBid_Category                                                  \n",
       "Bid                      1452.0  2883.0      1037.0  4761.0  10133.0"
      ]
     },
     "execution_count": 13,
     "metadata": {},
     "output_type": "execute_result"
    }
   ],
   "source": [
    "Bid2 = Bid1.query('Bid_NoBid_Category == [\"Bid\"]')\n",
    "Bid2"
   ]
  },
  {
   "cell_type": "code",
   "execution_count": 235,
   "metadata": {
    "collapsed": false
   },
   "outputs": [
    {
     "data": {
      "text/plain": [
       "7644"
      ]
     },
     "execution_count": 235,
     "metadata": {},
     "output_type": "execute_result"
    }
   ],
   "source": [
    "# Eligible for \"Win Rate\" calculation\n",
    "\n",
    "10133 - 1037 - 1452"
   ]
  },
  {
   "cell_type": "markdown",
   "metadata": {},
   "source": [
    "# Win Rate is 62%:"
   ]
  },
  {
   "cell_type": "code",
   "execution_count": 236,
   "metadata": {
    "collapsed": false
   },
   "outputs": [
    {
     "data": {
      "text/plain": [
       "0.6228414442700158"
      ]
     },
     "execution_count": 236,
     "metadata": {},
     "output_type": "execute_result"
    }
   ],
   "source": [
    "# Win Rate Calculation\n",
    "\n",
    "float(4761) / float(7644)"
   ]
  },
  {
   "cell_type": "markdown",
   "metadata": {},
   "source": [
    "# Count of Win and Losses by Amount Range:\n",
    "\n",
    "* As you can see, in amount <1m, there are are more wins than losses\n",
    "* However, in other amount ranges, there are more losses than wins"
   ]
  },
  {
   "cell_type": "code",
   "execution_count": 14,
   "metadata": {
    "collapsed": false
   },
   "outputs": [],
   "source": [
    "pivot1 = pd.pivot_table(pipeline,index=['Amount Range'], values=['Win_Lose'], columns=['WinLoseCategory'], aggfunc= len, margins = True)"
   ]
  },
  {
   "cell_type": "code",
   "execution_count": 15,
   "metadata": {
    "collapsed": false
   },
   "outputs": [
    {
     "data": {
      "text/html": [
       "<div>\n",
       "<table border=\"1\" class=\"dataframe\">\n",
       "  <thead>\n",
       "    <tr>\n",
       "      <th></th>\n",
       "      <th colspan=\"5\" halign=\"left\">Win_Lose</th>\n",
       "    </tr>\n",
       "    <tr>\n",
       "      <th>WinLoseCategory</th>\n",
       "      <th>Closed Other</th>\n",
       "      <th>Lose</th>\n",
       "      <th>Outstanding</th>\n",
       "      <th>Win</th>\n",
       "      <th>All</th>\n",
       "    </tr>\n",
       "    <tr>\n",
       "      <th>Amount Range</th>\n",
       "      <th></th>\n",
       "      <th></th>\n",
       "      <th></th>\n",
       "      <th></th>\n",
       "      <th></th>\n",
       "    </tr>\n",
       "  </thead>\n",
       "  <tbody>\n",
       "    <tr>\n",
       "      <th>1 - 1m</th>\n",
       "      <td>2552.0</td>\n",
       "      <td>1753.0</td>\n",
       "      <td>692.0</td>\n",
       "      <td>3956.0</td>\n",
       "      <td>6690.0</td>\n",
       "    </tr>\n",
       "    <tr>\n",
       "      <th>10m - 30m</th>\n",
       "      <td>353.0</td>\n",
       "      <td>100.0</td>\n",
       "      <td>26.0</td>\n",
       "      <td>60.0</td>\n",
       "      <td>207.0</td>\n",
       "    </tr>\n",
       "    <tr>\n",
       "      <th>1m - 10m</th>\n",
       "      <td>1139.0</td>\n",
       "      <td>629.0</td>\n",
       "      <td>193.0</td>\n",
       "      <td>559.0</td>\n",
       "      <td>1464.0</td>\n",
       "    </tr>\n",
       "    <tr>\n",
       "      <th>30m &gt;</th>\n",
       "      <td>181.0</td>\n",
       "      <td>46.0</td>\n",
       "      <td>19.0</td>\n",
       "      <td>30.0</td>\n",
       "      <td>97.0</td>\n",
       "    </tr>\n",
       "    <tr>\n",
       "      <th>Zero</th>\n",
       "      <td>2790.0</td>\n",
       "      <td>355.0</td>\n",
       "      <td>107.0</td>\n",
       "      <td>156.0</td>\n",
       "      <td>638.0</td>\n",
       "    </tr>\n",
       "    <tr>\n",
       "      <th>All</th>\n",
       "      <td>1452.0</td>\n",
       "      <td>2883.0</td>\n",
       "      <td>NaN</td>\n",
       "      <td>4761.0</td>\n",
       "      <td>9096.0</td>\n",
       "    </tr>\n",
       "  </tbody>\n",
       "</table>\n",
       "</div>"
      ],
      "text/plain": [
       "                    Win_Lose                                    \n",
       "WinLoseCategory Closed Other    Lose Outstanding     Win     All\n",
       "Amount Range                                                    \n",
       "1 - 1m                2552.0  1753.0       692.0  3956.0  6690.0\n",
       "10m - 30m              353.0   100.0        26.0    60.0   207.0\n",
       "1m - 10m              1139.0   629.0       193.0   559.0  1464.0\n",
       "30m >                  181.0    46.0        19.0    30.0    97.0\n",
       "Zero                  2790.0   355.0       107.0   156.0   638.0\n",
       "All                   1452.0  2883.0         NaN  4761.0  9096.0"
      ]
     },
     "execution_count": 15,
     "metadata": {},
     "output_type": "execute_result"
    }
   ],
   "source": [
    "pivot1"
   ]
  },
  {
   "cell_type": "code",
   "execution_count": 16,
   "metadata": {
    "collapsed": false
   },
   "outputs": [
    {
     "data": {
      "text/plain": [
       "<matplotlib.axes._subplots.AxesSubplot at 0xe872150>"
      ]
     },
     "execution_count": 16,
     "metadata": {},
     "output_type": "execute_result"
    },
    {
     "data": {
      "image/png": "[encoded data removed]",
      "text/plain": [
       "<matplotlib.figure.Figure at 0xe872830>"
      ]
     },
     "metadata": {},
     "output_type": "display_data"
    }
   ],
   "source": [
    "pivot1.plot(kind='bar',figsize=(20,10))"
   ]
  },
  {
   "cell_type": "markdown",
   "metadata": {},
   "source": [
    "# Count of Wins and Losses by Contract Type:\n",
    "* as expected, we tend to win more Fixed Price contracts (than the other contract types).  Fixed Price contracts are the most common type of contract type, so it's expected we would have more counts in that category."
   ]
  },
  {
   "cell_type": "code",
   "execution_count": 17,
   "metadata": {
    "collapsed": false,
    "scrolled": true
   },
   "outputs": [
    {
     "data": {
      "text/html": [
       "<div>\n",
       "<table border=\"1\" class=\"dataframe\">\n",
       "  <thead>\n",
       "    <tr>\n",
       "      <th></th>\n",
       "      <th colspan=\"5\" halign=\"left\">Win_Lose</th>\n",
       "    </tr>\n",
       "    <tr>\n",
       "      <th>WinLoseCategory</th>\n",
       "      <th>Closed Other</th>\n",
       "      <th>Lose</th>\n",
       "      <th>Outstanding</th>\n",
       "      <th>Win</th>\n",
       "      <th>All</th>\n",
       "    </tr>\n",
       "    <tr>\n",
       "      <th>Contract Type</th>\n",
       "      <th></th>\n",
       "      <th></th>\n",
       "      <th></th>\n",
       "      <th></th>\n",
       "      <th></th>\n",
       "    </tr>\n",
       "  </thead>\n",
       "  <tbody>\n",
       "    <tr>\n",
       "      <th>0</th>\n",
       "      <td>3917.0</td>\n",
       "      <td>3.0</td>\n",
       "      <td>0.0</td>\n",
       "      <td>0.0</td>\n",
       "      <td>3.0</td>\n",
       "    </tr>\n",
       "    <tr>\n",
       "      <th>Commercial</th>\n",
       "      <td>617.0</td>\n",
       "      <td>171.0</td>\n",
       "      <td>127.0</td>\n",
       "      <td>1049.0</td>\n",
       "      <td>1549.0</td>\n",
       "    </tr>\n",
       "    <tr>\n",
       "      <th>Cost Reimbursable</th>\n",
       "      <td>571.0</td>\n",
       "      <td>464.0</td>\n",
       "      <td>93.0</td>\n",
       "      <td>682.0</td>\n",
       "      <td>1377.0</td>\n",
       "    </tr>\n",
       "    <tr>\n",
       "      <th>FP</th>\n",
       "      <td>667.0</td>\n",
       "      <td>575.0</td>\n",
       "      <td>200.0</td>\n",
       "      <td>1344.0</td>\n",
       "      <td>2246.0</td>\n",
       "    </tr>\n",
       "    <tr>\n",
       "      <th>Non-Fee Bearing</th>\n",
       "      <td>703.0</td>\n",
       "      <td>1154.0</td>\n",
       "      <td>362.0</td>\n",
       "      <td>718.0</td>\n",
       "      <td>2204.0</td>\n",
       "    </tr>\n",
       "    <tr>\n",
       "      <th>Other</th>\n",
       "      <td>239.0</td>\n",
       "      <td>136.0</td>\n",
       "      <td>101.0</td>\n",
       "      <td>197.0</td>\n",
       "      <td>417.0</td>\n",
       "    </tr>\n",
       "    <tr>\n",
       "      <th>T&amp;M</th>\n",
       "      <td>301.0</td>\n",
       "      <td>380.0</td>\n",
       "      <td>154.0</td>\n",
       "      <td>771.0</td>\n",
       "      <td>1300.0</td>\n",
       "    </tr>\n",
       "    <tr>\n",
       "      <th>All</th>\n",
       "      <td>1452.0</td>\n",
       "      <td>2883.0</td>\n",
       "      <td>NaN</td>\n",
       "      <td>4761.0</td>\n",
       "      <td>9096.0</td>\n",
       "    </tr>\n",
       "  </tbody>\n",
       "</table>\n",
       "</div>"
      ],
      "text/plain": [
       "                      Win_Lose                                    \n",
       "WinLoseCategory   Closed Other    Lose Outstanding     Win     All\n",
       "Contract Type                                                     \n",
       "0                       3917.0     3.0         0.0     0.0     3.0\n",
       "Commercial               617.0   171.0       127.0  1049.0  1549.0\n",
       "Cost Reimbursable        571.0   464.0        93.0   682.0  1377.0\n",
       "FP                       667.0   575.0       200.0  1344.0  2246.0\n",
       "Non-Fee Bearing          703.0  1154.0       362.0   718.0  2204.0\n",
       "Other                    239.0   136.0       101.0   197.0   417.0\n",
       "T&M                      301.0   380.0       154.0   771.0  1300.0\n",
       "All                     1452.0  2883.0         NaN  4761.0  9096.0"
      ]
     },
     "execution_count": 17,
     "metadata": {},
     "output_type": "execute_result"
    }
   ],
   "source": [
    "pd.pivot_table(pipeline,index=['Contract Type'], values=['Win_Lose'], columns=['WinLoseCategory'], aggfunc= len, margins = True, fill_value=0)"
   ]
  },
  {
   "cell_type": "markdown",
   "metadata": {},
   "source": [
    "# Count of Wins and Losses by Market:\n",
    "* The Health market has the highest counts"
   ]
  },
  {
   "cell_type": "code",
   "execution_count": 18,
   "metadata": {
    "collapsed": false
   },
   "outputs": [
    {
     "data": {
      "text/html": [
       "<div>\n",
       "<table border=\"1\" class=\"dataframe\">\n",
       "  <thead>\n",
       "    <tr>\n",
       "      <th></th>\n",
       "      <th colspan=\"5\" halign=\"left\">Win_Lose</th>\n",
       "    </tr>\n",
       "    <tr>\n",
       "      <th>WinLoseCategory</th>\n",
       "      <th>Closed Other</th>\n",
       "      <th>Lose</th>\n",
       "      <th>Outstanding</th>\n",
       "      <th>Win</th>\n",
       "      <th>All</th>\n",
       "    </tr>\n",
       "    <tr>\n",
       "      <th>Market</th>\n",
       "      <th></th>\n",
       "      <th></th>\n",
       "      <th></th>\n",
       "      <th></th>\n",
       "      <th></th>\n",
       "    </tr>\n",
       "  </thead>\n",
       "  <tbody>\n",
       "    <tr>\n",
       "      <th>0</th>\n",
       "      <td>1859.0</td>\n",
       "      <td>91.0</td>\n",
       "      <td>8.0</td>\n",
       "      <td>53.0</td>\n",
       "      <td>222.0</td>\n",
       "    </tr>\n",
       "    <tr>\n",
       "      <th>Additional Markets</th>\n",
       "      <td>656.0</td>\n",
       "      <td>402.0</td>\n",
       "      <td>140.0</td>\n",
       "      <td>704.0</td>\n",
       "      <td>1401.0</td>\n",
       "    </tr>\n",
       "    <tr>\n",
       "      <th>Education &amp; Workforce Development</th>\n",
       "      <td>292.0</td>\n",
       "      <td>172.0</td>\n",
       "      <td>97.0</td>\n",
       "      <td>375.0</td>\n",
       "      <td>640.0</td>\n",
       "    </tr>\n",
       "    <tr>\n",
       "      <th>Energy &amp; Environment</th>\n",
       "      <td>774.0</td>\n",
       "      <td>461.0</td>\n",
       "      <td>166.0</td>\n",
       "      <td>966.0</td>\n",
       "      <td>1681.0</td>\n",
       "    </tr>\n",
       "    <tr>\n",
       "      <th>Food &amp; Agriculture</th>\n",
       "      <td>170.0</td>\n",
       "      <td>92.0</td>\n",
       "      <td>33.0</td>\n",
       "      <td>151.0</td>\n",
       "      <td>285.0</td>\n",
       "    </tr>\n",
       "    <tr>\n",
       "      <th>Health</th>\n",
       "      <td>3045.0</td>\n",
       "      <td>1533.0</td>\n",
       "      <td>514.0</td>\n",
       "      <td>2055.0</td>\n",
       "      <td>4151.0</td>\n",
       "    </tr>\n",
       "    <tr>\n",
       "      <th>Multi-area</th>\n",
       "      <td>219.0</td>\n",
       "      <td>132.0</td>\n",
       "      <td>79.0</td>\n",
       "      <td>457.0</td>\n",
       "      <td>716.0</td>\n",
       "    </tr>\n",
       "    <tr>\n",
       "      <th>All</th>\n",
       "      <td>1452.0</td>\n",
       "      <td>2883.0</td>\n",
       "      <td>NaN</td>\n",
       "      <td>4761.0</td>\n",
       "      <td>9096.0</td>\n",
       "    </tr>\n",
       "  </tbody>\n",
       "</table>\n",
       "</div>"
      ],
      "text/plain": [
       "                                      Win_Lose                              \\\n",
       "WinLoseCategory                   Closed Other    Lose Outstanding     Win   \n",
       "Market                                                                       \n",
       "0                                       1859.0    91.0         8.0    53.0   \n",
       "Additional Markets                       656.0   402.0       140.0   704.0   \n",
       "Education & Workforce Development        292.0   172.0        97.0   375.0   \n",
       "Energy & Environment                     774.0   461.0       166.0   966.0   \n",
       "Food & Agriculture                       170.0    92.0        33.0   151.0   \n",
       "Health                                  3045.0  1533.0       514.0  2055.0   \n",
       "Multi-area                               219.0   132.0        79.0   457.0   \n",
       "All                                     1452.0  2883.0         NaN  4761.0   \n",
       "\n",
       "                                           \n",
       "WinLoseCategory                       All  \n",
       "Market                                     \n",
       "0                                   222.0  \n",
       "Additional Markets                 1401.0  \n",
       "Education & Workforce Development   640.0  \n",
       "Energy & Environment               1681.0  \n",
       "Food & Agriculture                  285.0  \n",
       "Health                             4151.0  \n",
       "Multi-area                          716.0  \n",
       "All                                9096.0  "
      ]
     },
     "execution_count": 18,
     "metadata": {},
     "output_type": "execute_result"
    }
   ],
   "source": [
    "pd.pivot_table(pipeline,index=['Market'], values=['Win_Lose'], columns=['WinLoseCategory'], aggfunc= len, margins = True, fill_value=0)"
   ]
  },
  {
   "cell_type": "markdown",
   "metadata": {},
   "source": [
    "# Count of Wins and Losses by Win / Lose Category:"
   ]
  },
  {
   "cell_type": "code",
   "execution_count": 167,
   "metadata": {
    "collapsed": false
   },
   "outputs": [
    {
     "data": {
      "text/html": [
       "<div>\n",
       "<table border=\"1\" class=\"dataframe\">\n",
       "  <thead>\n",
       "    <tr style=\"text-align: right;\">\n",
       "      <th></th>\n",
       "      <th>Win / Lose</th>\n",
       "    </tr>\n",
       "    <tr>\n",
       "      <th>WinLoseCat</th>\n",
       "      <th></th>\n",
       "    </tr>\n",
       "  </thead>\n",
       "  <tbody>\n",
       "    <tr>\n",
       "      <th>Closed Other</th>\n",
       "      <td>7015.0</td>\n",
       "    </tr>\n",
       "    <tr>\n",
       "      <th>Lose</th>\n",
       "      <td>2883.0</td>\n",
       "    </tr>\n",
       "    <tr>\n",
       "      <th>Outstanding</th>\n",
       "      <td>1037.0</td>\n",
       "    </tr>\n",
       "    <tr>\n",
       "      <th>Win</th>\n",
       "      <td>4761.0</td>\n",
       "    </tr>\n",
       "    <tr>\n",
       "      <th>All</th>\n",
       "      <td>9096.0</td>\n",
       "    </tr>\n",
       "  </tbody>\n",
       "</table>\n",
       "</div>"
      ],
      "text/plain": [
       "              Win / Lose\n",
       "WinLoseCat              \n",
       "Closed Other      7015.0\n",
       "Lose              2883.0\n",
       "Outstanding       1037.0\n",
       "Win               4761.0\n",
       "All               9096.0"
      ]
     },
     "execution_count": 167,
     "metadata": {},
     "output_type": "execute_result"
    }
   ],
   "source": [
    "pd.pivot_table(pipeline,index=['WinLoseCat'], values=['Win / Lose'], aggfunc= len, margins = True)"
   ]
  },
  {
   "cell_type": "markdown",
   "metadata": {},
   "source": [
    "# Pivot of Win / Lose Category and Days in Pipeline by Stages:\n",
    "* Comparing Wins versus losses, we can see that Wins spend more days in each of the pipeline stages"
   ]
  },
  {
   "cell_type": "code",
   "execution_count": 19,
   "metadata": {
    "collapsed": false
   },
   "outputs": [
    {
     "data": {
      "text/html": [
       "<div>\n",
       "<table border=\"1\" class=\"dataframe\">\n",
       "  <thead>\n",
       "    <tr style=\"text-align: right;\">\n",
       "      <th></th>\n",
       "      <th>Days in Negotiation</th>\n",
       "      <th>Days in Planning &amp; Capture</th>\n",
       "      <th>Days in Proposal/Price Quote</th>\n",
       "      <th>Days in Qualification</th>\n",
       "      <th>Days in Review</th>\n",
       "    </tr>\n",
       "    <tr>\n",
       "      <th>WinLoseCategory</th>\n",
       "      <th></th>\n",
       "      <th></th>\n",
       "      <th></th>\n",
       "      <th></th>\n",
       "      <th></th>\n",
       "    </tr>\n",
       "  </thead>\n",
       "  <tbody>\n",
       "    <tr>\n",
       "      <th>Closed Other</th>\n",
       "      <td>947.0</td>\n",
       "      <td>49517.0</td>\n",
       "      <td>106401.0</td>\n",
       "      <td>383573.0</td>\n",
       "      <td>59546.0</td>\n",
       "    </tr>\n",
       "    <tr>\n",
       "      <th>Lose</th>\n",
       "      <td>2908.0</td>\n",
       "      <td>7068.0</td>\n",
       "      <td>59539.0</td>\n",
       "      <td>19780.0</td>\n",
       "      <td>242232.0</td>\n",
       "    </tr>\n",
       "    <tr>\n",
       "      <th>Outstanding</th>\n",
       "      <td>2649.0</td>\n",
       "      <td>8299.0</td>\n",
       "      <td>82882.0</td>\n",
       "      <td>28537.0</td>\n",
       "      <td>218924.0</td>\n",
       "    </tr>\n",
       "    <tr>\n",
       "      <th>Win</th>\n",
       "      <td>9467.0</td>\n",
       "      <td>12850.0</td>\n",
       "      <td>84554.0</td>\n",
       "      <td>32060.0</td>\n",
       "      <td>172784.0</td>\n",
       "    </tr>\n",
       "    <tr>\n",
       "      <th>All</th>\n",
       "      <td>15971.0</td>\n",
       "      <td>77734.0</td>\n",
       "      <td>333376.0</td>\n",
       "      <td>463950.0</td>\n",
       "      <td>693486.0</td>\n",
       "    </tr>\n",
       "  </tbody>\n",
       "</table>\n",
       "</div>"
      ],
      "text/plain": [
       "                 Days in Negotiation  Days in Planning & Capture  \\\n",
       "WinLoseCategory                                                    \n",
       "Closed Other                   947.0                     49517.0   \n",
       "Lose                          2908.0                      7068.0   \n",
       "Outstanding                   2649.0                      8299.0   \n",
       "Win                           9467.0                     12850.0   \n",
       "All                          15971.0                     77734.0   \n",
       "\n",
       "                 Days in Proposal/Price Quote  Days in Qualification  \\\n",
       "WinLoseCategory                                                        \n",
       "Closed Other                         106401.0               383573.0   \n",
       "Lose                                  59539.0                19780.0   \n",
       "Outstanding                           82882.0                28537.0   \n",
       "Win                                   84554.0                32060.0   \n",
       "All                                  333376.0               463950.0   \n",
       "\n",
       "                 Days in Review  \n",
       "WinLoseCategory                  \n",
       "Closed Other            59546.0  \n",
       "Lose                   242232.0  \n",
       "Outstanding            218924.0  \n",
       "Win                    172784.0  \n",
       "All                    693486.0  "
      ]
     },
     "execution_count": 19,
     "metadata": {},
     "output_type": "execute_result"
    }
   ],
   "source": [
    "pd.pivot_table(pipeline,index=['WinLoseCategory'], values=['Days in Qualification','Days in Planning & Capture','Days in Proposal/Price Quote','Days in Negotiation','Days in Review'], aggfunc= np.sum, margins = True)"
   ]
  },
  {
   "cell_type": "markdown",
   "metadata": {},
   "source": [
    "# Count of Wins / Losses by Win / Loss Category with Probability of Winning Range as column:\n",
    "\n",
    "* as expected, the higher the probability, the higher the count of wins\n",
    "* surprisingly it appears that opportunity leaders are labelling the probabilities relatively accurately in salesforce."
   ]
  },
  {
   "cell_type": "code",
   "execution_count": 20,
   "metadata": {
    "collapsed": false
   },
   "outputs": [
    {
     "data": {
      "text/html": [
       "<div>\n",
       "<table border=\"1\" class=\"dataframe\">\n",
       "  <thead>\n",
       "    <tr>\n",
       "      <th></th>\n",
       "      <th colspan=\"8\" halign=\"left\">Win_Lose</th>\n",
       "    </tr>\n",
       "    <tr>\n",
       "      <th>Probability of Winning Range</th>\n",
       "      <th>0</th>\n",
       "      <th>1 - 20</th>\n",
       "      <th>21 - 40</th>\n",
       "      <th>41 - 60</th>\n",
       "      <th>61 - 80</th>\n",
       "      <th>81 - 99</th>\n",
       "      <th>Sole Source</th>\n",
       "      <th>All</th>\n",
       "    </tr>\n",
       "    <tr>\n",
       "      <th>WinLoseCategory</th>\n",
       "      <th></th>\n",
       "      <th></th>\n",
       "      <th></th>\n",
       "      <th></th>\n",
       "      <th></th>\n",
       "      <th></th>\n",
       "      <th></th>\n",
       "      <th></th>\n",
       "    </tr>\n",
       "  </thead>\n",
       "  <tbody>\n",
       "    <tr>\n",
       "      <th>Closed Other</th>\n",
       "      <td>4018.0</td>\n",
       "      <td>664.0</td>\n",
       "      <td>814.0</td>\n",
       "      <td>647.0</td>\n",
       "      <td>341.0</td>\n",
       "      <td>226.0</td>\n",
       "      <td>305.0</td>\n",
       "      <td>1452.0</td>\n",
       "    </tr>\n",
       "    <tr>\n",
       "      <th>Lose</th>\n",
       "      <td>12.0</td>\n",
       "      <td>711.0</td>\n",
       "      <td>1003.0</td>\n",
       "      <td>718.0</td>\n",
       "      <td>300.0</td>\n",
       "      <td>87.0</td>\n",
       "      <td>52.0</td>\n",
       "      <td>2883.0</td>\n",
       "    </tr>\n",
       "    <tr>\n",
       "      <th>Outstanding</th>\n",
       "      <td>37.0</td>\n",
       "      <td>261.0</td>\n",
       "      <td>249.0</td>\n",
       "      <td>168.0</td>\n",
       "      <td>95.0</td>\n",
       "      <td>91.0</td>\n",
       "      <td>136.0</td>\n",
       "      <td>NaN</td>\n",
       "    </tr>\n",
       "    <tr>\n",
       "      <th>Win</th>\n",
       "      <td>119.0</td>\n",
       "      <td>169.0</td>\n",
       "      <td>406.0</td>\n",
       "      <td>583.0</td>\n",
       "      <td>660.0</td>\n",
       "      <td>864.0</td>\n",
       "      <td>1960.0</td>\n",
       "      <td>4761.0</td>\n",
       "    </tr>\n",
       "    <tr>\n",
       "      <th>All</th>\n",
       "      <td>152.0</td>\n",
       "      <td>1093.0</td>\n",
       "      <td>1725.0</td>\n",
       "      <td>1634.0</td>\n",
       "      <td>1170.0</td>\n",
       "      <td>1107.0</td>\n",
       "      <td>2215.0</td>\n",
       "      <td>9096.0</td>\n",
       "    </tr>\n",
       "  </tbody>\n",
       "</table>\n",
       "</div>"
      ],
      "text/plain": [
       "                             Win_Lose                                          \\\n",
       "Probability of Winning Range        0  1 - 20 21 - 40 41 - 60 61 - 80 81 - 99   \n",
       "WinLoseCategory                                                                 \n",
       "Closed Other                   4018.0   664.0   814.0   647.0   341.0   226.0   \n",
       "Lose                             12.0   711.0  1003.0   718.0   300.0    87.0   \n",
       "Outstanding                      37.0   261.0   249.0   168.0    95.0    91.0   \n",
       "Win                             119.0   169.0   406.0   583.0   660.0   864.0   \n",
       "All                             152.0  1093.0  1725.0  1634.0  1170.0  1107.0   \n",
       "\n",
       "                                                  \n",
       "Probability of Winning Range Sole Source     All  \n",
       "WinLoseCategory                                   \n",
       "Closed Other                       305.0  1452.0  \n",
       "Lose                                52.0  2883.0  \n",
       "Outstanding                        136.0     NaN  \n",
       "Win                               1960.0  4761.0  \n",
       "All                               2215.0  9096.0  "
      ]
     },
     "execution_count": 20,
     "metadata": {},
     "output_type": "execute_result"
    }
   ],
   "source": [
    "pd.pivot_table(pipeline,index=['WinLoseCategory'], values=['Win_Lose'],columns=['Probability of Winning Range'], aggfunc= len, margins = True)"
   ]
  },
  {
   "cell_type": "markdown",
   "metadata": {},
   "source": [
    "# Sum of B&P amounts by Win / Lose Category:\n",
    "* Surprisingly we are spending more B&P money on losses than on wins"
   ]
  },
  {
   "cell_type": "code",
   "execution_count": 30,
   "metadata": {
    "collapsed": false
   },
   "outputs": [
    {
     "data": {
      "text/html": [
       "<div>\n",
       "<table border=\"1\" class=\"dataframe\">\n",
       "  <thead>\n",
       "    <tr style=\"text-align: right;\">\n",
       "      <th></th>\n",
       "      <th>Actual B&amp;P Amt</th>\n",
       "      <th>Estimated B&amp;P Amt</th>\n",
       "    </tr>\n",
       "    <tr>\n",
       "      <th>WinLoseCategory</th>\n",
       "      <th></th>\n",
       "      <th></th>\n",
       "    </tr>\n",
       "  </thead>\n",
       "  <tbody>\n",
       "    <tr>\n",
       "      <th>Closed Other</th>\n",
       "      <td>1.351936e+07</td>\n",
       "      <td>4.156797e+07</td>\n",
       "    </tr>\n",
       "    <tr>\n",
       "      <th>Lose</th>\n",
       "      <td>6.363901e+07</td>\n",
       "      <td>5.174423e+07</td>\n",
       "    </tr>\n",
       "    <tr>\n",
       "      <th>Outstanding</th>\n",
       "      <td>1.283889e+07</td>\n",
       "      <td>1.549466e+07</td>\n",
       "    </tr>\n",
       "    <tr>\n",
       "      <th>Win</th>\n",
       "      <td>5.649535e+07</td>\n",
       "      <td>3.996588e+07</td>\n",
       "    </tr>\n",
       "    <tr>\n",
       "      <th>All</th>\n",
       "      <td>1.464926e+08</td>\n",
       "      <td>1.487728e+08</td>\n",
       "    </tr>\n",
       "  </tbody>\n",
       "</table>\n",
       "</div>"
      ],
      "text/plain": [
       "                 Actual B&P Amt  Estimated B&P Amt\n",
       "WinLoseCategory                                   \n",
       "Closed Other       1.351936e+07       4.156797e+07\n",
       "Lose               6.363901e+07       5.174423e+07\n",
       "Outstanding        1.283889e+07       1.549466e+07\n",
       "Win                5.649535e+07       3.996588e+07\n",
       "All                1.464926e+08       1.487728e+08"
      ]
     },
     "execution_count": 30,
     "metadata": {},
     "output_type": "execute_result"
    }
   ],
   "source": [
    "PivotBP = pd.pivot_table(pipeline,index=['WinLoseCategory'], values=['Actual B&P Amt','Estimated B&P Amt'], aggfunc= np.sum, margins = True)\n",
    "PivotBP"
   ]
  },
  {
   "cell_type": "code",
   "execution_count": 31,
   "metadata": {
    "collapsed": false
   },
   "outputs": [
    {
     "data": {
      "text/plain": [
       "<matplotlib.axes._subplots.AxesSubplot at 0xe903710>"
      ]
     },
     "execution_count": 31,
     "metadata": {},
     "output_type": "execute_result"
    },
    {
     "data": {
      "image/png": "[encoded data removed]",
      "text/plain": [
       "<matplotlib.figure.Figure at 0x10e67830>"
      ]
     },
     "metadata": {},
     "output_type": "display_data"
    }
   ],
   "source": [
    "PivotBP.plot(kind='bar',figsize=(20,10))"
   ]
  },
  {
   "cell_type": "markdown",
   "metadata": {},
   "source": [
    "# Why is the Amount column in scientific notation?\n",
    "* I think it is because the max amount is $4 billion"
   ]
  },
  {
   "cell_type": "code",
   "execution_count": 76,
   "metadata": {
    "collapsed": false
   },
   "outputs": [
    {
     "data": {
      "text/plain": [
       "count    1.569600e+04\n",
       "mean     2.664631e+06\n",
       "std      3.407707e+07\n",
       "min      0.000000e+00\n",
       "25%      6.000000e+03\n",
       "50%      1.199790e+05\n",
       "75%      6.956608e+05\n",
       "max      4.000000e+09\n",
       "Name: Amount, dtype: float64"
      ]
     },
     "execution_count": 76,
     "metadata": {},
     "output_type": "execute_result"
    }
   ],
   "source": [
    "pipeline['Amount'].describe()"
   ]
  },
  {
   "cell_type": "code",
   "execution_count": 22,
   "metadata": {
    "collapsed": false
   },
   "outputs": [
    {
     "data": {
      "text/plain": [
       "<matplotlib.axes._subplots.AxesSubplot at 0xe7bbf10>"
      ]
     },
     "execution_count": 22,
     "metadata": {},
     "output_type": "execute_result"
    },
    {
     "data": {
      "image/png": "[encoded data removed]",
      "text/plain": [
       "<matplotlib.figure.Figure at 0xe79a2f0>"
      ]
     },
     "metadata": {},
     "output_type": "display_data"
    }
   ],
   "source": [
    "p = pipeline\n",
    "p = p[p['Win_Lose'] == 1]\n",
    "p['Amount Range'].value_counts().sort_index().plot(kind='bar')"
   ]
  },
  {
   "cell_type": "code",
   "execution_count": 23,
   "metadata": {
    "collapsed": false
   },
   "outputs": [
    {
     "data": {
      "text/plain": [
       "<matplotlib.axes._subplots.AxesSubplot at 0xe7f9af0>"
      ]
     },
     "execution_count": 23,
     "metadata": {},
     "output_type": "execute_result"
    },
    {
     "data": {
      "image/png": "[encoded data removed]",
      "text/plain": [
       "<matplotlib.figure.Figure at 0xe7da7f0>"
      ]
     },
     "metadata": {},
     "output_type": "display_data"
    }
   ],
   "source": [
    "p = pipeline\n",
    "p = p[p['Win_Lose'] == 0]\n",
    "p['Amount Range'].value_counts().sort_index().plot(kind='bar')"
   ]
  },
  {
   "cell_type": "markdown",
   "metadata": {},
   "source": [
    "# Count of Win / Losses summarized by Estimated Fee %:"
   ]
  },
  {
   "cell_type": "code",
   "execution_count": 24,
   "metadata": {
    "collapsed": false
   },
   "outputs": [
    {
     "data": {
      "text/html": [
       "<div>\n",
       "<table border=\"1\" class=\"dataframe\">\n",
       "  <thead>\n",
       "    <tr>\n",
       "      <th></th>\n",
       "      <th colspan=\"5\" halign=\"left\">Win_Lose</th>\n",
       "    </tr>\n",
       "    <tr>\n",
       "      <th>WinLoseCategory</th>\n",
       "      <th>Closed Other</th>\n",
       "      <th>Lose</th>\n",
       "      <th>Outstanding</th>\n",
       "      <th>Win</th>\n",
       "      <th>All</th>\n",
       "    </tr>\n",
       "    <tr>\n",
       "      <th>Estimated Fee %</th>\n",
       "      <th></th>\n",
       "      <th></th>\n",
       "      <th></th>\n",
       "      <th></th>\n",
       "      <th></th>\n",
       "    </tr>\n",
       "  </thead>\n",
       "  <tbody>\n",
       "    <tr>\n",
       "      <th>-0.38</th>\n",
       "      <td>NaN</td>\n",
       "      <td>NaN</td>\n",
       "      <td>NaN</td>\n",
       "      <td>1.0</td>\n",
       "      <td>1.0</td>\n",
       "    </tr>\n",
       "    <tr>\n",
       "      <th>-0.22</th>\n",
       "      <td>NaN</td>\n",
       "      <td>2.0</td>\n",
       "      <td>NaN</td>\n",
       "      <td>NaN</td>\n",
       "      <td>2.0</td>\n",
       "    </tr>\n",
       "    <tr>\n",
       "      <th>-0.15</th>\n",
       "      <td>1.0</td>\n",
       "      <td>NaN</td>\n",
       "      <td>NaN</td>\n",
       "      <td>NaN</td>\n",
       "      <td>1.0</td>\n",
       "    </tr>\n",
       "    <tr>\n",
       "      <th>0.0</th>\n",
       "      <td>5371.0</td>\n",
       "      <td>1210.0</td>\n",
       "      <td>469.0</td>\n",
       "      <td>1005.0</td>\n",
       "      <td>2591.0</td>\n",
       "    </tr>\n",
       "    <tr>\n",
       "      <th>0.0004</th>\n",
       "      <td>1.0</td>\n",
       "      <td>NaN</td>\n",
       "      <td>NaN</td>\n",
       "      <td>NaN</td>\n",
       "      <td>NaN</td>\n",
       "    </tr>\n",
       "    <tr>\n",
       "      <th>0.0007</th>\n",
       "      <td>NaN</td>\n",
       "      <td>NaN</td>\n",
       "      <td>1.0</td>\n",
       "      <td>NaN</td>\n",
       "      <td>NaN</td>\n",
       "    </tr>\n",
       "    <tr>\n",
       "      <th>0.001</th>\n",
       "      <td>NaN</td>\n",
       "      <td>NaN</td>\n",
       "      <td>NaN</td>\n",
       "      <td>2.0</td>\n",
       "      <td>2.0</td>\n",
       "    </tr>\n",
       "    <tr>\n",
       "      <th>0.004</th>\n",
       "      <td>NaN</td>\n",
       "      <td>NaN</td>\n",
       "      <td>NaN</td>\n",
       "      <td>2.0</td>\n",
       "      <td>2.0</td>\n",
       "    </tr>\n",
       "    <tr>\n",
       "      <th>0.005</th>\n",
       "      <td>NaN</td>\n",
       "      <td>NaN</td>\n",
       "      <td>1.0</td>\n",
       "      <td>1.0</td>\n",
       "      <td>1.0</td>\n",
       "    </tr>\n",
       "    <tr>\n",
       "      <th>0.01</th>\n",
       "      <td>2.0</td>\n",
       "      <td>5.0</td>\n",
       "      <td>1.0</td>\n",
       "      <td>6.0</td>\n",
       "      <td>12.0</td>\n",
       "    </tr>\n",
       "    <tr>\n",
       "      <th>0.012</th>\n",
       "      <td>NaN</td>\n",
       "      <td>NaN</td>\n",
       "      <td>1.0</td>\n",
       "      <td>NaN</td>\n",
       "      <td>NaN</td>\n",
       "    </tr>\n",
       "    <tr>\n",
       "      <th>0.018</th>\n",
       "      <td>NaN</td>\n",
       "      <td>NaN</td>\n",
       "      <td>NaN</td>\n",
       "      <td>2.0</td>\n",
       "      <td>2.0</td>\n",
       "    </tr>\n",
       "    <tr>\n",
       "      <th>0.02</th>\n",
       "      <td>NaN</td>\n",
       "      <td>2.0</td>\n",
       "      <td>5.0</td>\n",
       "      <td>3.0</td>\n",
       "      <td>5.0</td>\n",
       "    </tr>\n",
       "    <tr>\n",
       "      <th>0.03</th>\n",
       "      <td>11.0</td>\n",
       "      <td>9.0</td>\n",
       "      <td>7.0</td>\n",
       "      <td>37.0</td>\n",
       "      <td>50.0</td>\n",
       "    </tr>\n",
       "    <tr>\n",
       "      <th>0.035</th>\n",
       "      <td>1.0</td>\n",
       "      <td>6.0</td>\n",
       "      <td>1.0</td>\n",
       "      <td>10.0</td>\n",
       "      <td>16.0</td>\n",
       "    </tr>\n",
       "    <tr>\n",
       "      <th>0.04</th>\n",
       "      <td>10.0</td>\n",
       "      <td>16.0</td>\n",
       "      <td>6.0</td>\n",
       "      <td>45.0</td>\n",
       "      <td>66.0</td>\n",
       "    </tr>\n",
       "    <tr>\n",
       "      <th>0.045</th>\n",
       "      <td>1.0</td>\n",
       "      <td>2.0</td>\n",
       "      <td>NaN</td>\n",
       "      <td>1.0</td>\n",
       "      <td>3.0</td>\n",
       "    </tr>\n",
       "    <tr>\n",
       "      <th>0.0476</th>\n",
       "      <td>1.0</td>\n",
       "      <td>1.0</td>\n",
       "      <td>NaN</td>\n",
       "      <td>NaN</td>\n",
       "      <td>1.0</td>\n",
       "    </tr>\n",
       "    <tr>\n",
       "      <th>0.05</th>\n",
       "      <td>69.0</td>\n",
       "      <td>71.0</td>\n",
       "      <td>59.0</td>\n",
       "      <td>103.0</td>\n",
       "      <td>211.0</td>\n",
       "    </tr>\n",
       "    <tr>\n",
       "      <th>0.051</th>\n",
       "      <td>NaN</td>\n",
       "      <td>NaN</td>\n",
       "      <td>NaN</td>\n",
       "      <td>1.0</td>\n",
       "      <td>1.0</td>\n",
       "    </tr>\n",
       "    <tr>\n",
       "      <th>0.055</th>\n",
       "      <td>NaN</td>\n",
       "      <td>NaN</td>\n",
       "      <td>1.0</td>\n",
       "      <td>9.0</td>\n",
       "      <td>9.0</td>\n",
       "    </tr>\n",
       "    <tr>\n",
       "      <th>0.0575</th>\n",
       "      <td>NaN</td>\n",
       "      <td>NaN</td>\n",
       "      <td>NaN</td>\n",
       "      <td>3.0</td>\n",
       "      <td>3.0</td>\n",
       "    </tr>\n",
       "    <tr>\n",
       "      <th>0.0578</th>\n",
       "      <td>NaN</td>\n",
       "      <td>NaN</td>\n",
       "      <td>NaN</td>\n",
       "      <td>1.0</td>\n",
       "      <td>1.0</td>\n",
       "    </tr>\n",
       "    <tr>\n",
       "      <th>0.058</th>\n",
       "      <td>NaN</td>\n",
       "      <td>NaN</td>\n",
       "      <td>NaN</td>\n",
       "      <td>3.0</td>\n",
       "      <td>3.0</td>\n",
       "    </tr>\n",
       "    <tr>\n",
       "      <th>0.059</th>\n",
       "      <td>1.0</td>\n",
       "      <td>NaN</td>\n",
       "      <td>NaN</td>\n",
       "      <td>NaN</td>\n",
       "      <td>NaN</td>\n",
       "    </tr>\n",
       "    <tr>\n",
       "      <th>0.06</th>\n",
       "      <td>25.0</td>\n",
       "      <td>42.0</td>\n",
       "      <td>17.0</td>\n",
       "      <td>87.0</td>\n",
       "      <td>144.0</td>\n",
       "    </tr>\n",
       "    <tr>\n",
       "      <th>0.061</th>\n",
       "      <td>1.0</td>\n",
       "      <td>NaN</td>\n",
       "      <td>NaN</td>\n",
       "      <td>NaN</td>\n",
       "      <td>1.0</td>\n",
       "    </tr>\n",
       "    <tr>\n",
       "      <th>0.063</th>\n",
       "      <td>NaN</td>\n",
       "      <td>1.0</td>\n",
       "      <td>NaN</td>\n",
       "      <td>NaN</td>\n",
       "      <td>1.0</td>\n",
       "    </tr>\n",
       "    <tr>\n",
       "      <th>0.064</th>\n",
       "      <td>NaN</td>\n",
       "      <td>NaN</td>\n",
       "      <td>NaN</td>\n",
       "      <td>1.0</td>\n",
       "      <td>1.0</td>\n",
       "    </tr>\n",
       "    <tr>\n",
       "      <th>0.065</th>\n",
       "      <td>NaN</td>\n",
       "      <td>NaN</td>\n",
       "      <td>NaN</td>\n",
       "      <td>9.0</td>\n",
       "      <td>9.0</td>\n",
       "    </tr>\n",
       "    <tr>\n",
       "      <th>...</th>\n",
       "      <td>...</td>\n",
       "      <td>...</td>\n",
       "      <td>...</td>\n",
       "      <td>...</td>\n",
       "      <td>...</td>\n",
       "    </tr>\n",
       "    <tr>\n",
       "      <th>0.13</th>\n",
       "      <td>9.0</td>\n",
       "      <td>4.0</td>\n",
       "      <td>2.0</td>\n",
       "      <td>20.0</td>\n",
       "      <td>29.0</td>\n",
       "    </tr>\n",
       "    <tr>\n",
       "      <th>0.135</th>\n",
       "      <td>NaN</td>\n",
       "      <td>NaN</td>\n",
       "      <td>NaN</td>\n",
       "      <td>1.0</td>\n",
       "      <td>1.0</td>\n",
       "    </tr>\n",
       "    <tr>\n",
       "      <th>0.14</th>\n",
       "      <td>3.0</td>\n",
       "      <td>NaN</td>\n",
       "      <td>1.0</td>\n",
       "      <td>9.0</td>\n",
       "      <td>10.0</td>\n",
       "    </tr>\n",
       "    <tr>\n",
       "      <th>0.15</th>\n",
       "      <td>541.0</td>\n",
       "      <td>351.0</td>\n",
       "      <td>145.0</td>\n",
       "      <td>1098.0</td>\n",
       "      <td>1810.0</td>\n",
       "    </tr>\n",
       "    <tr>\n",
       "      <th>0.16</th>\n",
       "      <td>8.0</td>\n",
       "      <td>2.0</td>\n",
       "      <td>1.0</td>\n",
       "      <td>18.0</td>\n",
       "      <td>25.0</td>\n",
       "    </tr>\n",
       "    <tr>\n",
       "      <th>0.162</th>\n",
       "      <td>NaN</td>\n",
       "      <td>NaN</td>\n",
       "      <td>1.0</td>\n",
       "      <td>NaN</td>\n",
       "      <td>NaN</td>\n",
       "    </tr>\n",
       "    <tr>\n",
       "      <th>0.165</th>\n",
       "      <td>NaN</td>\n",
       "      <td>NaN</td>\n",
       "      <td>NaN</td>\n",
       "      <td>1.0</td>\n",
       "      <td>1.0</td>\n",
       "    </tr>\n",
       "    <tr>\n",
       "      <th>0.17</th>\n",
       "      <td>1.0</td>\n",
       "      <td>NaN</td>\n",
       "      <td>NaN</td>\n",
       "      <td>14.0</td>\n",
       "      <td>14.0</td>\n",
       "    </tr>\n",
       "    <tr>\n",
       "      <th>0.175</th>\n",
       "      <td>1.0</td>\n",
       "      <td>NaN</td>\n",
       "      <td>NaN</td>\n",
       "      <td>NaN</td>\n",
       "      <td>NaN</td>\n",
       "    </tr>\n",
       "    <tr>\n",
       "      <th>0.18</th>\n",
       "      <td>4.0</td>\n",
       "      <td>1.0</td>\n",
       "      <td>1.0</td>\n",
       "      <td>9.0</td>\n",
       "      <td>13.0</td>\n",
       "    </tr>\n",
       "    <tr>\n",
       "      <th>0.19</th>\n",
       "      <td>1.0</td>\n",
       "      <td>NaN</td>\n",
       "      <td>NaN</td>\n",
       "      <td>5.0</td>\n",
       "      <td>6.0</td>\n",
       "    </tr>\n",
       "    <tr>\n",
       "      <th>0.2</th>\n",
       "      <td>47.0</td>\n",
       "      <td>31.0</td>\n",
       "      <td>21.0</td>\n",
       "      <td>107.0</td>\n",
       "      <td>175.0</td>\n",
       "    </tr>\n",
       "    <tr>\n",
       "      <th>0.203</th>\n",
       "      <td>NaN</td>\n",
       "      <td>NaN</td>\n",
       "      <td>NaN</td>\n",
       "      <td>1.0</td>\n",
       "      <td>1.0</td>\n",
       "    </tr>\n",
       "    <tr>\n",
       "      <th>0.24</th>\n",
       "      <td>1.0</td>\n",
       "      <td>NaN</td>\n",
       "      <td>NaN</td>\n",
       "      <td>3.0</td>\n",
       "      <td>4.0</td>\n",
       "    </tr>\n",
       "    <tr>\n",
       "      <th>0.25</th>\n",
       "      <td>5.0</td>\n",
       "      <td>2.0</td>\n",
       "      <td>4.0</td>\n",
       "      <td>15.0</td>\n",
       "      <td>22.0</td>\n",
       "    </tr>\n",
       "    <tr>\n",
       "      <th>0.27</th>\n",
       "      <td>NaN</td>\n",
       "      <td>NaN</td>\n",
       "      <td>NaN</td>\n",
       "      <td>1.0</td>\n",
       "      <td>1.0</td>\n",
       "    </tr>\n",
       "    <tr>\n",
       "      <th>0.271</th>\n",
       "      <td>NaN</td>\n",
       "      <td>NaN</td>\n",
       "      <td>NaN</td>\n",
       "      <td>1.0</td>\n",
       "      <td>1.0</td>\n",
       "    </tr>\n",
       "    <tr>\n",
       "      <th>0.28</th>\n",
       "      <td>NaN</td>\n",
       "      <td>NaN</td>\n",
       "      <td>NaN</td>\n",
       "      <td>2.0</td>\n",
       "      <td>2.0</td>\n",
       "    </tr>\n",
       "    <tr>\n",
       "      <th>0.3</th>\n",
       "      <td>2.0</td>\n",
       "      <td>1.0</td>\n",
       "      <td>1.0</td>\n",
       "      <td>3.0</td>\n",
       "      <td>5.0</td>\n",
       "    </tr>\n",
       "    <tr>\n",
       "      <th>0.31</th>\n",
       "      <td>1.0</td>\n",
       "      <td>NaN</td>\n",
       "      <td>NaN</td>\n",
       "      <td>NaN</td>\n",
       "      <td>1.0</td>\n",
       "    </tr>\n",
       "    <tr>\n",
       "      <th>0.35</th>\n",
       "      <td>NaN</td>\n",
       "      <td>NaN</td>\n",
       "      <td>NaN</td>\n",
       "      <td>1.0</td>\n",
       "      <td>1.0</td>\n",
       "    </tr>\n",
       "    <tr>\n",
       "      <th>0.37</th>\n",
       "      <td>1.0</td>\n",
       "      <td>NaN</td>\n",
       "      <td>NaN</td>\n",
       "      <td>NaN</td>\n",
       "      <td>1.0</td>\n",
       "    </tr>\n",
       "    <tr>\n",
       "      <th>0.38</th>\n",
       "      <td>NaN</td>\n",
       "      <td>NaN</td>\n",
       "      <td>NaN</td>\n",
       "      <td>2.0</td>\n",
       "      <td>2.0</td>\n",
       "    </tr>\n",
       "    <tr>\n",
       "      <th>0.4</th>\n",
       "      <td>3.0</td>\n",
       "      <td>NaN</td>\n",
       "      <td>NaN</td>\n",
       "      <td>1.0</td>\n",
       "      <td>4.0</td>\n",
       "    </tr>\n",
       "    <tr>\n",
       "      <th>0.45</th>\n",
       "      <td>1.0</td>\n",
       "      <td>NaN</td>\n",
       "      <td>1.0</td>\n",
       "      <td>1.0</td>\n",
       "      <td>2.0</td>\n",
       "    </tr>\n",
       "    <tr>\n",
       "      <th>0.5</th>\n",
       "      <td>NaN</td>\n",
       "      <td>NaN</td>\n",
       "      <td>NaN</td>\n",
       "      <td>1.0</td>\n",
       "      <td>1.0</td>\n",
       "    </tr>\n",
       "    <tr>\n",
       "      <th>0.6</th>\n",
       "      <td>1.0</td>\n",
       "      <td>NaN</td>\n",
       "      <td>NaN</td>\n",
       "      <td>NaN</td>\n",
       "      <td>NaN</td>\n",
       "    </tr>\n",
       "    <tr>\n",
       "      <th>1.0</th>\n",
       "      <td>NaN</td>\n",
       "      <td>NaN</td>\n",
       "      <td>NaN</td>\n",
       "      <td>1.0</td>\n",
       "      <td>1.0</td>\n",
       "    </tr>\n",
       "    <tr>\n",
       "      <th>6.0</th>\n",
       "      <td>NaN</td>\n",
       "      <td>NaN</td>\n",
       "      <td>1.0</td>\n",
       "      <td>NaN</td>\n",
       "      <td>NaN</td>\n",
       "    </tr>\n",
       "    <tr>\n",
       "      <th>All</th>\n",
       "      <td>1452.0</td>\n",
       "      <td>2883.0</td>\n",
       "      <td>NaN</td>\n",
       "      <td>4761.0</td>\n",
       "      <td>9096.0</td>\n",
       "    </tr>\n",
       "  </tbody>\n",
       "</table>\n",
       "<p>80 rows × 5 columns</p>\n",
       "</div>"
      ],
      "text/plain": [
       "                    Win_Lose                                    \n",
       "WinLoseCategory Closed Other    Lose Outstanding     Win     All\n",
       "Estimated Fee %                                                 \n",
       "-0.38                    NaN     NaN         NaN     1.0     1.0\n",
       "-0.22                    NaN     2.0         NaN     NaN     2.0\n",
       "-0.15                    1.0     NaN         NaN     NaN     1.0\n",
       "0.0                   5371.0  1210.0       469.0  1005.0  2591.0\n",
       "0.0004                   1.0     NaN         NaN     NaN     NaN\n",
       "0.0007                   NaN     NaN         1.0     NaN     NaN\n",
       "0.001                    NaN     NaN         NaN     2.0     2.0\n",
       "0.004                    NaN     NaN         NaN     2.0     2.0\n",
       "0.005                    NaN     NaN         1.0     1.0     1.0\n",
       "0.01                     2.0     5.0         1.0     6.0    12.0\n",
       "0.012                    NaN     NaN         1.0     NaN     NaN\n",
       "0.018                    NaN     NaN         NaN     2.0     2.0\n",
       "0.02                     NaN     2.0         5.0     3.0     5.0\n",
       "0.03                    11.0     9.0         7.0    37.0    50.0\n",
       "0.035                    1.0     6.0         1.0    10.0    16.0\n",
       "0.04                    10.0    16.0         6.0    45.0    66.0\n",
       "0.045                    1.0     2.0         NaN     1.0     3.0\n",
       "0.0476                   1.0     1.0         NaN     NaN     1.0\n",
       "0.05                    69.0    71.0        59.0   103.0   211.0\n",
       "0.051                    NaN     NaN         NaN     1.0     1.0\n",
       "0.055                    NaN     NaN         1.0     9.0     9.0\n",
       "0.0575                   NaN     NaN         NaN     3.0     3.0\n",
       "0.0578                   NaN     NaN         NaN     1.0     1.0\n",
       "0.058                    NaN     NaN         NaN     3.0     3.0\n",
       "0.059                    1.0     NaN         NaN     NaN     NaN\n",
       "0.06                    25.0    42.0        17.0    87.0   144.0\n",
       "0.061                    1.0     NaN         NaN     NaN     1.0\n",
       "0.063                    NaN     1.0         NaN     NaN     1.0\n",
       "0.064                    NaN     NaN         NaN     1.0     1.0\n",
       "0.065                    NaN     NaN         NaN     9.0     9.0\n",
       "...                      ...     ...         ...     ...     ...\n",
       "0.13                     9.0     4.0         2.0    20.0    29.0\n",
       "0.135                    NaN     NaN         NaN     1.0     1.0\n",
       "0.14                     3.0     NaN         1.0     9.0    10.0\n",
       "0.15                   541.0   351.0       145.0  1098.0  1810.0\n",
       "0.16                     8.0     2.0         1.0    18.0    25.0\n",
       "0.162                    NaN     NaN         1.0     NaN     NaN\n",
       "0.165                    NaN     NaN         NaN     1.0     1.0\n",
       "0.17                     1.0     NaN         NaN    14.0    14.0\n",
       "0.175                    1.0     NaN         NaN     NaN     NaN\n",
       "0.18                     4.0     1.0         1.0     9.0    13.0\n",
       "0.19                     1.0     NaN         NaN     5.0     6.0\n",
       "0.2                     47.0    31.0        21.0   107.0   175.0\n",
       "0.203                    NaN     NaN         NaN     1.0     1.0\n",
       "0.24                     1.0     NaN         NaN     3.0     4.0\n",
       "0.25                     5.0     2.0         4.0    15.0    22.0\n",
       "0.27                     NaN     NaN         NaN     1.0     1.0\n",
       "0.271                    NaN     NaN         NaN     1.0     1.0\n",
       "0.28                     NaN     NaN         NaN     2.0     2.0\n",
       "0.3                      2.0     1.0         1.0     3.0     5.0\n",
       "0.31                     1.0     NaN         NaN     NaN     1.0\n",
       "0.35                     NaN     NaN         NaN     1.0     1.0\n",
       "0.37                     1.0     NaN         NaN     NaN     1.0\n",
       "0.38                     NaN     NaN         NaN     2.0     2.0\n",
       "0.4                      3.0     NaN         NaN     1.0     4.0\n",
       "0.45                     1.0     NaN         1.0     1.0     2.0\n",
       "0.5                      NaN     NaN         NaN     1.0     1.0\n",
       "0.6                      1.0     NaN         NaN     NaN     NaN\n",
       "1.0                      NaN     NaN         NaN     1.0     1.0\n",
       "6.0                      NaN     NaN         1.0     NaN     NaN\n",
       "All                   1452.0  2883.0         NaN  4761.0  9096.0\n",
       "\n",
       "[80 rows x 5 columns]"
      ]
     },
     "execution_count": 24,
     "metadata": {},
     "output_type": "execute_result"
    }
   ],
   "source": [
    "pd.pivot_table(pipeline,index=['Estimated Fee %'], values=['Win_Lose'], columns=['WinLoseCategory'], aggfunc= len, margins = True)"
   ]
  },
  {
   "cell_type": "markdown",
   "metadata": {},
   "source": [
    "# Pivot Amount, by WinLoseCat and Fiscal Year"
   ]
  },
  {
   "cell_type": "code",
   "execution_count": 25,
   "metadata": {
    "collapsed": false
   },
   "outputs": [],
   "source": [
    "pivot2 = pd.pivot_table(pipeline,index=['WinLoseCategory'], values=['Amount'], columns=['Fiscal Year'], aggfunc= np.sum,fill_value=0)"
   ]
  },
  {
   "cell_type": "code",
   "execution_count": 26,
   "metadata": {
    "collapsed": false
   },
   "outputs": [
    {
     "data": {
      "text/html": [
       "<div>\n",
       "<table border=\"1\" class=\"dataframe\">\n",
       "  <thead>\n",
       "    <tr>\n",
       "      <th></th>\n",
       "      <th colspan=\"9\" halign=\"left\">Amount</th>\n",
       "    </tr>\n",
       "    <tr>\n",
       "      <th>Fiscal Year</th>\n",
       "      <th>2011</th>\n",
       "      <th>2012</th>\n",
       "      <th>2013</th>\n",
       "      <th>2014</th>\n",
       "      <th>2015</th>\n",
       "      <th>2016</th>\n",
       "      <th>2017</th>\n",
       "      <th>2018</th>\n",
       "      <th>2019</th>\n",
       "    </tr>\n",
       "    <tr>\n",
       "      <th>WinLoseCategory</th>\n",
       "      <th></th>\n",
       "      <th></th>\n",
       "      <th></th>\n",
       "      <th></th>\n",
       "      <th></th>\n",
       "      <th></th>\n",
       "      <th></th>\n",
       "      <th></th>\n",
       "      <th></th>\n",
       "    </tr>\n",
       "  </thead>\n",
       "  <tbody>\n",
       "    <tr>\n",
       "      <th>Closed Other</th>\n",
       "      <td>3279876869</td>\n",
       "      <td>6629246175</td>\n",
       "      <td>3158672735</td>\n",
       "      <td>3800111519</td>\n",
       "      <td>3244466138</td>\n",
       "      <td>5680326078</td>\n",
       "      <td>735790226</td>\n",
       "      <td>30860000</td>\n",
       "      <td>0</td>\n",
       "    </tr>\n",
       "    <tr>\n",
       "      <th>Lose</th>\n",
       "      <td>1823404749</td>\n",
       "      <td>982073701</td>\n",
       "      <td>890278240</td>\n",
       "      <td>995296675</td>\n",
       "      <td>1164650524</td>\n",
       "      <td>1337202361</td>\n",
       "      <td>30766278</td>\n",
       "      <td>0</td>\n",
       "      <td>0</td>\n",
       "    </tr>\n",
       "    <tr>\n",
       "      <th>Outstanding</th>\n",
       "      <td>820860</td>\n",
       "      <td>1619370</td>\n",
       "      <td>11612032</td>\n",
       "      <td>10072545</td>\n",
       "      <td>33101995</td>\n",
       "      <td>495918920</td>\n",
       "      <td>2021467740</td>\n",
       "      <td>19069730</td>\n",
       "      <td>0</td>\n",
       "    </tr>\n",
       "    <tr>\n",
       "      <th>Win</th>\n",
       "      <td>945732097</td>\n",
       "      <td>572786694</td>\n",
       "      <td>1224243292</td>\n",
       "      <td>688993822</td>\n",
       "      <td>1174243274</td>\n",
       "      <td>804795811</td>\n",
       "      <td>36544429</td>\n",
       "      <td>0</td>\n",
       "      <td>0</td>\n",
       "    </tr>\n",
       "  </tbody>\n",
       "</table>\n",
       "</div>"
      ],
      "text/plain": [
       "                     Amount                                                  \\\n",
       "Fiscal Year            2011        2012        2013        2014        2015   \n",
       "WinLoseCategory                                                               \n",
       "Closed Other     3279876869  6629246175  3158672735  3800111519  3244466138   \n",
       "Lose             1823404749   982073701   890278240   995296675  1164650524   \n",
       "Outstanding          820860     1619370    11612032    10072545    33101995   \n",
       "Win               945732097   572786694  1224243292   688993822  1174243274   \n",
       "\n",
       "                                                        \n",
       "Fiscal Year            2016        2017      2018 2019  \n",
       "WinLoseCategory                                         \n",
       "Closed Other     5680326078   735790226  30860000    0  \n",
       "Lose             1337202361    30766278         0    0  \n",
       "Outstanding       495918920  2021467740  19069730    0  \n",
       "Win               804795811    36544429         0    0  "
      ]
     },
     "execution_count": 26,
     "metadata": {},
     "output_type": "execute_result"
    }
   ],
   "source": [
    "pivot2"
   ]
  },
  {
   "cell_type": "markdown",
   "metadata": {},
   "source": [
    "# Filter above pivot for just Wins and Losses"
   ]
  },
  {
   "cell_type": "code",
   "execution_count": 27,
   "metadata": {
    "collapsed": false
   },
   "outputs": [
    {
     "data": {
      "text/html": [
       "<div>\n",
       "<table border=\"1\" class=\"dataframe\">\n",
       "  <thead>\n",
       "    <tr>\n",
       "      <th></th>\n",
       "      <th colspan=\"9\" halign=\"left\">Amount</th>\n",
       "    </tr>\n",
       "    <tr>\n",
       "      <th>Fiscal Year</th>\n",
       "      <th>2011</th>\n",
       "      <th>2012</th>\n",
       "      <th>2013</th>\n",
       "      <th>2014</th>\n",
       "      <th>2015</th>\n",
       "      <th>2016</th>\n",
       "      <th>2017</th>\n",
       "      <th>2018</th>\n",
       "      <th>2019</th>\n",
       "    </tr>\n",
       "    <tr>\n",
       "      <th>WinLoseCategory</th>\n",
       "      <th></th>\n",
       "      <th></th>\n",
       "      <th></th>\n",
       "      <th></th>\n",
       "      <th></th>\n",
       "      <th></th>\n",
       "      <th></th>\n",
       "      <th></th>\n",
       "      <th></th>\n",
       "    </tr>\n",
       "  </thead>\n",
       "  <tbody>\n",
       "    <tr>\n",
       "      <th>Lose</th>\n",
       "      <td>1823404749</td>\n",
       "      <td>982073701</td>\n",
       "      <td>890278240</td>\n",
       "      <td>995296675</td>\n",
       "      <td>1164650524</td>\n",
       "      <td>1337202361</td>\n",
       "      <td>30766278</td>\n",
       "      <td>0</td>\n",
       "      <td>0</td>\n",
       "    </tr>\n",
       "    <tr>\n",
       "      <th>Win</th>\n",
       "      <td>945732097</td>\n",
       "      <td>572786694</td>\n",
       "      <td>1224243292</td>\n",
       "      <td>688993822</td>\n",
       "      <td>1174243274</td>\n",
       "      <td>804795811</td>\n",
       "      <td>36544429</td>\n",
       "      <td>0</td>\n",
       "      <td>0</td>\n",
       "    </tr>\n",
       "  </tbody>\n",
       "</table>\n",
       "</div>"
      ],
      "text/plain": [
       "                     Amount                                                \\\n",
       "Fiscal Year            2011       2012        2013       2014        2015   \n",
       "WinLoseCategory                                                             \n",
       "Lose             1823404749  982073701   890278240  995296675  1164650524   \n",
       "Win               945732097  572786694  1224243292  688993822  1174243274   \n",
       "\n",
       "                                                 \n",
       "Fiscal Year            2016      2017 2018 2019  \n",
       "WinLoseCategory                                  \n",
       "Lose             1337202361  30766278    0    0  \n",
       "Win               804795811  36544429    0    0  "
      ]
     },
     "execution_count": 27,
     "metadata": {},
     "output_type": "execute_result"
    }
   ],
   "source": [
    "pivot3 = pivot2.query('WinLoseCategory == [\"Lose\", \"Win\"]')\n",
    "pivot3"
   ]
  },
  {
   "cell_type": "code",
   "execution_count": 28,
   "metadata": {
    "collapsed": false
   },
   "outputs": [
    {
     "data": {
      "text/plain": [
       "<matplotlib.axes._subplots.AxesSubplot at 0x132d6350>"
      ]
     },
     "execution_count": 28,
     "metadata": {},
     "output_type": "execute_result"
    },
    {
     "data": {
      "image/png": "[encoded data removed]",
      "text/plain": [
       "<matplotlib.figure.Figure at 0xe8030f0>"
      ]
     },
     "metadata": {},
     "output_type": "display_data"
    }
   ],
   "source": [
    "pivot3.plot(kind='bar',figsize=(20,10))"
   ]
  },
  {
   "cell_type": "code",
   "execution_count": 29,
   "metadata": {
    "collapsed": false
   },
   "outputs": [
    {
     "data": {
      "text/plain": [
       "<seaborn.axisgrid.JointGrid at 0x10d11fb0>"
      ]
     },
     "execution_count": 29,
     "metadata": {},
     "output_type": "execute_result"
    },
    {
     "data": {
      "image/png": "[encoded data removed]",
      "text/plain": [
       "<matplotlib.figure.Figure at 0x10d11f10>"
      ]
     },
     "metadata": {},
     "output_type": "display_data"
    }
   ],
   "source": [
    "sns.jointplot(x='Amount', y='Probability of Winning',data = pipeline)"
   ]
  },
  {
   "cell_type": "code",
   "execution_count": 37,
   "metadata": {
    "collapsed": false
   },
   "outputs": [
    {
     "data": {
      "text/html": [
       "<div>\n",
       "<table border=\"1\" class=\"dataframe\">\n",
       "  <thead>\n",
       "    <tr style=\"text-align: right;\">\n",
       "      <th></th>\n",
       "      <th>Adj Estimated Base + Option Duration</th>\n",
       "    </tr>\n",
       "    <tr>\n",
       "      <th>WinLoseCategory</th>\n",
       "      <th></th>\n",
       "    </tr>\n",
       "  </thead>\n",
       "  <tbody>\n",
       "    <tr>\n",
       "      <th>Closed Other</th>\n",
       "      <td>224690</td>\n",
       "    </tr>\n",
       "    <tr>\n",
       "      <th>Lose</th>\n",
       "      <td>93086</td>\n",
       "    </tr>\n",
       "    <tr>\n",
       "      <th>Outstanding</th>\n",
       "      <td>33128</td>\n",
       "    </tr>\n",
       "    <tr>\n",
       "      <th>Win</th>\n",
       "      <td>84936</td>\n",
       "    </tr>\n",
       "  </tbody>\n",
       "</table>\n",
       "</div>"
      ],
      "text/plain": [
       "                 Adj Estimated Base + Option Duration\n",
       "WinLoseCategory                                      \n",
       "Closed Other                                   224690\n",
       "Lose                                            93086\n",
       "Outstanding                                     33128\n",
       "Win                                             84936"
      ]
     },
     "execution_count": 37,
     "metadata": {},
     "output_type": "execute_result"
    }
   ],
   "source": [
    "pd.pivot_table(pipeline,index=['WinLoseCategory'], values=['Adj Estimated Base + Option Duration'], aggfunc= np.sum,fill_value=0)"
   ]
  },
  {
   "cell_type": "code",
   "execution_count": 38,
   "metadata": {
    "collapsed": false
   },
   "outputs": [
    {
     "data": {
      "text/plain": [
       "<seaborn.axisgrid.JointGrid at 0xeb2fab0>"
      ]
     },
     "execution_count": 38,
     "metadata": {},
     "output_type": "execute_result"
    },
    {
     "data": {
      "image/png": "[encoded data removed]",
      "text/plain": [
       "<matplotlib.figure.Figure at 0xeb25050>"
      ]
     },
     "metadata": {},
     "output_type": "display_data"
    }
   ],
   "source": [
    "sns.jointplot(x='Amount', y='Actual B&P Amt',data = pipeline)"
   ]
  },
  {
   "cell_type": "code",
   "execution_count": null,
   "metadata": {
    "collapsed": true
   },
   "outputs": [],
   "source": []
  }
 ],
 "metadata": {
  "anaconda-cloud": {},
  "kernelspec": {
   "display_name": "Python [Root]",
   "language": "python",
   "name": "Python [Root]"
  },
  "language_info": {
   "codemirror_mode": {
    "name": "ipython",
    "version": 2
   },
   "file_extension": ".py",
   "mimetype": "text/x-python",
   "name": "python",
   "nbconvert_exporter": "python",
   "pygments_lexer": "ipython2",
   "version": "2.7.12"
  }
 },
 "nbformat": 4,
 "nbformat_minor": 0
}
