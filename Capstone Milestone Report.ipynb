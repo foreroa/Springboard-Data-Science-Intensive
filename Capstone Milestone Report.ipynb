{
 "cells": [
  {
   "cell_type": "code",
   "execution_count": 1,
   "metadata": {
    "collapsed": true
   },
   "outputs": [],
   "source": [
    "import pandas as pd\n",
    "import numpy\n",
    "import matplotlib.pyplot as plt\n",
    "import seaborn as sns\n",
    "from scipy import stats\n",
    "import bokeh.plotting as bkp\n",
    "from mpl_toolkits.axes_grid1 import make_axes_locatable\n",
    "%matplotlib inline"
   ]
  },
  {
   "cell_type": "code",
   "execution_count": 2,
   "metadata": {
    "collapsed": true
   },
   "outputs": [],
   "source": [
    "pipeline = pd.read_excel('pipeline2.xlsx')"
   ]
  },
  {
   "cell_type": "code",
   "execution_count": 3,
   "metadata": {
    "collapsed": false
   },
   "outputs": [],
   "source": [
    "cleandf = pipeline[(pipeline['Amount'] != 0)]"
   ]
  },
  {
   "cell_type": "code",
   "execution_count": 4,
   "metadata": {
    "collapsed": false
   },
   "outputs": [
    {
     "data": {
      "text/plain": [
       "count    1.228800e+04\n",
       "mean     3.403649e+06\n",
       "std      3.848145e+07\n",
       "min      5.000000e-02\n",
       "25%      5.625200e+04\n",
       "50%      2.566700e+05\n",
       "75%      1.060089e+06\n",
       "max      4.000000e+09\n",
       "Name: Amount, dtype: float64"
      ]
     },
     "execution_count": 4,
     "metadata": {},
     "output_type": "execute_result"
    }
   ],
   "source": [
    "cleandf['Amount'].describe()"
   ]
  },
  {
   "cell_type": "code",
   "execution_count": 5,
   "metadata": {
    "collapsed": false
   },
   "outputs": [],
   "source": [
    "AmtLess1m = cleandf[(cleandf['Amount'] <= 1000000) & (cleandf['WinLoseCategory'] =='Win')]"
   ]
  },
  {
   "cell_type": "code",
   "execution_count": 6,
   "metadata": {
    "collapsed": false
   },
   "outputs": [],
   "source": [
    "AmtOver1m = cleandf[(cleandf['Amount'] > 1000000) & (cleandf['WinLoseCategory'] =='Win')]"
   ]
  },
  {
   "cell_type": "code",
   "execution_count": 7,
   "metadata": {
    "collapsed": false
   },
   "outputs": [],
   "source": [
    "Amt1mto10m = cleandf[(cleandf['Amount'] > 1000000) & (cleandf['Amount'] <= 10000000) & (cleandf['WinLoseCategory'] =='Win')]"
   ]
  },
  {
   "cell_type": "markdown",
   "metadata": {},
   "source": [
    "# Hypothesis Test 1:\n",
    "\n",
    "Ho: There is no difference in the means of Probability of Winning of the following two groups whose WinLose Category is \"WIN\":\n",
    "* Amount <= 1m  (which have mean Probability of Winning of 78.9%), versus\n",
    "* Amount > 1m (which have mean Probability of Winning of 66.4%)\n",
    "\n",
    "Ha: There is a difference in the means\n",
    "\n",
    "Reject Ho if p < 0.01"
   ]
  },
  {
   "cell_type": "code",
   "execution_count": 8,
   "metadata": {
    "collapsed": false
   },
   "outputs": [],
   "source": [
    "ProbLess1m = AmtLess1m['ProbabilityofWinning']"
   ]
  },
  {
   "cell_type": "code",
   "execution_count": 9,
   "metadata": {
    "collapsed": false
   },
   "outputs": [
    {
     "data": {
      "text/plain": [
       "0.7891134124779047"
      ]
     },
     "execution_count": 9,
     "metadata": {},
     "output_type": "execute_result"
    }
   ],
   "source": [
    "ProbLess1m.mean()"
   ]
  },
  {
   "cell_type": "code",
   "execution_count": 10,
   "metadata": {
    "collapsed": false
   },
   "outputs": [],
   "source": [
    "ProbOver1m = AmtOver1m['ProbabilityofWinning']"
   ]
  },
  {
   "cell_type": "code",
   "execution_count": 11,
   "metadata": {
    "collapsed": false
   },
   "outputs": [
    {
     "data": {
      "text/plain": [
       "0.6643962848297207"
      ]
     },
     "execution_count": 11,
     "metadata": {},
     "output_type": "execute_result"
    }
   ],
   "source": [
    "ProbOver1m.mean()"
   ]
  },
  {
   "cell_type": "markdown",
   "metadata": {},
   "source": [
    "# Hypothesis 1:  Reject Ho, given p-value is 5.792e-23 as shown below:"
   ]
  },
  {
   "cell_type": "code",
   "execution_count": 12,
   "metadata": {
    "collapsed": false
   },
   "outputs": [
    {
     "data": {
      "text/plain": [
       "Ttest_indResult(statistic=10.166514179400044, pvalue=5.7927076036784238e-23)"
      ]
     },
     "execution_count": 12,
     "metadata": {},
     "output_type": "execute_result"
    }
   ],
   "source": [
    "# Perform t-test on the means of the the two series:\n",
    "\n",
    "stats.ttest_ind(a= ProbLess1m, b= ProbOver1m, equal_var=False) # Assume samples have equal variance input as false"
   ]
  },
  {
   "cell_type": "code",
   "execution_count": 13,
   "metadata": {
    "collapsed": true
   },
   "outputs": [],
   "source": [
    "def CohenEffectSize(group1, group2):\n",
    "    \"\"\"Compute Cohen's d.\n",
    "\n",
    "    group1: Series or NumPy array\n",
    "    group2: Series or NumPy array\n",
    "\n",
    "    returns: float\n",
    "    \"\"\"\n",
    "    diff = group1.mean() - group2.mean()\n",
    "\n",
    "    n1, n2 = len(group1), len(group2)\n",
    "    var1 = group1.var()\n",
    "    var2 = group2.var()\n",
    "\n",
    "    pooled_var = (n1 * var1 + n2 * var2) / (n1 + n2)\n",
    "    d = diff / numpy.sqrt(pooled_var)\n",
    "    return d"
   ]
  },
  {
   "cell_type": "markdown",
   "metadata": {},
   "source": [
    "# Hypothesis 1:  Calculate Effect Size\n",
    "\n",
    "* Effect size is 0.46, which is close to a medium effect size, therefore, even though there was enough statistical significance to reject the Ho, in terms of Practical Significance, there is a medium effect size, which provides further evidence that there is a difference between the means of the two groups."
   ]
  },
  {
   "cell_type": "code",
   "execution_count": 14,
   "metadata": {
    "collapsed": false
   },
   "outputs": [
    {
     "data": {
      "text/plain": [
       "0.46015424887665285"
      ]
     },
     "execution_count": 14,
     "metadata": {},
     "output_type": "execute_result"
    }
   ],
   "source": [
    "CohenEffectSize(ProbLess1m, ProbOver1m)"
   ]
  },
  {
   "cell_type": "markdown",
   "metadata": {},
   "source": [
    "# Hypothesis Test # 2:\n",
    "Ho: There is no difference in the means of Estimated Fee of the following two groups:\n",
    "* Amount <= 1m (which have mean Probability of Winning of 78.9%), versus\n",
    "* Amount >1m and <=10m (which have mean Probability of Winning of 66.7%)\n",
    "\n",
    "Ha: There is a difference in the means\n",
    "\n",
    "Reject Ho is p < 0.01"
   ]
  },
  {
   "cell_type": "code",
   "execution_count": 15,
   "metadata": {
    "collapsed": true
   },
   "outputs": [],
   "source": [
    "Prob1mto10m = Amt1mto10m['ProbabilityofWinning']"
   ]
  },
  {
   "cell_type": "code",
   "execution_count": 16,
   "metadata": {
    "collapsed": false
   },
   "outputs": [
    {
     "data": {
      "text/plain": [
       "0.6672661870503598"
      ]
     },
     "execution_count": 16,
     "metadata": {},
     "output_type": "execute_result"
    }
   ],
   "source": [
    "Prob1mto10m.mean()"
   ]
  },
  {
   "cell_type": "markdown",
   "metadata": {},
   "source": [
    "# Hypothesis 2: Reject Ho, given p-value is 6.9281e-19"
   ]
  },
  {
   "cell_type": "code",
   "execution_count": 17,
   "metadata": {
    "collapsed": false
   },
   "outputs": [
    {
     "data": {
      "text/plain": [
       "Ttest_indResult(statistic=9.1404197450745297, pvalue=6.9281067286454873e-19)"
      ]
     },
     "execution_count": 17,
     "metadata": {},
     "output_type": "execute_result"
    }
   ],
   "source": [
    "# Perform t-test on the means of the the two series:\n",
    "\n",
    "stats.ttest_ind(a= ProbLess1m, b= Prob1mto10m, equal_var=False) # Assume samples have equal variance input as false"
   ]
  },
  {
   "cell_type": "markdown",
   "metadata": {},
   "source": [
    "# Hypothesis 2: Calculate Effect Size\n",
    "Effect size is 0.45, which is close to a medium effect size, therefore, even though there was enough statistical significance to reject the Ho, in terms of Practical Significance, there is a medium effect size, which provides further evidence that there is a difference between the means of the two groups."
   ]
  },
  {
   "cell_type": "code",
   "execution_count": 18,
   "metadata": {
    "collapsed": false
   },
   "outputs": [
    {
     "data": {
      "text/plain": [
       "0.44909342314984585"
      ]
     },
     "execution_count": 18,
     "metadata": {},
     "output_type": "execute_result"
    }
   ],
   "source": [
    "CohenEffectSize(ProbLess1m, Prob1mto10m)"
   ]
  },
  {
   "cell_type": "markdown",
   "metadata": {},
   "source": [
    "# Hypothesis Test # 3:\n",
    "\n",
    "Ho: There is no difference in the means of Estimated Fee of the following two groups:\n",
    "\n",
    "* \n",
    "Amount <= 1m (which have mean Estimated Fee of 9.2%), versus\n",
    "* Amount > 1m (which have mean Estimated Fee of 6.3%)\n",
    "\n",
    "Ha: There is a difference in the means Reject Ho is p < 0.01\n"
   ]
  },
  {
   "cell_type": "code",
   "execution_count": 19,
   "metadata": {
    "collapsed": true
   },
   "outputs": [],
   "source": [
    "FeeLess1m = AmtLess1m['EstimatedFee%']"
   ]
  },
  {
   "cell_type": "code",
   "execution_count": 20,
   "metadata": {
    "collapsed": false
   },
   "outputs": [
    {
     "data": {
      "text/plain": [
       "0.092195882798685"
      ]
     },
     "execution_count": 20,
     "metadata": {},
     "output_type": "execute_result"
    }
   ],
   "source": [
    "FeeLess1m.mean()"
   ]
  },
  {
   "cell_type": "code",
   "execution_count": 21,
   "metadata": {
    "collapsed": true
   },
   "outputs": [],
   "source": [
    "FeeOver1m = AmtOver1m['EstimatedFee%']"
   ]
  },
  {
   "cell_type": "code",
   "execution_count": 22,
   "metadata": {
    "collapsed": false
   },
   "outputs": [
    {
     "data": {
      "text/plain": [
       "0.06293931888544894"
      ]
     },
     "execution_count": 22,
     "metadata": {},
     "output_type": "execute_result"
    }
   ],
   "source": [
    "FeeOver1m.mean()"
   ]
  },
  {
   "cell_type": "code",
   "execution_count": 23,
   "metadata": {
    "collapsed": false
   },
   "outputs": [
    {
     "data": {
      "text/plain": [
       "Ttest_indResult(statistic=12.809217402256497, pvalue=8.740281241847812e-35)"
      ]
     },
     "execution_count": 23,
     "metadata": {},
     "output_type": "execute_result"
    }
   ],
   "source": [
    "# Perform t-test on the means of the the two series:\n",
    "\n",
    "stats.ttest_ind(a= FeeLess1m, b= FeeOver1m, equal_var=False) # Assume samples have equal variance input as false"
   ]
  },
  {
   "cell_type": "markdown",
   "metadata": {},
   "source": [
    "# Hypothesis 3:  Reject Ho, given p-value is 8.74e-35"
   ]
  },
  {
   "cell_type": "markdown",
   "metadata": {},
   "source": [
    "# Hypothesis 3:  Calculate Effect Size\n",
    "\n",
    "* Effect size is 0.486, which is close to a medium effect size"
   ]
  },
  {
   "cell_type": "code",
   "execution_count": 24,
   "metadata": {
    "collapsed": false
   },
   "outputs": [
    {
     "data": {
      "text/plain": [
       "0.48587519180889205"
      ]
     },
     "execution_count": 24,
     "metadata": {},
     "output_type": "execute_result"
    }
   ],
   "source": [
    "CohenEffectSize(FeeLess1m, FeeOver1m)"
   ]
  },
  {
   "cell_type": "markdown",
   "metadata": {},
   "source": [
    "# Hypothesis Test 4:\n",
    "\n",
    "Ho: There is no difference in the means of Probability of Winning of the following two groups that were NOT BID ON:\n",
    "* Amount <= 1m  (which have mean Probability of Winning of 36.7%), versus\n",
    "* Amount > 1m (which have mean Probability of Winning of 29.5)\n",
    "\n",
    "Ha: There is a difference in the means\n",
    "\n",
    "Reject Ho if p < 0.01"
   ]
  },
  {
   "cell_type": "code",
   "execution_count": 25,
   "metadata": {
    "collapsed": true
   },
   "outputs": [],
   "source": [
    "NoBidLess1m = cleandf[(cleandf['Amount'] <= 1000000) & (cleandf['Bid_Recommendation_Bid_Status'] =='No Bid')]"
   ]
  },
  {
   "cell_type": "code",
   "execution_count": 27,
   "metadata": {
    "collapsed": true
   },
   "outputs": [],
   "source": [
    "NoBidProbLess1m = NoBidLess1m['ProbabilityofWinning']"
   ]
  },
  {
   "cell_type": "code",
   "execution_count": 28,
   "metadata": {
    "collapsed": false
   },
   "outputs": [
    {
     "data": {
      "text/plain": [
       "0.3671462829736255"
      ]
     },
     "execution_count": 28,
     "metadata": {},
     "output_type": "execute_result"
    }
   ],
   "source": [
    "NoBidProbLess1m.mean()"
   ]
  },
  {
   "cell_type": "code",
   "execution_count": 26,
   "metadata": {
    "collapsed": true
   },
   "outputs": [],
   "source": [
    "NoBidOver1m = cleandf[(cleandf['Amount'] > 1000000) & (cleandf['Bid_Recommendation_Bid_Status'] =='No Bid')]"
   ]
  },
  {
   "cell_type": "code",
   "execution_count": 31,
   "metadata": {
    "collapsed": true
   },
   "outputs": [],
   "source": [
    "NoBidProbOver1m = NoBidOver1m['ProbabilityofWinning']"
   ]
  },
  {
   "cell_type": "code",
   "execution_count": 32,
   "metadata": {
    "collapsed": false
   },
   "outputs": [
    {
     "data": {
      "text/plain": [
       "0.2948087431694006"
      ]
     },
     "execution_count": 32,
     "metadata": {},
     "output_type": "execute_result"
    }
   ],
   "source": [
    "NoBidProbOver1m.mean()"
   ]
  },
  {
   "cell_type": "markdown",
   "metadata": {},
   "source": [
    "# Hypothesis 4: Reject Ho, given p-value is 1.24e-19"
   ]
  },
  {
   "cell_type": "code",
   "execution_count": 35,
   "metadata": {
    "collapsed": false
   },
   "outputs": [
    {
     "data": {
      "text/plain": [
       "Ttest_indResult(statistic=9.1614225561359248, pvalue=1.241492745015764e-19)"
      ]
     },
     "execution_count": 35,
     "metadata": {},
     "output_type": "execute_result"
    }
   ],
   "source": [
    "# Perform t-test on the means of the the two series:\n",
    "\n",
    "stats.ttest_ind(a=NoBidProbLess1m, b= NoBidProbOver1m, equal_var=False) # Assume samples have equal variance input as false"
   ]
  },
  {
   "cell_type": "markdown",
   "metadata": {
    "collapsed": true
   },
   "source": [
    "# Hypothesis 4:  Calculate Effect Size\n",
    "*  Effect size is 37.6%, which is small to medium effect size"
   ]
  },
  {
   "cell_type": "code",
   "execution_count": 36,
   "metadata": {
    "collapsed": false
   },
   "outputs": [
    {
     "data": {
      "text/plain": [
       "0.37556653873450146"
      ]
     },
     "execution_count": 36,
     "metadata": {},
     "output_type": "execute_result"
    }
   ],
   "source": [
    "CohenEffectSize(NoBidProbLess1m, NoBidProbOver1m)"
   ]
  },
  {
   "cell_type": "markdown",
   "metadata": {
    "collapsed": true
   },
   "source": [
    "# Hypothesis 4: Further Thoughts\n",
    "* What is interesting is that opportunities that we do not Bid on, were initially assigned a Probability of Winning in the 30% range (i.e. < 1m = 36.7%, while > 1m = 29%)\n",
    "* Does that mean that for opportunities that we do BID on, if they have a Probability of Winning of less than 30%, then we are more likely to \"LOSE\" those opportunities?  Look at the Pivot pictured below, which does seem to confirm that the we have more \"LOSSES\" than \"WINS\" when the Probability of Winning is 50% or less.\n",
    "* Besides \"Probability of Winning\", what other factors may have caused us to not BID on an opportunity?"
   ]
  },
  {
   "cell_type": "code",
   "execution_count": 47,
   "metadata": {
    "collapsed": false
   },
   "outputs": [
    {
     "data": {
      "text/html": [
       "<div>\n",
       "<table border=\"1\" class=\"dataframe\">\n",
       "  <thead>\n",
       "    <tr>\n",
       "      <th></th>\n",
       "      <th colspan=\"7\" halign=\"left\">Win_Lose</th>\n",
       "    </tr>\n",
       "    <tr>\n",
       "      <th>ProbabilityofWinning</th>\n",
       "      <th>0.1</th>\n",
       "      <th>0.3</th>\n",
       "      <th>0.5</th>\n",
       "      <th>0.7</th>\n",
       "      <th>0.9</th>\n",
       "      <th>1.0</th>\n",
       "      <th>All</th>\n",
       "    </tr>\n",
       "    <tr>\n",
       "      <th>WinLoseCategory</th>\n",
       "      <th></th>\n",
       "      <th></th>\n",
       "      <th></th>\n",
       "      <th></th>\n",
       "      <th></th>\n",
       "      <th></th>\n",
       "      <th></th>\n",
       "    </tr>\n",
       "  </thead>\n",
       "  <tbody>\n",
       "    <tr>\n",
       "      <th>Lose</th>\n",
       "      <td>639.0</td>\n",
       "      <td>900.0</td>\n",
       "      <td>638.0</td>\n",
       "      <td>236.0</td>\n",
       "      <td>73.0</td>\n",
       "      <td>42.0</td>\n",
       "      <td>2528.0</td>\n",
       "    </tr>\n",
       "    <tr>\n",
       "      <th>Win</th>\n",
       "      <td>169.0</td>\n",
       "      <td>511.0</td>\n",
       "      <td>539.0</td>\n",
       "      <td>628.0</td>\n",
       "      <td>840.0</td>\n",
       "      <td>1918.0</td>\n",
       "      <td>4605.0</td>\n",
       "    </tr>\n",
       "  </tbody>\n",
       "</table>\n",
       "</div>"
      ],
      "text/plain": [
       "                     Win_Lose                                            \n",
       "ProbabilityofWinning      0.1    0.3    0.5    0.7    0.9     1.0     All\n",
       "WinLoseCategory                                                          \n",
       "Lose                    639.0  900.0  638.0  236.0   73.0    42.0  2528.0\n",
       "Win                     169.0  511.0  539.0  628.0  840.0  1918.0  4605.0"
      ]
     },
     "execution_count": 47,
     "metadata": {},
     "output_type": "execute_result"
    }
   ],
   "source": [
    "pivot = pd.pivot_table(cleandf,index=['WinLoseCategory'], values=['Win_Lose'], columns=['ProbabilityofWinning'], aggfunc= len, margins = True)\n",
    "pivot.query('WinLoseCategory == [\"Lose\", \"Win\"]')"
   ]
  },
  {
   "cell_type": "code",
   "execution_count": null,
   "metadata": {
    "collapsed": true
   },
   "outputs": [],
   "source": []
  }
 ],
 "metadata": {
  "anaconda-cloud": {},
  "kernelspec": {
   "display_name": "Python [Root]",
   "language": "python",
   "name": "Python [Root]"
  },
  "language_info": {
   "codemirror_mode": {
    "name": "ipython",
    "version": 2
   },
   "file_extension": ".py",
   "mimetype": "text/x-python",
   "name": "python",
   "nbconvert_exporter": "python",
   "pygments_lexer": "ipython2",
   "version": "2.7.12"
  }
 },
 "nbformat": 4,
 "nbformat_minor": 0
}
