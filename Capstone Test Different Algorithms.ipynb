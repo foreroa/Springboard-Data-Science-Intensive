{
 "cells": [
  {
   "cell_type": "code",
   "execution_count": 2,
   "metadata": {
    "collapsed": true
   },
   "outputs": [],
   "source": [
    "import pandas as pd\n",
    "import numpy as np\n",
    "import matplotlib.pyplot as plt\n",
    "import seaborn as sns\n",
    "from scipy import stats\n",
    "import bokeh.plotting as bkp\n",
    "from mpl_toolkits.axes_grid1 import make_axes_locatable\n",
    "%matplotlib inline"
   ]
  },
  {
   "cell_type": "code",
   "execution_count": 3,
   "metadata": {
    "collapsed": false
   },
   "outputs": [],
   "source": [
    "from sklearn.cross_validation import KFold\n",
    "from sklearn.metrics import accuracy_score\n",
    "from sklearn.cross_validation import train_test_split\n",
    "from sklearn.linear_model import LogisticRegression\n",
    "from sklearn.metrics import classification_report\n",
    "from sklearn.metrics import confusion_matrix\n",
    "from sklearn import metrics\n",
    "from sklearn.metrics import roc_auc_score\n",
    "from sklearn.cross_validation import cross_val_score\n",
    "from sklearn.metrics import mean_squared_error\n",
    "from sklearn.metrics import r2_score"
   ]
  },
  {
   "cell_type": "markdown",
   "metadata": {},
   "source": [
    "# This notebook implements several different algorithms to my Capstone project data.  In summary, Random Forests, Support Vector Machines and KNN all performed the best, all having Area under an ROC Curve of 89.8%.   Logistic regression was 78% and Decision Trees was 74%.  Due to ease of implementation, my preferred one is Random Forests."
   ]
  },
  {
   "cell_type": "code",
   "execution_count": 144,
   "metadata": {
    "collapsed": true
   },
   "outputs": [],
   "source": [
    "# Read in data\n",
    "\n",
    "pipeline = pd.read_excel('pipelineLogR2.xlsx')"
   ]
  },
  {
   "cell_type": "markdown",
   "metadata": {},
   "source": [
    "# Set up Feature and Target Values:"
   ]
  },
  {
   "cell_type": "code",
   "execution_count": 145,
   "metadata": {
    "collapsed": true
   },
   "outputs": [],
   "source": [
    "# drop the Win_Lose column, so that all other features can be used as the x values.  There are 38 features\n",
    "\n",
    "X = pipeline.drop('Win_Lose', axis = 1)"
   ]
  },
  {
   "cell_type": "code",
   "execution_count": 6,
   "metadata": {
    "collapsed": true
   },
   "outputs": [],
   "source": [
    "# the Win_Lose column is the target column or y value\n",
    "\n",
    "y = pipeline['Win_Lose']"
   ]
  },
  {
   "cell_type": "markdown",
   "metadata": {},
   "source": [
    "# Use train_test_split to split the data:"
   ]
  },
  {
   "cell_type": "code",
   "execution_count": 7,
   "metadata": {
    "collapsed": true
   },
   "outputs": [],
   "source": [
    "# Train test split using 33% split\n",
    "\n",
    "X_train, X_test, y_train, y_test = train_test_split(X, y, test_size=0.33, random_state=101)"
   ]
  },
  {
   "cell_type": "markdown",
   "metadata": {},
   "source": [
    "#     1.  Logistic Regression:"
   ]
  },
  {
   "cell_type": "code",
   "execution_count": 8,
   "metadata": {
    "collapsed": true
   },
   "outputs": [],
   "source": [
    "logmodel = LogisticRegression()"
   ]
  },
  {
   "cell_type": "code",
   "execution_count": 9,
   "metadata": {
    "collapsed": false
   },
   "outputs": [
    {
     "data": {
      "text/plain": [
       "LogisticRegression(C=1.0, class_weight=None, dual=False, fit_intercept=True,\n",
       "          intercept_scaling=1, max_iter=100, multi_class='ovr', n_jobs=1,\n",
       "          penalty='l2', random_state=None, solver='liblinear', tol=0.0001,\n",
       "          verbose=0, warm_start=False)"
      ]
     },
     "execution_count": 9,
     "metadata": {},
     "output_type": "execute_result"
    }
   ],
   "source": [
    "logmodel.fit(X_train, y_train)"
   ]
  },
  {
   "cell_type": "code",
   "execution_count": 10,
   "metadata": {
    "collapsed": true
   },
   "outputs": [],
   "source": [
    "predictions = logmodel.predict(X_test)"
   ]
  },
  {
   "cell_type": "markdown",
   "metadata": {},
   "source": [
    "# The classification report shows an accuracy score of 71%"
   ]
  },
  {
   "cell_type": "code",
   "execution_count": 11,
   "metadata": {
    "collapsed": false
   },
   "outputs": [
    {
     "name": "stdout",
     "output_type": "stream",
     "text": [
      "             precision    recall  f1-score   support\n",
      "\n",
      "          0       0.68      0.38      0.49       840\n",
      "          1       0.72      0.90      0.80      1514\n",
      "\n",
      "avg / total       0.71      0.71      0.69      2354\n",
      "\n"
     ]
    }
   ],
   "source": [
    "print(classification_report(y_test,predictions))"
   ]
  },
  {
   "cell_type": "code",
   "execution_count": 12,
   "metadata": {
    "collapsed": false
   },
   "outputs": [
    {
     "data": {
      "text/plain": [
       "array([[ 320,  520],\n",
       "       [ 153, 1361]])"
      ]
     },
     "execution_count": 12,
     "metadata": {},
     "output_type": "execute_result"
    }
   ],
   "source": [
    "confusion_matrix(y_test,predictions)"
   ]
  },
  {
   "cell_type": "code",
   "execution_count": 13,
   "metadata": {
    "collapsed": false
   },
   "outputs": [
    {
     "name": "stdout",
     "output_type": "stream",
     "text": [
      "0.714103653356\n"
     ]
    }
   ],
   "source": [
    "print accuracy_score(logmodel.predict(X_test),y_test)"
   ]
  },
  {
   "cell_type": "code",
   "execution_count": 14,
   "metadata": {
    "collapsed": false
   },
   "outputs": [
    {
     "name": "stdout",
     "output_type": "stream",
     "text": [
      "0.70726093325\n"
     ]
    }
   ],
   "source": [
    "print accuracy_score(logmodel.predict(X_train),y_train)"
   ]
  },
  {
   "cell_type": "markdown",
   "metadata": {},
   "source": [
    "# Below is the ROC Curve"
   ]
  },
  {
   "cell_type": "code",
   "execution_count": 15,
   "metadata": {
    "collapsed": true
   },
   "outputs": [],
   "source": [
    "pred_probs = logmodel.predict_proba(X_test)"
   ]
  },
  {
   "cell_type": "code",
   "execution_count": 16,
   "metadata": {
    "collapsed": true
   },
   "outputs": [],
   "source": [
    "fpr, tpr, thresholds = metrics.roc_curve(y_test, pred_probs[:,1])"
   ]
  },
  {
   "cell_type": "code",
   "execution_count": 17,
   "metadata": {
    "collapsed": false
   },
   "outputs": [
    {
     "data": {
      "text/plain": [
       "[<matplotlib.lines.Line2D at 0xded48d0>]"
      ]
     },
     "execution_count": 17,
     "metadata": {},
     "output_type": "execute_result"
    },
    {
     "data": {
      "image/png": "[encoded data removed]",
      "text/plain": [
       "<matplotlib.figure.Figure at 0xd8c1f70>"
      ]
     },
     "metadata": {},
     "output_type": "display_data"
    }
   ],
   "source": [
    "plt.plot(fpr, tpr)"
   ]
  },
  {
   "cell_type": "markdown",
   "metadata": {},
   "source": [
    "# The area under the curve is 78%"
   ]
  },
  {
   "cell_type": "code",
   "execution_count": 18,
   "metadata": {
    "collapsed": false
   },
   "outputs": [
    {
     "name": "stdout",
     "output_type": "stream",
     "text": [
      "0.7787255457\n"
     ]
    }
   ],
   "source": [
    "auc_score = roc_auc_score(y_test, pred_probs[:,1])\n",
    "print(auc_score)"
   ]
  },
  {
   "cell_type": "markdown",
   "metadata": {},
   "source": [
    "# Use K-Fold Cross Validation to split data into 5 folds"
   ]
  },
  {
   "cell_type": "code",
   "execution_count": 19,
   "metadata": {
    "collapsed": true
   },
   "outputs": [],
   "source": [
    "kf = KFold(len(pipeline), 5, shuffle=True, random_state=8)"
   ]
  },
  {
   "cell_type": "code",
   "execution_count": 20,
   "metadata": {
    "collapsed": true
   },
   "outputs": [],
   "source": [
    "logmodel2 = LogisticRegression()"
   ]
  },
  {
   "cell_type": "markdown",
   "metadata": {},
   "source": [
    "# Calculate the Accuracy scores for the 5 folds.  The Average Accuracy score is 70.6%.  It is good that the scores are similar to when used train_test_split above."
   ]
  },
  {
   "cell_type": "code",
   "execution_count": 21,
   "metadata": {
    "collapsed": false
   },
   "outputs": [
    {
     "name": "stdout",
     "output_type": "stream",
     "text": [
      "[ 0.70217239  0.71829012  0.71198318  0.7026648   0.70196353]\n",
      "0.707414804251\n"
     ]
    }
   ],
   "source": [
    "accuracies = cross_val_score(logmodel2,X, y, scoring=\"accuracy\", cv=kf)\n",
    "\n",
    "average_accuracy = sum(accuracies) / len(accuracies)\n",
    "\n",
    "print(accuracies)\n",
    "print(average_accuracy)"
   ]
  },
  {
   "cell_type": "markdown",
   "metadata": {},
   "source": [
    "# Here are the logistic regression intercept and coefficients:"
   ]
  },
  {
   "cell_type": "code",
   "execution_count": 22,
   "metadata": {
    "collapsed": false
   },
   "outputs": [
    {
     "data": {
      "text/plain": [
       "-6.0112019221789915e-07"
      ]
     },
     "execution_count": 22,
     "metadata": {},
     "output_type": "execute_result"
    }
   ],
   "source": [
    "logmodel.intercept_[0]"
   ]
  },
  {
   "cell_type": "code",
   "execution_count": 23,
   "metadata": {
    "collapsed": false
   },
   "outputs": [
    {
     "data": {
      "text/plain": [
       "array([  6.87011250e-04,  -2.49508810e-02,   1.24429604e-08,\n",
       "         1.93124451e-04,  -1.95043311e-04,  -1.21944363e-05,\n",
       "         1.35121769e-05,   7.21854568e-05,   1.18079552e-03,\n",
       "        -5.98738552e-04,   0.00000000e+00,   5.21650894e-05,\n",
       "        -7.64818575e-04,  -4.76482576e-04,   1.51710666e-04,\n",
       "         4.90535854e-04,   1.14502697e-03,  -1.00166017e-05,\n",
       "         5.43423732e-07,   4.24830098e-04,  -5.09633768e-04,\n",
       "         8.42025494e-05,   4.24830098e-04,  -1.00093118e-05,\n",
       "         1.27948537e-04,  -6.48406422e-04,   5.28108675e-05,\n",
       "         5.22251114e-05,   3.64191952e-04,   4.10533784e-03,\n",
       "         6.12450444e-03,   7.41047339e-03,  -4.25367675e-03,\n",
       "         1.14933480e-04,   1.06124725e-04,   3.62944062e-05,\n",
       "        -1.01588593e-05,  -2.47794872e-04])"
      ]
     },
     "execution_count": 23,
     "metadata": {},
     "output_type": "execute_result"
    }
   ],
   "source": [
    "logmodel.coef_[0]"
   ]
  },
  {
   "cell_type": "code",
   "execution_count": 24,
   "metadata": {
    "collapsed": false
   },
   "outputs": [
    {
     "data": {
      "text/html": [
       "<div>\n",
       "<table border=\"1\" class=\"dataframe\">\n",
       "  <thead>\n",
       "    <tr style=\"text-align: right;\">\n",
       "      <th></th>\n",
       "      <th>features</th>\n",
       "      <th>estimatedCoefficients</th>\n",
       "    </tr>\n",
       "  </thead>\n",
       "  <tbody>\n",
       "    <tr>\n",
       "      <th>0</th>\n",
       "      <td>Fiscal_Year</td>\n",
       "      <td>6.870113e-04</td>\n",
       "    </tr>\n",
       "    <tr>\n",
       "      <th>1</th>\n",
       "      <td>AdjEstimatedBaseOptionDuration</td>\n",
       "      <td>-2.495088e-02</td>\n",
       "    </tr>\n",
       "    <tr>\n",
       "      <th>2</th>\n",
       "      <td>Amount</td>\n",
       "      <td>1.244296e-08</td>\n",
       "    </tr>\n",
       "    <tr>\n",
       "      <th>3</th>\n",
       "      <td>Less1m</td>\n",
       "      <td>1.931245e-04</td>\n",
       "    </tr>\n",
       "    <tr>\n",
       "      <th>4</th>\n",
       "      <td>1m_10m</td>\n",
       "      <td>-1.950433e-04</td>\n",
       "    </tr>\n",
       "    <tr>\n",
       "      <th>5</th>\n",
       "      <td>10m_30m</td>\n",
       "      <td>-1.219444e-05</td>\n",
       "    </tr>\n",
       "    <tr>\n",
       "      <th>6</th>\n",
       "      <td>Over30m</td>\n",
       "      <td>1.351218e-05</td>\n",
       "    </tr>\n",
       "    <tr>\n",
       "      <th>7</th>\n",
       "      <td>EstimatedFee</td>\n",
       "      <td>7.218546e-05</td>\n",
       "    </tr>\n",
       "    <tr>\n",
       "      <th>8</th>\n",
       "      <td>ProbabilityofWinning</td>\n",
       "      <td>1.180796e-03</td>\n",
       "    </tr>\n",
       "    <tr>\n",
       "      <th>9</th>\n",
       "      <td>1_20</td>\n",
       "      <td>-5.987386e-04</td>\n",
       "    </tr>\n",
       "    <tr>\n",
       "      <th>10</th>\n",
       "      <td>Blank_Qualification15</td>\n",
       "      <td>0.000000e+00</td>\n",
       "    </tr>\n",
       "    <tr>\n",
       "      <th>11</th>\n",
       "      <td>Blank_AllOther30</td>\n",
       "      <td>5.216509e-05</td>\n",
       "    </tr>\n",
       "    <tr>\n",
       "      <th>12</th>\n",
       "      <td>30</td>\n",
       "      <td>-7.648186e-04</td>\n",
       "    </tr>\n",
       "    <tr>\n",
       "      <th>13</th>\n",
       "      <td>50</td>\n",
       "      <td>-4.764826e-04</td>\n",
       "    </tr>\n",
       "    <tr>\n",
       "      <th>14</th>\n",
       "      <td>70</td>\n",
       "      <td>1.517107e-04</td>\n",
       "    </tr>\n",
       "    <tr>\n",
       "      <th>15</th>\n",
       "      <td>90</td>\n",
       "      <td>4.905359e-04</td>\n",
       "    </tr>\n",
       "    <tr>\n",
       "      <th>16</th>\n",
       "      <td>100</td>\n",
       "      <td>1.145027e-03</td>\n",
       "    </tr>\n",
       "    <tr>\n",
       "      <th>17</th>\n",
       "      <td>EstimatedBPAmt</td>\n",
       "      <td>-1.001660e-05</td>\n",
       "    </tr>\n",
       "    <tr>\n",
       "      <th>18</th>\n",
       "      <td>ActualBPAmt</td>\n",
       "      <td>5.434237e-07</td>\n",
       "    </tr>\n",
       "    <tr>\n",
       "      <th>19</th>\n",
       "      <td>Commercial</td>\n",
       "      <td>4.248301e-04</td>\n",
       "    </tr>\n",
       "    <tr>\n",
       "      <th>20</th>\n",
       "      <td>Federal</td>\n",
       "      <td>-5.096338e-04</td>\n",
       "    </tr>\n",
       "    <tr>\n",
       "      <th>21</th>\n",
       "      <td>Other</td>\n",
       "      <td>8.420255e-05</td>\n",
       "    </tr>\n",
       "    <tr>\n",
       "      <th>22</th>\n",
       "      <td>Commercial.1</td>\n",
       "      <td>4.248301e-04</td>\n",
       "    </tr>\n",
       "    <tr>\n",
       "      <th>23</th>\n",
       "      <td>CostReimbursable</td>\n",
       "      <td>-1.000931e-05</td>\n",
       "    </tr>\n",
       "    <tr>\n",
       "      <th>24</th>\n",
       "      <td>FP</td>\n",
       "      <td>1.279485e-04</td>\n",
       "    </tr>\n",
       "    <tr>\n",
       "      <th>25</th>\n",
       "      <td>Non_Fee_Bearing</td>\n",
       "      <td>-6.484064e-04</td>\n",
       "    </tr>\n",
       "    <tr>\n",
       "      <th>26</th>\n",
       "      <td>Other.1</td>\n",
       "      <td>5.281087e-05</td>\n",
       "    </tr>\n",
       "    <tr>\n",
       "      <th>27</th>\n",
       "      <td>TM</td>\n",
       "      <td>5.222511e-05</td>\n",
       "    </tr>\n",
       "    <tr>\n",
       "      <th>28</th>\n",
       "      <td>Days_in_Qualification</td>\n",
       "      <td>3.641920e-04</td>\n",
       "    </tr>\n",
       "    <tr>\n",
       "      <th>29</th>\n",
       "      <td>Days_in_PlanningCapture</td>\n",
       "      <td>4.105338e-03</td>\n",
       "    </tr>\n",
       "    <tr>\n",
       "      <th>30</th>\n",
       "      <td>Days_in_ProposalPriceQuote</td>\n",
       "      <td>6.124504e-03</td>\n",
       "    </tr>\n",
       "    <tr>\n",
       "      <th>31</th>\n",
       "      <td>Days_in_Negotiation</td>\n",
       "      <td>7.410473e-03</td>\n",
       "    </tr>\n",
       "    <tr>\n",
       "      <th>32</th>\n",
       "      <td>Days_in_Review</td>\n",
       "      <td>-4.253677e-03</td>\n",
       "    </tr>\n",
       "    <tr>\n",
       "      <th>33</th>\n",
       "      <td>AdditionalMarkets_MultiArea_blank</td>\n",
       "      <td>1.149335e-04</td>\n",
       "    </tr>\n",
       "    <tr>\n",
       "      <th>34</th>\n",
       "      <td>Education_Workforce_Development</td>\n",
       "      <td>1.061247e-04</td>\n",
       "    </tr>\n",
       "    <tr>\n",
       "      <th>35</th>\n",
       "      <td>Energy_Environment</td>\n",
       "      <td>3.629441e-05</td>\n",
       "    </tr>\n",
       "    <tr>\n",
       "      <th>36</th>\n",
       "      <td>Food_Agriculture</td>\n",
       "      <td>-1.015886e-05</td>\n",
       "    </tr>\n",
       "    <tr>\n",
       "      <th>37</th>\n",
       "      <td>Health</td>\n",
       "      <td>-2.477949e-04</td>\n",
       "    </tr>\n",
       "  </tbody>\n",
       "</table>\n",
       "</div>"
      ],
      "text/plain": [
       "                             features  estimatedCoefficients\n",
       "0                         Fiscal_Year           6.870113e-04\n",
       "1      AdjEstimatedBaseOptionDuration          -2.495088e-02\n",
       "2                              Amount           1.244296e-08\n",
       "3                              Less1m           1.931245e-04\n",
       "4                              1m_10m          -1.950433e-04\n",
       "5                             10m_30m          -1.219444e-05\n",
       "6                             Over30m           1.351218e-05\n",
       "7                        EstimatedFee           7.218546e-05\n",
       "8                ProbabilityofWinning           1.180796e-03\n",
       "9                                1_20          -5.987386e-04\n",
       "10              Blank_Qualification15           0.000000e+00\n",
       "11                   Blank_AllOther30           5.216509e-05\n",
       "12                                 30          -7.648186e-04\n",
       "13                                 50          -4.764826e-04\n",
       "14                                 70           1.517107e-04\n",
       "15                                 90           4.905359e-04\n",
       "16                                100           1.145027e-03\n",
       "17                     EstimatedBPAmt          -1.001660e-05\n",
       "18                        ActualBPAmt           5.434237e-07\n",
       "19                         Commercial           4.248301e-04\n",
       "20                            Federal          -5.096338e-04\n",
       "21                              Other           8.420255e-05\n",
       "22                       Commercial.1           4.248301e-04\n",
       "23                   CostReimbursable          -1.000931e-05\n",
       "24                                 FP           1.279485e-04\n",
       "25                    Non_Fee_Bearing          -6.484064e-04\n",
       "26                            Other.1           5.281087e-05\n",
       "27                                 TM           5.222511e-05\n",
       "28              Days_in_Qualification           3.641920e-04\n",
       "29            Days_in_PlanningCapture           4.105338e-03\n",
       "30         Days_in_ProposalPriceQuote           6.124504e-03\n",
       "31                Days_in_Negotiation           7.410473e-03\n",
       "32                     Days_in_Review          -4.253677e-03\n",
       "33  AdditionalMarkets_MultiArea_blank           1.149335e-04\n",
       "34    Education_Workforce_Development           1.061247e-04\n",
       "35                 Energy_Environment           3.629441e-05\n",
       "36                   Food_Agriculture          -1.015886e-05\n",
       "37                             Health          -2.477949e-04"
      ]
     },
     "execution_count": 24,
     "metadata": {},
     "output_type": "execute_result"
    }
   ],
   "source": [
    "pd.DataFrame(zip(X_train.columns, logmodel.coef_[0]), columns = ['features', 'estimatedCoefficients'])"
   ]
  },
  {
   "cell_type": "markdown",
   "metadata": {},
   "source": [
    "#  2.    SUPPORT VECTOR MACHINES"
   ]
  },
  {
   "cell_type": "markdown",
   "metadata": {},
   "source": [
    "# Must first scale the data to be able to use SVM"
   ]
  },
  {
   "cell_type": "code",
   "execution_count": 98,
   "metadata": {
    "collapsed": true
   },
   "outputs": [],
   "source": [
    "scalerSVM = StandardScaler()"
   ]
  },
  {
   "cell_type": "code",
   "execution_count": 99,
   "metadata": {
    "collapsed": false
   },
   "outputs": [
    {
     "data": {
      "text/plain": [
       "StandardScaler(copy=True, with_mean=True, with_std=True)"
      ]
     },
     "execution_count": 99,
     "metadata": {},
     "output_type": "execute_result"
    }
   ],
   "source": [
    "scalerSVM.fit(X)"
   ]
  },
  {
   "cell_type": "code",
   "execution_count": 100,
   "metadata": {
    "collapsed": true
   },
   "outputs": [],
   "source": [
    "scaled_featureSVM = scalerSVM.transform(X)"
   ]
  },
  {
   "cell_type": "code",
   "execution_count": 101,
   "metadata": {
    "collapsed": true
   },
   "outputs": [],
   "source": [
    "df_featSVM = pd.DataFrame(scaled_featureSVM,columns=X.columns)"
   ]
  },
  {
   "cell_type": "code",
   "execution_count": 102,
   "metadata": {
    "collapsed": false
   },
   "outputs": [
    {
     "data": {
      "text/html": [
       "<div>\n",
       "<table border=\"1\" class=\"dataframe\">\n",
       "  <thead>\n",
       "    <tr style=\"text-align: right;\">\n",
       "      <th></th>\n",
       "      <th>Fiscal_Year</th>\n",
       "      <th>AdjEstimatedBaseOptionDuration</th>\n",
       "      <th>Amount</th>\n",
       "      <th>Less1m</th>\n",
       "      <th>1m_10m</th>\n",
       "      <th>10m_30m</th>\n",
       "      <th>Over30m</th>\n",
       "      <th>EstimatedFee</th>\n",
       "      <th>ProbabilityofWinning</th>\n",
       "      <th>1_20</th>\n",
       "      <th>...</th>\n",
       "      <th>Days_in_Qualification</th>\n",
       "      <th>Days_in_PlanningCapture</th>\n",
       "      <th>Days_in_ProposalPriceQuote</th>\n",
       "      <th>Days_in_Negotiation</th>\n",
       "      <th>Days_in_Review</th>\n",
       "      <th>AdditionalMarkets_MultiArea_blank</th>\n",
       "      <th>Education_Workforce_Development</th>\n",
       "      <th>Energy_Environment</th>\n",
       "      <th>Food_Agriculture</th>\n",
       "      <th>Health</th>\n",
       "    </tr>\n",
       "  </thead>\n",
       "  <tbody>\n",
       "    <tr>\n",
       "      <th>0</th>\n",
       "      <td>-1.506131</td>\n",
       "      <td>1.888345</td>\n",
       "      <td>0.079151</td>\n",
       "      <td>-2.002281</td>\n",
       "      <td>2.237009</td>\n",
       "      <td>-0.151478</td>\n",
       "      <td>-0.103776</td>\n",
       "      <td>0.698546</td>\n",
       "      <td>-0.397325</td>\n",
       "      <td>-0.357417</td>\n",
       "      <td>...</td>\n",
       "      <td>-0.203212</td>\n",
       "      <td>-0.110926</td>\n",
       "      <td>-0.396645</td>\n",
       "      <td>-0.186622</td>\n",
       "      <td>-0.462922</td>\n",
       "      <td>-0.546624</td>\n",
       "      <td>-0.278375</td>\n",
       "      <td>-0.474753</td>\n",
       "      <td>-0.182944</td>\n",
       "      <td>1.037285</td>\n",
       "    </tr>\n",
       "    <tr>\n",
       "      <th>1</th>\n",
       "      <td>-1.506131</td>\n",
       "      <td>1.888345</td>\n",
       "      <td>-0.163144</td>\n",
       "      <td>0.499430</td>\n",
       "      <td>-0.447025</td>\n",
       "      <td>-0.151478</td>\n",
       "      <td>-0.103776</td>\n",
       "      <td>-0.113179</td>\n",
       "      <td>-1.018433</td>\n",
       "      <td>-0.357417</td>\n",
       "      <td>...</td>\n",
       "      <td>-0.203212</td>\n",
       "      <td>-0.110926</td>\n",
       "      <td>-0.396645</td>\n",
       "      <td>-0.186622</td>\n",
       "      <td>-0.462922</td>\n",
       "      <td>-0.546624</td>\n",
       "      <td>-0.278375</td>\n",
       "      <td>-0.474753</td>\n",
       "      <td>-0.182944</td>\n",
       "      <td>1.037285</td>\n",
       "    </tr>\n",
       "    <tr>\n",
       "      <th>2</th>\n",
       "      <td>-1.506131</td>\n",
       "      <td>1.286289</td>\n",
       "      <td>-0.083930</td>\n",
       "      <td>-2.002281</td>\n",
       "      <td>2.237009</td>\n",
       "      <td>-0.151478</td>\n",
       "      <td>-0.103776</td>\n",
       "      <td>0.049166</td>\n",
       "      <td>-0.397325</td>\n",
       "      <td>-0.357417</td>\n",
       "      <td>...</td>\n",
       "      <td>-0.203212</td>\n",
       "      <td>-0.110926</td>\n",
       "      <td>-0.396645</td>\n",
       "      <td>-0.186622</td>\n",
       "      <td>-0.462922</td>\n",
       "      <td>-0.546624</td>\n",
       "      <td>-0.278375</td>\n",
       "      <td>-0.474753</td>\n",
       "      <td>-0.182944</td>\n",
       "      <td>1.037285</td>\n",
       "    </tr>\n",
       "    <tr>\n",
       "      <th>3</th>\n",
       "      <td>-1.506131</td>\n",
       "      <td>0.684232</td>\n",
       "      <td>-0.140038</td>\n",
       "      <td>0.499430</td>\n",
       "      <td>-0.447025</td>\n",
       "      <td>-0.151478</td>\n",
       "      <td>-0.103776</td>\n",
       "      <td>1.185580</td>\n",
       "      <td>-0.397325</td>\n",
       "      <td>-0.357417</td>\n",
       "      <td>...</td>\n",
       "      <td>-0.203212</td>\n",
       "      <td>-0.110926</td>\n",
       "      <td>-0.396645</td>\n",
       "      <td>-0.186622</td>\n",
       "      <td>-0.462922</td>\n",
       "      <td>-0.546624</td>\n",
       "      <td>-0.278375</td>\n",
       "      <td>-0.474753</td>\n",
       "      <td>-0.182944</td>\n",
       "      <td>1.037285</td>\n",
       "    </tr>\n",
       "    <tr>\n",
       "      <th>4</th>\n",
       "      <td>-1.506131</td>\n",
       "      <td>-0.519882</td>\n",
       "      <td>-0.198539</td>\n",
       "      <td>0.499430</td>\n",
       "      <td>-0.447025</td>\n",
       "      <td>-0.151478</td>\n",
       "      <td>-0.103776</td>\n",
       "      <td>0.698546</td>\n",
       "      <td>-1.639541</td>\n",
       "      <td>2.797851</td>\n",
       "      <td>...</td>\n",
       "      <td>-0.203212</td>\n",
       "      <td>-0.110926</td>\n",
       "      <td>-0.396645</td>\n",
       "      <td>-0.186622</td>\n",
       "      <td>-0.462922</td>\n",
       "      <td>1.829410</td>\n",
       "      <td>-0.278375</td>\n",
       "      <td>-0.474753</td>\n",
       "      <td>-0.182944</td>\n",
       "      <td>-0.964055</td>\n",
       "    </tr>\n",
       "  </tbody>\n",
       "</table>\n",
       "<p>5 rows × 38 columns</p>\n",
       "</div>"
      ],
      "text/plain": [
       "   Fiscal_Year  AdjEstimatedBaseOptionDuration    Amount    Less1m    1m_10m  \\\n",
       "0    -1.506131                        1.888345  0.079151 -2.002281  2.237009   \n",
       "1    -1.506131                        1.888345 -0.163144  0.499430 -0.447025   \n",
       "2    -1.506131                        1.286289 -0.083930 -2.002281  2.237009   \n",
       "3    -1.506131                        0.684232 -0.140038  0.499430 -0.447025   \n",
       "4    -1.506131                       -0.519882 -0.198539  0.499430 -0.447025   \n",
       "\n",
       "    10m_30m   Over30m  EstimatedFee  ProbabilityofWinning      1_20    ...     \\\n",
       "0 -0.151478 -0.103776      0.698546             -0.397325 -0.357417    ...      \n",
       "1 -0.151478 -0.103776     -0.113179             -1.018433 -0.357417    ...      \n",
       "2 -0.151478 -0.103776      0.049166             -0.397325 -0.357417    ...      \n",
       "3 -0.151478 -0.103776      1.185580             -0.397325 -0.357417    ...      \n",
       "4 -0.151478 -0.103776      0.698546             -1.639541  2.797851    ...      \n",
       "\n",
       "   Days_in_Qualification  Days_in_PlanningCapture  Days_in_ProposalPriceQuote  \\\n",
       "0              -0.203212                -0.110926                   -0.396645   \n",
       "1              -0.203212                -0.110926                   -0.396645   \n",
       "2              -0.203212                -0.110926                   -0.396645   \n",
       "3              -0.203212                -0.110926                   -0.396645   \n",
       "4              -0.203212                -0.110926                   -0.396645   \n",
       "\n",
       "   Days_in_Negotiation  Days_in_Review  AdditionalMarkets_MultiArea_blank  \\\n",
       "0            -0.186622       -0.462922                          -0.546624   \n",
       "1            -0.186622       -0.462922                          -0.546624   \n",
       "2            -0.186622       -0.462922                          -0.546624   \n",
       "3            -0.186622       -0.462922                          -0.546624   \n",
       "4            -0.186622       -0.462922                           1.829410   \n",
       "\n",
       "   Education_Workforce_Development  Energy_Environment  Food_Agriculture  \\\n",
       "0                        -0.278375           -0.474753         -0.182944   \n",
       "1                        -0.278375           -0.474753         -0.182944   \n",
       "2                        -0.278375           -0.474753         -0.182944   \n",
       "3                        -0.278375           -0.474753         -0.182944   \n",
       "4                        -0.278375           -0.474753         -0.182944   \n",
       "\n",
       "     Health  \n",
       "0  1.037285  \n",
       "1  1.037285  \n",
       "2  1.037285  \n",
       "3  1.037285  \n",
       "4 -0.964055  \n",
       "\n",
       "[5 rows x 38 columns]"
      ]
     },
     "execution_count": 102,
     "metadata": {},
     "output_type": "execute_result"
    }
   ],
   "source": [
    "df_featSVM.head()"
   ]
  },
  {
   "cell_type": "code",
   "execution_count": 103,
   "metadata": {
    "collapsed": true
   },
   "outputs": [],
   "source": [
    "# Train test split using 33% split\n",
    "\n",
    "X_trainSVM, X_testSVM, y_trainSVM, y_testSVM = train_test_split(df_feat, y, test_size=0.33, random_state=101)"
   ]
  },
  {
   "cell_type": "markdown",
   "metadata": {},
   "source": [
    "# Run SVM algorithm"
   ]
  },
  {
   "cell_type": "code",
   "execution_count": 25,
   "metadata": {
    "collapsed": true
   },
   "outputs": [],
   "source": [
    "from sklearn.svm import SVC"
   ]
  },
  {
   "cell_type": "code",
   "execution_count": 123,
   "metadata": {
    "collapsed": true
   },
   "outputs": [],
   "source": [
    "model = SVC(probability=True)"
   ]
  },
  {
   "cell_type": "code",
   "execution_count": 124,
   "metadata": {
    "collapsed": false
   },
   "outputs": [
    {
     "data": {
      "text/plain": [
       "SVC(C=1.0, cache_size=200, class_weight=None, coef0=0.0,\n",
       "  decision_function_shape=None, degree=3, gamma='auto', kernel='rbf',\n",
       "  max_iter=-1, probability=True, random_state=None, shrinking=True,\n",
       "  tol=0.001, verbose=False)"
      ]
     },
     "execution_count": 124,
     "metadata": {},
     "output_type": "execute_result"
    }
   ],
   "source": [
    "model.fit(X_trainSVM,y_trainSVM)"
   ]
  },
  {
   "cell_type": "code",
   "execution_count": 125,
   "metadata": {
    "collapsed": true
   },
   "outputs": [],
   "source": [
    "predictionSVM = model.predict(X_testSVM)"
   ]
  },
  {
   "cell_type": "markdown",
   "metadata": {},
   "source": [
    "# The Classification Report shows an average Precision of 84% and a Recall of 83%.  Let's see if doing a grid_search to find the best parameters yields any better results."
   ]
  },
  {
   "cell_type": "code",
   "execution_count": 126,
   "metadata": {
    "collapsed": false
   },
   "outputs": [
    {
     "name": "stdout",
     "output_type": "stream",
     "text": [
      "[[ 686  154]\n",
      " [ 248 1266]]\n",
      "\n",
      "\n",
      "             precision    recall  f1-score   support\n",
      "\n",
      "          0       0.73      0.82      0.77       840\n",
      "          1       0.89      0.84      0.86      1514\n",
      "\n",
      "avg / total       0.84      0.83      0.83      2354\n",
      "\n"
     ]
    }
   ],
   "source": [
    "print(confusion_matrix(y_testSVM,predictionSVM))\n",
    "print('\\n')\n",
    "print(classification_report(y_testSVM,predictionSVM))"
   ]
  },
  {
   "cell_type": "markdown",
   "metadata": {},
   "source": [
    "# Use GridSearchCV to optimize the C and gamma parameters:"
   ]
  },
  {
   "cell_type": "code",
   "execution_count": 75,
   "metadata": {
    "collapsed": false
   },
   "outputs": [],
   "source": [
    "from sklearn.grid_search import GridSearchCV"
   ]
  },
  {
   "cell_type": "code",
   "execution_count": 133,
   "metadata": {
    "collapsed": true
   },
   "outputs": [],
   "source": [
    "param_grid = {'C':[0.001,0.1,1,10,100],'gamma':[1,0.1,0.01,0.001,0.0001]}"
   ]
  },
  {
   "cell_type": "code",
   "execution_count": 138,
   "metadata": {
    "collapsed": false
   },
   "outputs": [],
   "source": [
    "grid = GridSearchCV(SVC(probability=True),param_grid,verbose=3)"
   ]
  },
  {
   "cell_type": "code",
   "execution_count": 139,
   "metadata": {
    "collapsed": false
   },
   "outputs": [
    {
     "name": "stdout",
     "output_type": "stream",
     "text": [
      "Fitting 3 folds for each of 25 candidates, totalling 75 fits\n",
      "[CV] C=0.001, gamma=1 ................................................\n",
      "[CV] ....................... C=0.001, gamma=1, score=0.646801 -   4.2s\n",
      "[CV] C=0.001, gamma=1 ................................................\n",
      "[CV] ....................... C=0.001, gamma=1, score=0.646579 -   3.9s\n",
      "[CV] C=0.001, gamma=1 ................................................\n",
      "[CV] ....................... C=0.001, gamma=1, score=0.646985 -   3.9s\n",
      "[CV] C=0.001, gamma=0.1 ..............................................\n",
      "[CV] ..................... C=0.001, gamma=0.1, score=0.646801 -   2.9s\n",
      "[CV] C=0.001, gamma=0.1 ..............................................\n",
      "[CV] ..................... C=0.001, gamma=0.1, score=0.646579 -   3.0s\n",
      "[CV] C=0.001, gamma=0.1 ..............................................\n",
      "[CV] ..................... C=0.001, gamma=0.1, score=0.646985 -   2.9s\n",
      "[CV] C=0.001, gamma=0.01 .............................................\n",
      "[CV] .................... C=0.001, gamma=0.01, score=0.646801 -   3.0s\n",
      "[CV] C=0.001, gamma=0.01 .............................................\n",
      "[CV] .................... C=0.001, gamma=0.01, score=0.646579 -   2.9s\n",
      "[CV] C=0.001, gamma=0.01 .............................................\n",
      "[CV] .................... C=0.001, gamma=0.01, score=0.646985 -   3.1s\n",
      "[CV] C=0.001, gamma=0.001 ............................................\n",
      "[CV] ................... C=0.001, gamma=0.001, score=0.646801 -   2.9s\n",
      "[CV] C=0.001, gamma=0.001 ............................................\n",
      "[CV] ................... C=0.001, gamma=0.001, score=0.646579 -   2.9s\n",
      "[CV] C=0.001, gamma=0.001 ............................................\n",
      "[CV] ................... C=0.001, gamma=0.001, score=0.646985 -   2.9s\n",
      "[CV] C=0.001, gamma=0.0001 ...........................................\n",
      "[CV] .................. C=0.001, gamma=0.0001, score=0.646801 -   2.9s\n",
      "[CV] C=0.001, gamma=0.0001 ...........................................\n",
      "[CV] .................. C=0.001, gamma=0.0001, score=0.646579 -   2.8s\n",
      "[CV] C=0.001, gamma=0.0001 ...........................................\n",
      "[CV] .................. C=0.001, gamma=0.0001, score=0.646985 -   2.8s\n",
      "[CV] C=0.1, gamma=1 ..................................................\n",
      "[CV] ......................... C=0.1, gamma=1, score=0.664366 -   5.3s\n",
      "[CV] C=0.1, gamma=1 ..................................................\n",
      "[CV] ......................... C=0.1, gamma=1, score=0.659761 -   5.4s\n",
      "[CV] C=0.1, gamma=1 ..................................................\n",
      "[CV] ......................... C=0.1, gamma=1, score=0.660804 -   5.4s\n",
      "[CV] C=0.1, gamma=0.1 ................................................\n",
      "[CV] ....................... C=0.1, gamma=0.1, score=0.760979 -   3.1s\n",
      "[CV] C=0.1, gamma=0.1 ................................................\n",
      "[CV] ....................... C=0.1, gamma=0.1, score=0.769617 -   2.8s\n",
      "[CV] C=0.1, gamma=0.1 ................................................\n",
      "[CV] ....................... C=0.1, gamma=0.1, score=0.761935 -   2.9s\n",
      "[CV] C=0.1, gamma=0.01 ...............................................\n",
      "[CV] ...................... C=0.1, gamma=0.01, score=0.801757 -   2.4s\n",
      "[CV] C=0.1, gamma=0.01 ...............................................\n",
      "[CV] ...................... C=0.1, gamma=0.01, score=0.805399 -   2.3s\n",
      "[CV] C=0.1, gamma=0.01 ...............................................\n",
      "[CV] ...................... C=0.1, gamma=0.01, score=0.814698 -   2.4s\n",
      "[CV] C=0.1, gamma=0.001 ..............................................\n",
      "[CV] ..................... C=0.1, gamma=0.001, score=0.767880 -   2.9s\n",
      "[CV] C=0.1, gamma=0.001 ..............................................\n",
      "[CV] ..................... C=0.1, gamma=0.001, score=0.757690 -   3.0s\n",
      "[CV] C=0.1, gamma=0.001 ..............................................\n",
      "[CV] ..................... C=0.1, gamma=0.001, score=0.761935 -   2.9s\n",
      "[CV] C=0.1, gamma=0.0001 .............................................\n",
      "[CV] .................... C=0.1, gamma=0.0001, score=0.646801 -   3.0s\n",
      "[CV] C=0.1, gamma=0.0001 .............................................\n",
      "[CV] .................... C=0.1, gamma=0.0001, score=0.646579 -   3.1s\n",
      "[CV] C=0.1, gamma=0.0001 .............................................\n",
      "[CV] .................... C=0.1, gamma=0.0001, score=0.646985 -   2.9s\n",
      "[CV] C=1, gamma=1 ....................................................\n",
      "[CV] ........................... C=1, gamma=1, score=0.733375 -   5.8s\n",
      "[CV] C=1, gamma=1 ....................................................\n"
     ]
    },
    {
     "name": "stderr",
     "output_type": "stream",
     "text": [
      "[Parallel(n_jobs=1)]: Done  31 tasks       | elapsed:  1.8min\n"
     ]
    },
    {
     "name": "stdout",
     "output_type": "stream",
     "text": [
      "[CV] ........................... C=1, gamma=1, score=0.741368 -   5.8s\n",
      "[CV] C=1, gamma=1 ....................................................\n",
      "[CV] ........................... C=1, gamma=1, score=0.721106 -   5.9s\n",
      "[CV] C=1, gamma=0.1 ..................................................\n",
      "[CV] ......................... C=1, gamma=0.1, score=0.800502 -   2.7s\n",
      "[CV] C=1, gamma=0.1 ..................................................\n",
      "[CV] ......................... C=1, gamma=0.1, score=0.812304 -   2.8s\n",
      "[CV] C=1, gamma=0.1 ..................................................\n",
      "[CV] ......................... C=1, gamma=0.1, score=0.795226 -   2.7s\n",
      "[CV] C=1, gamma=0.01 .................................................\n",
      "[CV] ........................ C=1, gamma=0.01, score=0.804266 -   2.2s\n",
      "[CV] C=1, gamma=0.01 .................................................\n",
      "[CV] ........................ C=1, gamma=0.01, score=0.809793 -   2.1s\n",
      "[CV] C=1, gamma=0.01 .................................................\n",
      "[CV] ........................ C=1, gamma=0.01, score=0.825377 -   2.2s\n",
      "[CV] C=1, gamma=0.001 ................................................\n",
      "[CV] ....................... C=1, gamma=0.001, score=0.799247 -   2.2s\n",
      "[CV] C=1, gamma=0.001 ................................................\n",
      "[CV] ....................... C=1, gamma=0.001, score=0.804143 -   2.2s\n",
      "[CV] C=1, gamma=0.001 ................................................\n",
      "[CV] ....................... C=1, gamma=0.001, score=0.805276 -   2.2s\n",
      "[CV] C=1, gamma=0.0001 ...............................................\n",
      "[CV] ...................... C=1, gamma=0.0001, score=0.775408 -   2.9s\n",
      "[CV] C=1, gamma=0.0001 ...............................................\n",
      "[CV] ...................... C=1, gamma=0.0001, score=0.758945 -   2.9s\n",
      "[CV] C=1, gamma=0.0001 ...............................................\n",
      "[CV] ...................... C=1, gamma=0.0001, score=0.774497 -   2.9s\n",
      "[CV] C=10, gamma=1 ...................................................\n",
      "[CV] .......................... C=10, gamma=1, score=0.746550 -   6.5s\n",
      "[CV] C=10, gamma=1 ...................................................\n",
      "[CV] .......................... C=10, gamma=1, score=0.737602 -   6.6s\n",
      "[CV] C=10, gamma=1 ...................................................\n",
      "[CV] .......................... C=10, gamma=1, score=0.719849 -   7.1s\n",
      "[CV] C=10, gamma=0.1 .................................................\n",
      "[CV] ........................ C=10, gamma=0.1, score=0.782936 -   2.9s\n",
      "[CV] C=10, gamma=0.1 .................................................\n",
      "[CV] ........................ C=10, gamma=0.1, score=0.794727 -   2.9s\n",
      "[CV] C=10, gamma=0.1 .................................................\n",
      "[CV] ........................ C=10, gamma=0.1, score=0.773241 -   2.8s\n",
      "[CV] C=10, gamma=0.01 ................................................\n",
      "[CV] ....................... C=10, gamma=0.01, score=0.811794 -   2.8s\n",
      "[CV] C=10, gamma=0.01 ................................................\n",
      "[CV] ....................... C=10, gamma=0.01, score=0.808537 -   2.3s\n",
      "[CV] C=10, gamma=0.01 ................................................\n",
      "[CV] ....................... C=10, gamma=0.01, score=0.815327 -   2.3s\n",
      "[CV] C=10, gamma=0.001 ...............................................\n",
      "[CV] ...................... C=10, gamma=0.001, score=0.801757 -   2.2s\n",
      "[CV] C=10, gamma=0.001 ...............................................\n",
      "[CV] ...................... C=10, gamma=0.001, score=0.804143 -   2.2s\n",
      "[CV] C=10, gamma=0.001 ...............................................\n",
      "[CV] ...................... C=10, gamma=0.001, score=0.816583 -   2.1s\n",
      "[CV] C=10, gamma=0.0001 ..............................................\n",
      "[CV] ..................... C=10, gamma=0.0001, score=0.798620 -   2.2s\n",
      "[CV] C=10, gamma=0.0001 ..............................................\n",
      "[CV] ..................... C=10, gamma=0.0001, score=0.803515 -   2.3s\n",
      "[CV] C=10, gamma=0.0001 ..............................................\n",
      "[CV] ..................... C=10, gamma=0.0001, score=0.805276 -   2.3s\n",
      "[CV] C=100, gamma=1 ..................................................\n",
      "[CV] ......................... C=100, gamma=1, score=0.739021 -   6.5s\n",
      "[CV] C=100, gamma=1 ..................................................\n",
      "[CV] ......................... C=100, gamma=1, score=0.730697 -   7.0s\n",
      "[CV] C=100, gamma=1 ..................................................\n",
      "[CV] ......................... C=100, gamma=1, score=0.719221 -   7.3s\n",
      "[CV] C=100, gamma=0.1 ................................................\n",
      "[CV] ....................... C=100, gamma=0.1, score=0.774153 -   3.4s\n",
      "[CV] C=100, gamma=0.1 ................................................\n",
      "[CV] ....................... C=100, gamma=0.1, score=0.765851 -   3.1s\n",
      "[CV] C=100, gamma=0.1 ................................................\n",
      "[CV] ....................... C=100, gamma=0.1, score=0.756910 -   3.1s\n",
      "[CV] C=100, gamma=0.01 ...............................................\n",
      "[CV] ...................... C=100, gamma=0.01, score=0.805521 -   3.4s\n",
      "[CV] C=100, gamma=0.01 ...............................................\n",
      "[CV] ...................... C=100, gamma=0.01, score=0.805399 -   3.2s\n",
      "[CV] C=100, gamma=0.01 ...............................................\n",
      "[CV] ...................... C=100, gamma=0.01, score=0.802764 -   3.5s\n",
      "[CV] C=100, gamma=0.001 ..............................................\n",
      "[CV] ..................... C=100, gamma=0.001, score=0.808657 -   2.6s\n",
      "[CV] C=100, gamma=0.001 ..............................................\n",
      "[CV] ..................... C=100, gamma=0.001, score=0.811676 -   2.5s\n",
      "[CV] C=100, gamma=0.001 ..............................................\n",
      "[CV] ..................... C=100, gamma=0.001, score=0.822864 -   2.4s\n",
      "[CV] C=100, gamma=0.0001 .............................................\n",
      "[CV] .................... C=100, gamma=0.0001, score=0.801129 -   2.6s\n",
      "[CV] C=100, gamma=0.0001 .............................................\n",
      "[CV] .................... C=100, gamma=0.0001, score=0.804771 -   2.3s\n",
      "[CV] C=100, gamma=0.0001 .............................................\n",
      "[CV] .................... C=100, gamma=0.0001, score=0.818467 -   2.1s\n"
     ]
    },
    {
     "name": "stderr",
     "output_type": "stream",
     "text": [
      "[Parallel(n_jobs=1)]: Done  75 out of  75 | elapsed:  4.3min finished\n"
     ]
    },
    {
     "data": {
      "text/plain": [
       "GridSearchCV(cv=None, error_score='raise',\n",
       "       estimator=SVC(C=1.0, cache_size=200, class_weight=None, coef0=0.0,\n",
       "  decision_function_shape=None, degree=3, gamma='auto', kernel='rbf',\n",
       "  max_iter=-1, probability=True, random_state=None, shrinking=True,\n",
       "  tol=0.001, verbose=False),\n",
       "       fit_params={}, iid=True, n_jobs=1,\n",
       "       param_grid={'C': [0.001, 0.1, 1, 10, 100], 'gamma': [1, 0.1, 0.01, 0.001, 0.0001]},\n",
       "       pre_dispatch='2*n_jobs', refit=True, scoring=None, verbose=3)"
      ]
     },
     "execution_count": 139,
     "metadata": {},
     "output_type": "execute_result"
    }
   ],
   "source": [
    "grid.fit(X_trainSVM,y_trainSVM)"
   ]
  },
  {
   "cell_type": "markdown",
   "metadata": {},
   "source": [
    "# The best parameters are C = 100, and gamma = 0.001"
   ]
  },
  {
   "cell_type": "code",
   "execution_count": 140,
   "metadata": {
    "collapsed": false
   },
   "outputs": [
    {
     "data": {
      "text/plain": [
       "{'C': 100, 'gamma': 0.001}"
      ]
     },
     "execution_count": 140,
     "metadata": {},
     "output_type": "execute_result"
    }
   ],
   "source": [
    "grid.best_params_"
   ]
  },
  {
   "cell_type": "code",
   "execution_count": 141,
   "metadata": {
    "collapsed": false
   },
   "outputs": [
    {
     "data": {
      "text/plain": [
       "SVC(C=100, cache_size=200, class_weight=None, coef0=0.0,\n",
       "  decision_function_shape=None, degree=3, gamma=0.001, kernel='rbf',\n",
       "  max_iter=-1, probability=True, random_state=None, shrinking=True,\n",
       "  tol=0.001, verbose=False)"
      ]
     },
     "execution_count": 141,
     "metadata": {},
     "output_type": "execute_result"
    }
   ],
   "source": [
    "grid.best_estimator_"
   ]
  },
  {
   "cell_type": "code",
   "execution_count": 142,
   "metadata": {
    "collapsed": true
   },
   "outputs": [],
   "source": [
    "grid_predictionSVM = grid.predict(X_testSVM)"
   ]
  },
  {
   "cell_type": "markdown",
   "metadata": {},
   "source": [
    "# The Classification Report still shows Precision of 83% and Recall of 82%, which is slightly worse than first SVM classification report above."
   ]
  },
  {
   "cell_type": "code",
   "execution_count": 143,
   "metadata": {
    "collapsed": false
   },
   "outputs": [
    {
     "name": "stdout",
     "output_type": "stream",
     "text": [
      "[[ 693  147]\n",
      " [ 271 1243]]\n",
      "\n",
      "\n",
      "             precision    recall  f1-score   support\n",
      "\n",
      "          0       0.72      0.82      0.77       840\n",
      "          1       0.89      0.82      0.86      1514\n",
      "\n",
      "avg / total       0.83      0.82      0.82      2354\n",
      "\n"
     ]
    }
   ],
   "source": [
    "print(confusion_matrix(y_testSVM,grid_predictionSVM))\n",
    "print('\\n')\n",
    "print(classification_report(y_testSVM,grid_predictionSVM))"
   ]
  },
  {
   "cell_type": "markdown",
   "metadata": {},
   "source": [
    "# SVM ROC Curve"
   ]
  },
  {
   "cell_type": "code",
   "execution_count": 127,
   "metadata": {
    "collapsed": false
   },
   "outputs": [],
   "source": [
    "pred_probs_svm = model.predict_proba(X_testSVM)"
   ]
  },
  {
   "cell_type": "code",
   "execution_count": 129,
   "metadata": {
    "collapsed": false
   },
   "outputs": [],
   "source": [
    "fpr_svm, tpr_svm, thresholds_svm = metrics.roc_curve(y_testSVM, pred_probs_svm[:,1])"
   ]
  },
  {
   "cell_type": "code",
   "execution_count": 130,
   "metadata": {
    "collapsed": false
   },
   "outputs": [
    {
     "data": {
      "text/plain": [
       "[<matplotlib.lines.Line2D at 0xd9ebfb0>]"
      ]
     },
     "execution_count": 130,
     "metadata": {},
     "output_type": "execute_result"
    },
    {
     "data": {
      "image/png": "[encoded data removed]",
      "text/plain": [
       "<matplotlib.figure.Figure at 0x1217dd90>"
      ]
     },
     "metadata": {},
     "output_type": "display_data"
    }
   ],
   "source": [
    "plt.plot(fpr_svm, tpr_svm)"
   ]
  },
  {
   "cell_type": "markdown",
   "metadata": {},
   "source": [
    "# Area under the Curve for SVM is 89.9%"
   ]
  },
  {
   "cell_type": "code",
   "execution_count": 131,
   "metadata": {
    "collapsed": false
   },
   "outputs": [
    {
     "name": "stdout",
     "output_type": "stream",
     "text": [
      "0.898921966409\n"
     ]
    }
   ],
   "source": [
    "auc_score_svm = roc_auc_score(y_testSVM, pred_probs_svm[:,1])\n",
    "print(auc_score_rf)"
   ]
  },
  {
   "cell_type": "markdown",
   "metadata": {},
   "source": [
    "# 3.     Decision Trees"
   ]
  },
  {
   "cell_type": "code",
   "execution_count": 39,
   "metadata": {
    "collapsed": false
   },
   "outputs": [],
   "source": [
    "from sklearn.tree import DecisionTreeClassifier"
   ]
  },
  {
   "cell_type": "code",
   "execution_count": 40,
   "metadata": {
    "collapsed": true
   },
   "outputs": [],
   "source": [
    "dtree = DecisionTreeClassifier()"
   ]
  },
  {
   "cell_type": "code",
   "execution_count": 41,
   "metadata": {
    "collapsed": false
   },
   "outputs": [
    {
     "data": {
      "text/plain": [
       "DecisionTreeClassifier(class_weight=None, criterion='gini', max_depth=None,\n",
       "            max_features=None, max_leaf_nodes=None, min_samples_leaf=1,\n",
       "            min_samples_split=2, min_weight_fraction_leaf=0.0,\n",
       "            presort=False, random_state=None, splitter='best')"
      ]
     },
     "execution_count": 41,
     "metadata": {},
     "output_type": "execute_result"
    }
   ],
   "source": [
    "dtree.fit(X_train,y_train)"
   ]
  },
  {
   "cell_type": "code",
   "execution_count": 42,
   "metadata": {
    "collapsed": false
   },
   "outputs": [],
   "source": [
    "treepredictions = dtree.predict(X_test)"
   ]
  },
  {
   "cell_type": "markdown",
   "metadata": {},
   "source": [
    "# The Classification Report shows an average accuracy of 76%, which is slightly better than the 71% obtained with a logistic regression."
   ]
  },
  {
   "cell_type": "code",
   "execution_count": 43,
   "metadata": {
    "collapsed": false
   },
   "outputs": [
    {
     "name": "stdout",
     "output_type": "stream",
     "text": [
      "[[ 555  285]\n",
      " [ 286 1228]]\n",
      "\n",
      "\n",
      "             precision    recall  f1-score   support\n",
      "\n",
      "          0       0.66      0.66      0.66       840\n",
      "          1       0.81      0.81      0.81      1514\n",
      "\n",
      "avg / total       0.76      0.76      0.76      2354\n",
      "\n"
     ]
    }
   ],
   "source": [
    "print(confusion_matrix(y_test,treepredictions))\n",
    "print('\\n')\n",
    "print(classification_report(y_test,treepredictions))"
   ]
  },
  {
   "cell_type": "markdown",
   "metadata": {},
   "source": [
    "# Plot the ROC Curve for Trees"
   ]
  },
  {
   "cell_type": "code",
   "execution_count": 154,
   "metadata": {
    "collapsed": true
   },
   "outputs": [],
   "source": [
    "pred_probs_trees = dtree.predict_proba(X_test)"
   ]
  },
  {
   "cell_type": "code",
   "execution_count": 155,
   "metadata": {
    "collapsed": true
   },
   "outputs": [],
   "source": [
    "fpr_tree, tpr_tree, thresholds_tree = metrics.roc_curve(y_test, pred_probs_trees[:,1])"
   ]
  },
  {
   "cell_type": "code",
   "execution_count": 157,
   "metadata": {
    "collapsed": false
   },
   "outputs": [
    {
     "data": {
      "text/plain": [
       "[<matplotlib.lines.Line2D at 0x161a5530>]"
      ]
     },
     "execution_count": 157,
     "metadata": {},
     "output_type": "execute_result"
    },
    {
     "data": {
      "image/png": "[encoded data removed]",
      "text/plain": [
       "<matplotlib.figure.Figure at 0xd9eb1f0>"
      ]
     },
     "metadata": {},
     "output_type": "display_data"
    }
   ],
   "source": [
    "plt.plot(fpr_tree, tpr_tree)"
   ]
  },
  {
   "cell_type": "markdown",
   "metadata": {},
   "source": [
    "# Area under the Curve for Trees is 74%"
   ]
  },
  {
   "cell_type": "code",
   "execution_count": 158,
   "metadata": {
    "collapsed": false
   },
   "outputs": [
    {
     "name": "stdout",
     "output_type": "stream",
     "text": [
      "0.735905359502\n"
     ]
    }
   ],
   "source": [
    "auc_score_tree = roc_auc_score(y_test, pred_probs_trees[:,1])\n",
    "print(auc_score_tree)"
   ]
  },
  {
   "cell_type": "markdown",
   "metadata": {},
   "source": [
    "# 4.   Random Forest"
   ]
  },
  {
   "cell_type": "code",
   "execution_count": 44,
   "metadata": {
    "collapsed": true
   },
   "outputs": [],
   "source": [
    "from sklearn.ensemble import RandomForestClassifier"
   ]
  },
  {
   "cell_type": "code",
   "execution_count": 45,
   "metadata": {
    "collapsed": true
   },
   "outputs": [],
   "source": [
    "rfc = RandomForestClassifier(n_estimators=200)"
   ]
  },
  {
   "cell_type": "code",
   "execution_count": 46,
   "metadata": {
    "collapsed": false
   },
   "outputs": [
    {
     "data": {
      "text/plain": [
       "RandomForestClassifier(bootstrap=True, class_weight=None, criterion='gini',\n",
       "            max_depth=None, max_features='auto', max_leaf_nodes=None,\n",
       "            min_samples_leaf=1, min_samples_split=2,\n",
       "            min_weight_fraction_leaf=0.0, n_estimators=200, n_jobs=1,\n",
       "            oob_score=False, random_state=None, verbose=0,\n",
       "            warm_start=False)"
      ]
     },
     "execution_count": 46,
     "metadata": {},
     "output_type": "execute_result"
    }
   ],
   "source": [
    "rfc.fit(X_train,y_train)"
   ]
  },
  {
   "cell_type": "code",
   "execution_count": 47,
   "metadata": {
    "collapsed": true
   },
   "outputs": [],
   "source": [
    "rfc_pred = rfc.predict(X_test)"
   ]
  },
  {
   "cell_type": "markdown",
   "metadata": {},
   "source": [
    "# The classification report shows an average accuracy score of 83%, which is better than logistic regression or trees"
   ]
  },
  {
   "cell_type": "code",
   "execution_count": 48,
   "metadata": {
    "collapsed": false
   },
   "outputs": [
    {
     "name": "stdout",
     "output_type": "stream",
     "text": [
      "[[ 659  181]\n",
      " [ 231 1283]]\n",
      "\n",
      "\n",
      "             precision    recall  f1-score   support\n",
      "\n",
      "          0       0.74      0.78      0.76       840\n",
      "          1       0.88      0.85      0.86      1514\n",
      "\n",
      "avg / total       0.83      0.82      0.83      2354\n",
      "\n"
     ]
    }
   ],
   "source": [
    "print(confusion_matrix(y_test,rfc_pred))\n",
    "print('\\n')\n",
    "print(classification_report(y_test,rfc_pred))"
   ]
  },
  {
   "cell_type": "markdown",
   "metadata": {},
   "source": [
    "# The ROC curve is pictured below:"
   ]
  },
  {
   "cell_type": "code",
   "execution_count": 49,
   "metadata": {
    "collapsed": true
   },
   "outputs": [],
   "source": [
    "pred_probs_rf = rfc.predict_proba(X_test)"
   ]
  },
  {
   "cell_type": "code",
   "execution_count": 50,
   "metadata": {
    "collapsed": true
   },
   "outputs": [],
   "source": [
    "fpr_rf, tpr_rf, thresholds_rf = metrics.roc_curve(y_test, pred_probs_rf[:,1])"
   ]
  },
  {
   "cell_type": "code",
   "execution_count": 51,
   "metadata": {
    "collapsed": false
   },
   "outputs": [
    {
     "data": {
      "text/plain": [
       "[<matplotlib.lines.Line2D at 0x14c87a70>]"
      ]
     },
     "execution_count": 51,
     "metadata": {},
     "output_type": "execute_result"
    },
    {
     "data": {
      "image/png": "[encoded data removed]",
      "text/plain": [
       "<matplotlib.figure.Figure at 0x166eaaf0>"
      ]
     },
     "metadata": {},
     "output_type": "display_data"
    }
   ],
   "source": [
    "plt.plot(fpr_rf, tpr_rf)"
   ]
  },
  {
   "cell_type": "markdown",
   "metadata": {},
   "source": [
    "# Area under the Curve is 89.9%"
   ]
  },
  {
   "cell_type": "code",
   "execution_count": 52,
   "metadata": {
    "collapsed": false
   },
   "outputs": [
    {
     "name": "stdout",
     "output_type": "stream",
     "text": [
      "0.898921966409\n"
     ]
    }
   ],
   "source": [
    "auc_score_rf = roc_auc_score(y_test, pred_probs_rf[:,1])\n",
    "print(auc_score_rf)"
   ]
  },
  {
   "cell_type": "markdown",
   "metadata": {},
   "source": [
    "# 5.     K nearest Neighbor"
   ]
  },
  {
   "cell_type": "code",
   "execution_count": 53,
   "metadata": {
    "collapsed": false
   },
   "outputs": [],
   "source": [
    "from sklearn.preprocessing import StandardScaler"
   ]
  },
  {
   "cell_type": "markdown",
   "metadata": {},
   "source": [
    "# First, I must scale the data around a mean of zero, so that the KNN algorithm can do its job"
   ]
  },
  {
   "cell_type": "code",
   "execution_count": 54,
   "metadata": {
    "collapsed": true
   },
   "outputs": [],
   "source": [
    "scaler = StandardScaler()"
   ]
  },
  {
   "cell_type": "code",
   "execution_count": 55,
   "metadata": {
    "collapsed": false
   },
   "outputs": [
    {
     "data": {
      "text/plain": [
       "StandardScaler(copy=True, with_mean=True, with_std=True)"
      ]
     },
     "execution_count": 55,
     "metadata": {},
     "output_type": "execute_result"
    }
   ],
   "source": [
    "scaler.fit(X)"
   ]
  },
  {
   "cell_type": "code",
   "execution_count": 56,
   "metadata": {
    "collapsed": true
   },
   "outputs": [],
   "source": [
    "scaled_features = scaler.transform(X)"
   ]
  },
  {
   "cell_type": "code",
   "execution_count": 57,
   "metadata": {
    "collapsed": false
   },
   "outputs": [],
   "source": [
    "df_feat = pd.DataFrame(scaled_features,columns=X.columns)"
   ]
  },
  {
   "cell_type": "code",
   "execution_count": 58,
   "metadata": {
    "collapsed": false
   },
   "outputs": [
    {
     "data": {
      "text/html": [
       "<div>\n",
       "<table border=\"1\" class=\"dataframe\">\n",
       "  <thead>\n",
       "    <tr style=\"text-align: right;\">\n",
       "      <th></th>\n",
       "      <th>Fiscal_Year</th>\n",
       "      <th>AdjEstimatedBaseOptionDuration</th>\n",
       "      <th>Amount</th>\n",
       "      <th>Less1m</th>\n",
       "      <th>1m_10m</th>\n",
       "      <th>10m_30m</th>\n",
       "      <th>Over30m</th>\n",
       "      <th>EstimatedFee</th>\n",
       "      <th>ProbabilityofWinning</th>\n",
       "      <th>1_20</th>\n",
       "      <th>...</th>\n",
       "      <th>Days_in_Qualification</th>\n",
       "      <th>Days_in_PlanningCapture</th>\n",
       "      <th>Days_in_ProposalPriceQuote</th>\n",
       "      <th>Days_in_Negotiation</th>\n",
       "      <th>Days_in_Review</th>\n",
       "      <th>AdditionalMarkets_MultiArea_blank</th>\n",
       "      <th>Education_Workforce_Development</th>\n",
       "      <th>Energy_Environment</th>\n",
       "      <th>Food_Agriculture</th>\n",
       "      <th>Health</th>\n",
       "    </tr>\n",
       "  </thead>\n",
       "  <tbody>\n",
       "    <tr>\n",
       "      <th>0</th>\n",
       "      <td>-1.506131</td>\n",
       "      <td>1.888345</td>\n",
       "      <td>0.079151</td>\n",
       "      <td>-2.002281</td>\n",
       "      <td>2.237009</td>\n",
       "      <td>-0.151478</td>\n",
       "      <td>-0.103776</td>\n",
       "      <td>0.698546</td>\n",
       "      <td>-0.397325</td>\n",
       "      <td>-0.357417</td>\n",
       "      <td>...</td>\n",
       "      <td>-0.203212</td>\n",
       "      <td>-0.110926</td>\n",
       "      <td>-0.396645</td>\n",
       "      <td>-0.186622</td>\n",
       "      <td>-0.462922</td>\n",
       "      <td>-0.546624</td>\n",
       "      <td>-0.278375</td>\n",
       "      <td>-0.474753</td>\n",
       "      <td>-0.182944</td>\n",
       "      <td>1.037285</td>\n",
       "    </tr>\n",
       "    <tr>\n",
       "      <th>1</th>\n",
       "      <td>-1.506131</td>\n",
       "      <td>1.888345</td>\n",
       "      <td>-0.163144</td>\n",
       "      <td>0.499430</td>\n",
       "      <td>-0.447025</td>\n",
       "      <td>-0.151478</td>\n",
       "      <td>-0.103776</td>\n",
       "      <td>-0.113179</td>\n",
       "      <td>-1.018433</td>\n",
       "      <td>-0.357417</td>\n",
       "      <td>...</td>\n",
       "      <td>-0.203212</td>\n",
       "      <td>-0.110926</td>\n",
       "      <td>-0.396645</td>\n",
       "      <td>-0.186622</td>\n",
       "      <td>-0.462922</td>\n",
       "      <td>-0.546624</td>\n",
       "      <td>-0.278375</td>\n",
       "      <td>-0.474753</td>\n",
       "      <td>-0.182944</td>\n",
       "      <td>1.037285</td>\n",
       "    </tr>\n",
       "    <tr>\n",
       "      <th>2</th>\n",
       "      <td>-1.506131</td>\n",
       "      <td>1.286289</td>\n",
       "      <td>-0.083930</td>\n",
       "      <td>-2.002281</td>\n",
       "      <td>2.237009</td>\n",
       "      <td>-0.151478</td>\n",
       "      <td>-0.103776</td>\n",
       "      <td>0.049166</td>\n",
       "      <td>-0.397325</td>\n",
       "      <td>-0.357417</td>\n",
       "      <td>...</td>\n",
       "      <td>-0.203212</td>\n",
       "      <td>-0.110926</td>\n",
       "      <td>-0.396645</td>\n",
       "      <td>-0.186622</td>\n",
       "      <td>-0.462922</td>\n",
       "      <td>-0.546624</td>\n",
       "      <td>-0.278375</td>\n",
       "      <td>-0.474753</td>\n",
       "      <td>-0.182944</td>\n",
       "      <td>1.037285</td>\n",
       "    </tr>\n",
       "    <tr>\n",
       "      <th>3</th>\n",
       "      <td>-1.506131</td>\n",
       "      <td>0.684232</td>\n",
       "      <td>-0.140038</td>\n",
       "      <td>0.499430</td>\n",
       "      <td>-0.447025</td>\n",
       "      <td>-0.151478</td>\n",
       "      <td>-0.103776</td>\n",
       "      <td>1.185580</td>\n",
       "      <td>-0.397325</td>\n",
       "      <td>-0.357417</td>\n",
       "      <td>...</td>\n",
       "      <td>-0.203212</td>\n",
       "      <td>-0.110926</td>\n",
       "      <td>-0.396645</td>\n",
       "      <td>-0.186622</td>\n",
       "      <td>-0.462922</td>\n",
       "      <td>-0.546624</td>\n",
       "      <td>-0.278375</td>\n",
       "      <td>-0.474753</td>\n",
       "      <td>-0.182944</td>\n",
       "      <td>1.037285</td>\n",
       "    </tr>\n",
       "    <tr>\n",
       "      <th>4</th>\n",
       "      <td>-1.506131</td>\n",
       "      <td>-0.519882</td>\n",
       "      <td>-0.198539</td>\n",
       "      <td>0.499430</td>\n",
       "      <td>-0.447025</td>\n",
       "      <td>-0.151478</td>\n",
       "      <td>-0.103776</td>\n",
       "      <td>0.698546</td>\n",
       "      <td>-1.639541</td>\n",
       "      <td>2.797851</td>\n",
       "      <td>...</td>\n",
       "      <td>-0.203212</td>\n",
       "      <td>-0.110926</td>\n",
       "      <td>-0.396645</td>\n",
       "      <td>-0.186622</td>\n",
       "      <td>-0.462922</td>\n",
       "      <td>1.829410</td>\n",
       "      <td>-0.278375</td>\n",
       "      <td>-0.474753</td>\n",
       "      <td>-0.182944</td>\n",
       "      <td>-0.964055</td>\n",
       "    </tr>\n",
       "  </tbody>\n",
       "</table>\n",
       "<p>5 rows × 38 columns</p>\n",
       "</div>"
      ],
      "text/plain": [
       "   Fiscal_Year  AdjEstimatedBaseOptionDuration    Amount    Less1m    1m_10m  \\\n",
       "0    -1.506131                        1.888345  0.079151 -2.002281  2.237009   \n",
       "1    -1.506131                        1.888345 -0.163144  0.499430 -0.447025   \n",
       "2    -1.506131                        1.286289 -0.083930 -2.002281  2.237009   \n",
       "3    -1.506131                        0.684232 -0.140038  0.499430 -0.447025   \n",
       "4    -1.506131                       -0.519882 -0.198539  0.499430 -0.447025   \n",
       "\n",
       "    10m_30m   Over30m  EstimatedFee  ProbabilityofWinning      1_20    ...     \\\n",
       "0 -0.151478 -0.103776      0.698546             -0.397325 -0.357417    ...      \n",
       "1 -0.151478 -0.103776     -0.113179             -1.018433 -0.357417    ...      \n",
       "2 -0.151478 -0.103776      0.049166             -0.397325 -0.357417    ...      \n",
       "3 -0.151478 -0.103776      1.185580             -0.397325 -0.357417    ...      \n",
       "4 -0.151478 -0.103776      0.698546             -1.639541  2.797851    ...      \n",
       "\n",
       "   Days_in_Qualification  Days_in_PlanningCapture  Days_in_ProposalPriceQuote  \\\n",
       "0              -0.203212                -0.110926                   -0.396645   \n",
       "1              -0.203212                -0.110926                   -0.396645   \n",
       "2              -0.203212                -0.110926                   -0.396645   \n",
       "3              -0.203212                -0.110926                   -0.396645   \n",
       "4              -0.203212                -0.110926                   -0.396645   \n",
       "\n",
       "   Days_in_Negotiation  Days_in_Review  AdditionalMarkets_MultiArea_blank  \\\n",
       "0            -0.186622       -0.462922                          -0.546624   \n",
       "1            -0.186622       -0.462922                          -0.546624   \n",
       "2            -0.186622       -0.462922                          -0.546624   \n",
       "3            -0.186622       -0.462922                          -0.546624   \n",
       "4            -0.186622       -0.462922                           1.829410   \n",
       "\n",
       "   Education_Workforce_Development  Energy_Environment  Food_Agriculture  \\\n",
       "0                        -0.278375           -0.474753         -0.182944   \n",
       "1                        -0.278375           -0.474753         -0.182944   \n",
       "2                        -0.278375           -0.474753         -0.182944   \n",
       "3                        -0.278375           -0.474753         -0.182944   \n",
       "4                        -0.278375           -0.474753         -0.182944   \n",
       "\n",
       "     Health  \n",
       "0  1.037285  \n",
       "1  1.037285  \n",
       "2  1.037285  \n",
       "3  1.037285  \n",
       "4 -0.964055  \n",
       "\n",
       "[5 rows x 38 columns]"
      ]
     },
     "execution_count": 58,
     "metadata": {},
     "output_type": "execute_result"
    }
   ],
   "source": [
    "df_feat.head()"
   ]
  },
  {
   "cell_type": "markdown",
   "metadata": {},
   "source": [
    "# train_test_split the data for KNN:"
   ]
  },
  {
   "cell_type": "code",
   "execution_count": 92,
   "metadata": {
    "collapsed": true
   },
   "outputs": [],
   "source": [
    "# Train test split using 33% split\n",
    "\n",
    "X_trainKnn, X_testKnn, y_trainKnn, y_testKnn = train_test_split(df_feat, y, test_size=0.33, random_state=101)"
   ]
  },
  {
   "cell_type": "code",
   "execution_count": 93,
   "metadata": {
    "collapsed": true
   },
   "outputs": [],
   "source": [
    "from sklearn.neighbors import KNeighborsClassifier"
   ]
  },
  {
   "cell_type": "code",
   "execution_count": 94,
   "metadata": {
    "collapsed": true
   },
   "outputs": [],
   "source": [
    "knn = KNeighborsClassifier(n_neighbors=1)"
   ]
  },
  {
   "cell_type": "code",
   "execution_count": 95,
   "metadata": {
    "collapsed": false
   },
   "outputs": [
    {
     "data": {
      "text/plain": [
       "KNeighborsClassifier(algorithm='auto', leaf_size=30, metric='minkowski',\n",
       "           metric_params=None, n_jobs=1, n_neighbors=1, p=2,\n",
       "           weights='uniform')"
      ]
     },
     "execution_count": 95,
     "metadata": {},
     "output_type": "execute_result"
    }
   ],
   "source": [
    "knn.fit(X_trainKnn,y_trainKnn)"
   ]
  },
  {
   "cell_type": "code",
   "execution_count": 96,
   "metadata": {
    "collapsed": true
   },
   "outputs": [],
   "source": [
    "predKnn = knn.predict(X_testKnn)"
   ]
  },
  {
   "cell_type": "markdown",
   "metadata": {},
   "source": [
    "# Classification report shows an average accuracy score of 77% for KNN when k =1, while 71% for logistic regression, 76% for trees and 83% for random forests"
   ]
  },
  {
   "cell_type": "code",
   "execution_count": 97,
   "metadata": {
    "collapsed": false
   },
   "outputs": [
    {
     "name": "stdout",
     "output_type": "stream",
     "text": [
      "[[ 566  274]\n",
      " [ 277 1237]]\n",
      "\n",
      "\n",
      "             precision    recall  f1-score   support\n",
      "\n",
      "          0       0.67      0.67      0.67       840\n",
      "          1       0.82      0.82      0.82      1514\n",
      "\n",
      "avg / total       0.77      0.77      0.77      2354\n",
      "\n"
     ]
    }
   ],
   "source": [
    "print(confusion_matrix(y_testKnn,predKnn))\n",
    "print('\\n')\n",
    "print(classification_report(y_testKnn,predKnn))"
   ]
  },
  {
   "cell_type": "markdown",
   "metadata": {},
   "source": [
    "# The following for loop calculates the error rates at different k values.  Then I plot k values vs. error rates.  As you can see pictured below  around a k of 26 or is where the error rate first reaches a minimum.\n"
   ]
  },
  {
   "cell_type": "code",
   "execution_count": 147,
   "metadata": {
    "collapsed": false
   },
   "outputs": [],
   "source": [
    "error_rate = []\n",
    "\n",
    "for i in range(1,40):\n",
    "    \n",
    "    knn = KNeighborsClassifier(n_neighbors=i)\n",
    "    knn.fit(X_trainKnn,y_trainKnn)\n",
    "    pred_i = knn.predict(X_testKnn)\n",
    "    error_rate.append(np.mean(pred_i != y_testKnn))  \n",
    "    "
   ]
  },
  {
   "cell_type": "code",
   "execution_count": 148,
   "metadata": {
    "collapsed": false
   },
   "outputs": [
    {
     "data": {
      "text/plain": [
       "<matplotlib.text.Text at 0xd9d6170>"
      ]
     },
     "execution_count": 148,
     "metadata": {},
     "output_type": "execute_result"
    },
    {
     "data": {
      "image/png": "[encoded data removed]",
      "text/plain": [
       "<matplotlib.figure.Figure at 0xdc757f0>"
      ]
     },
     "metadata": {},
     "output_type": "display_data"
    }
   ],
   "source": [
    "plt.figure(figsize=(10,6))\n",
    "plt.plot(range(1,40),error_rate,color='blue',linestyle='dashed',marker='o',markerfacecolor='red',markersize=10)\n",
    "plt.title('Error Rate vs K value')\n",
    "plt.xlabel('K')\n",
    "plt.ylabel('Error Rate')"
   ]
  },
  {
   "cell_type": "markdown",
   "metadata": {},
   "source": [
    "# Then I run KNN again with a K of 25, and classification table shows that accuracy improves to 83%"
   ]
  },
  {
   "cell_type": "code",
   "execution_count": 149,
   "metadata": {
    "collapsed": false
   },
   "outputs": [
    {
     "name": "stdout",
     "output_type": "stream",
     "text": [
      "[[ 566  274]\n",
      " [ 277 1237]]\n",
      "\n",
      "\n",
      "             precision    recall  f1-score   support\n",
      "\n",
      "          0       0.67      0.67      0.67       840\n",
      "          1       0.82      0.82      0.82      1514\n",
      "\n",
      "avg / total       0.77      0.77      0.77      2354\n",
      "\n"
     ]
    }
   ],
   "source": [
    "knn = KNeighborsClassifier(n_neighbors=25)\n",
    "\n",
    "knn.fit(X_trainKnn,y_trainKnn)\n",
    "\n",
    "predK = knn.predict(X_testKnn)\n",
    "\n",
    "print(confusion_matrix(y_testKnn,predKnn))\n",
    "print('\\n')\n",
    "print(classification_report(y_testKnn,predKnn))"
   ]
  },
  {
   "cell_type": "code",
   "execution_count": 150,
   "metadata": {
    "collapsed": true
   },
   "outputs": [],
   "source": [
    "pred_probs_knn = knn.predict_proba(X_testKnn)"
   ]
  },
  {
   "cell_type": "code",
   "execution_count": 151,
   "metadata": {
    "collapsed": true
   },
   "outputs": [],
   "source": [
    "fpr_knn, tpr_knn, threasholds_knn = metrics.roc_curve(y_testKnn, pred_probs_knn[:,1])"
   ]
  },
  {
   "cell_type": "code",
   "execution_count": 152,
   "metadata": {
    "collapsed": false
   },
   "outputs": [
    {
     "data": {
      "text/plain": [
       "[<matplotlib.lines.Line2D at 0xdcf3c90>]"
      ]
     },
     "execution_count": 152,
     "metadata": {},
     "output_type": "execute_result"
    },
    {
     "data": {
      "image/png": "[encoded data removed]",
      "text/plain": [
       "<matplotlib.figure.Figure at 0x7842750>"
      ]
     },
     "metadata": {},
     "output_type": "display_data"
    }
   ],
   "source": [
    "plt.plot(fpr_knn, tpr_knn)"
   ]
  },
  {
   "cell_type": "markdown",
   "metadata": {},
   "source": [
    "# Area under the Curve for KNN with where K = 25 is 89.9%"
   ]
  },
  {
   "cell_type": "code",
   "execution_count": 153,
   "metadata": {
    "collapsed": false
   },
   "outputs": [
    {
     "name": "stdout",
     "output_type": "stream",
     "text": [
      "0.898921966409\n"
     ]
    }
   ],
   "source": [
    "auc_score_knn = roc_auc_score(y_testKnn, pred_probs_rf[:,1])\n",
    "print(auc_score_rf)"
   ]
  },
  {
   "cell_type": "markdown",
   "metadata": {},
   "source": [
    "# KNN Plots:"
   ]
  },
  {
   "cell_type": "code",
   "execution_count": 68,
   "metadata": {
    "collapsed": false
   },
   "outputs": [],
   "source": [
    "accuracy = []\n",
    "\n",
    "for i in range(1,40):\n",
    "    \n",
    "    knn2 = KNeighborsClassifier(n_neighbors=i)\n",
    "    knn.fit(X_trainK,y_trainK)\n",
    "    pred_i2 = knn.predict(X_testK)\n",
    "    accuracy.append(metrics.accuracy_score(y_testK,pred_i2))"
   ]
  },
  {
   "cell_type": "code",
   "execution_count": 69,
   "metadata": {
    "collapsed": false
   },
   "outputs": [
    {
     "data": {
      "text/plain": [
       "<matplotlib.text.Text at 0x12721c90>"
      ]
     },
     "execution_count": 69,
     "metadata": {},
     "output_type": "execute_result"
    },
    {
     "data": {
      "image/png": "[encoded data removed]",
      "text/plain": [
       "<matplotlib.figure.Figure at 0x16c32970>"
      ]
     },
     "metadata": {},
     "output_type": "display_data"
    }
   ],
   "source": [
    "plt.figure(figsize=(10,6))\n",
    "plt.plot(range(1,40),accuracy,color='blue',linestyle='dashed',marker='o',markerfacecolor='red',markersize=10)\n",
    "plt.title('Accuracy vs K value')\n",
    "plt.xlabel('K')\n",
    "plt.ylabel('Accuracy')"
   ]
  },
  {
   "cell_type": "markdown",
   "metadata": {},
   "source": [
    "# Plotting Cross-Validation Error Vs. Cross-Validation Variance to determine which features should be used or not:"
   ]
  },
  {
   "cell_type": "code",
   "execution_count": 70,
   "metadata": {
    "collapsed": false
   },
   "outputs": [
    {
     "data": {
      "image/png": "[encoded data removed]",
      "text/plain": [
       "<matplotlib.figure.Figure at 0x12155d30>"
      ]
     },
     "metadata": {},
     "output_type": "display_data"
    }
   ],
   "source": [
    "def train_and_cross_val(cols):\n",
    "    features = X\n",
    "    target = y\n",
    "    \n",
    "    variance_values = []\n",
    "    mse_values = []\n",
    "    \n",
    "    # KFold instance.\n",
    "    kf = KFold(n=len(pipeline), n_folds=10, shuffle=True, random_state=3)\n",
    "    \n",
    "    # Iterate through over each fold.\n",
    "    for train_index, test_index in kf:\n",
    "        # Training and test sets.\n",
    "        X_train, X_test = features.iloc[train_index], features.iloc[test_index]\n",
    "        y_train, y_test = target.iloc[train_index], target.iloc[test_index]\n",
    "        \n",
    "        # Fit the model and make predictions.\n",
    "        lr = LogisticRegression()\n",
    "        lr.fit(X_train, y_train)\n",
    "        predictions2 = lr.predict(X_test)\n",
    "        \n",
    "        # Calculate mse and variance values for this fold.\n",
    "        mse = mse = mean_squared_error(y_test, predictions2)\n",
    "        var = np.var(predictions2)\n",
    "\n",
    "        # Append to arrays to do calculate overall average mse and variance values.\n",
    "        variance_values.append(var)\n",
    "        mse_values.append(mse)\n",
    "   \n",
    "    # Compute average mse and variance values.\n",
    "    avg_mse = np.mean(mse_values)\n",
    "    avg_var = np.mean(variance_values)\n",
    "    return(avg_mse, avg_var)\n",
    "        \n",
    "two_mse, two_var = train_and_cross_val([\"Amount\", \"ProbabilityofWinning\"])\n",
    "\n",
    "three_mse, three_var = train_and_cross_val([\"Amount\", \"ProbabilityofWinning\", \"Days_in_Negotiation\"])\n",
    "\n",
    "four_mse, four_var = train_and_cross_val([\"Amount\", \"ProbabilityofWinning\", \"Days_in_Negotiation\", \"ActualBPAmt\"])\n",
    "\n",
    "five_mse, five_var = train_and_cross_val([\"Amount\", \"ProbabilityofWinning\", \"Days_in_Negotiation\", \"ActualBPAmt\", \"Days_in_ProposalPriceQuote\"])\n",
    "\n",
    "six_mse, six_var = train_and_cross_val([\"Amount\", \"ProbabilityofWinning\", \"Days_in_Negotiation\", \"ActualBPAmt\", \"Days_in_ProposalPriceQuote\", \"Days_in_PlanningCapture\"])\n",
    "\n",
    "seven_mse, seven_var = train_and_cross_val([\"Amount\", \"ProbabilityofWinning\", \"Days_in_Negotiation\", \"ActualBPAmt\", \"Days_in_ProposalPriceQuote\",\"Days_in_PlanningCapture\", \"Days_in_Review\"])\n",
    "\n",
    "\n",
    "plt.scatter([2,3,4,5,6,7], [two_mse, three_mse, four_mse, five_mse, six_mse, seven_mse], c='red')\n",
    "plt.scatter([2,3,4,5,6,7], [two_var, three_var, four_var, five_var, six_var, seven_var], c='blue')\n",
    "plt.show()"
   ]
  },
  {
   "cell_type": "code",
   "execution_count": null,
   "metadata": {
    "collapsed": true
   },
   "outputs": [],
   "source": []
  },
  {
   "cell_type": "code",
   "execution_count": null,
   "metadata": {
    "collapsed": true
   },
   "outputs": [],
   "source": []
  },
  {
   "cell_type": "code",
   "execution_count": null,
   "metadata": {
    "collapsed": true
   },
   "outputs": [],
   "source": []
  },
  {
   "cell_type": "code",
   "execution_count": null,
   "metadata": {
    "collapsed": true
   },
   "outputs": [],
   "source": []
  },
  {
   "cell_type": "code",
   "execution_count": null,
   "metadata": {
    "collapsed": true
   },
   "outputs": [],
   "source": []
  }
 ],
 "metadata": {
  "anaconda-cloud": {},
  "kernelspec": {
   "display_name": "Python [Root]",
   "language": "python",
   "name": "Python [Root]"
  },
  "language_info": {
   "codemirror_mode": {
    "name": "ipython",
    "version": 2
   },
   "file_extension": ".py",
   "mimetype": "text/x-python",
   "name": "python",
   "nbconvert_exporter": "python",
   "pygments_lexer": "ipython2",
   "version": "2.7.12"
  }
 },
 "nbformat": 4,
 "nbformat_minor": 0
}
