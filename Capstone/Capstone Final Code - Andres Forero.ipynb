{
 "cells": [
  {
   "cell_type": "markdown",
   "metadata": {},
   "source": [
    "# From Pipeline to Revenue\n",
    "* Predicting a company’s proposal wins and losses from its sales pipeline\n"
   ]
  },
  {
   "cell_type": "markdown",
   "metadata": {},
   "source": [
    "Capstone Project for Springboard - by **Andres Forero**"
   ]
  },
  {
   "cell_type": "markdown",
   "metadata": {},
   "source": [
    "# Project\n",
    "\n",
    "\n",
    "The goal of every business is to sell products or services to potential and existing customers. Over time, a selling organization can develop a database or list of potential and existing clients to whom they want to sell their products.    \n",
    "In a services organization, that means bidding on opportunities, contracts or work.  More formally, the term “sales pipeline” has come to mean a formal visual representation of those potential customers and the “stage” where they are in the selling process.\n",
    "* My capstone project will investigate a service company’s sales pipeline, and using a multi-class classification method will predict when a sales opportunity will be either 1) a Win, 2) a Loss, or 3) Other (company decided not to bid on the work, or the client decided to cancel their contract opportunity before a win / lose decision was made)\n",
    "\n",
    "\n"
   ]
  },
  {
   "cell_type": "markdown",
   "metadata": {},
   "source": [
    "# Import Libraries"
   ]
  },
  {
   "cell_type": "code",
   "execution_count": 3,
   "metadata": {
    "collapsed": true
   },
   "outputs": [],
   "source": [
    "import pandas as pd\n",
    "import numpy as np\n",
    "import matplotlib.pyplot as plt\n",
    "import seaborn as sns\n",
    "from scipy import stats\n",
    "from pandas import Series, DataFrame\n",
    "from mpl_toolkits.axes_grid1 import make_axes_locatable\n",
    "%matplotlib inline"
   ]
  },
  {
   "cell_type": "code",
   "execution_count": 4,
   "metadata": {
    "collapsed": true
   },
   "outputs": [],
   "source": [
    "from sklearn.cross_validation import KFold\n",
    "from sklearn.metrics import accuracy_score\n",
    "from sklearn.cross_validation import train_test_split\n",
    "from sklearn.linear_model import LogisticRegression\n",
    "from sklearn.metrics import classification_report\n",
    "from sklearn.metrics import confusion_matrix\n",
    "from sklearn import metrics\n",
    "from sklearn.metrics import roc_auc_score\n",
    "from sklearn.cross_validation import cross_val_score\n",
    "from sklearn.metrics import mean_squared_error\n",
    "from sklearn.metrics import r2_score\n",
    "from sklearn.preprocessing import StandardScaler\n",
    "from sklearn.svm import SVC\n",
    "from sklearn.grid_search import GridSearchCV\n",
    "from sklearn.tree import DecisionTreeClassifier\n",
    "from sklearn.neighbors import KNeighborsClassifier\n",
    "from sklearn.ensemble import RandomForestClassifier\n",
    "import xgboost\n",
    "from copy import deepcopy"
   ]
  },
  {
   "cell_type": "markdown",
   "metadata": {},
   "source": [
    "# Data Loading & Processing:"
   ]
  },
  {
   "cell_type": "code",
   "execution_count": 12,
   "metadata": {
    "collapsed": false
   },
   "outputs": [],
   "source": [
    "# Read in data\n",
    "\n",
    "pipeline = pd.read_excel('PipelineMultiClass3.xlsx')"
   ]
  },
  {
   "cell_type": "code",
   "execution_count": 13,
   "metadata": {
    "collapsed": false
   },
   "outputs": [
    {
     "name": "stdout",
     "output_type": "stream",
     "text": [
      "<class 'pandas.core.frame.DataFrame'>\n",
      "RangeIndex: 14659 entries, 0 to 14658\n",
      "Data columns (total 53 columns):\n",
      "Win_Lose_Log                       14659 non-null int64\n",
      "Multiclass                         14659 non-null int64\n",
      "4_Class                            14659 non-null int64\n",
      "BidWin%                            14659 non-null float64\n",
      "Fiscal_Year                        14659 non-null int64\n",
      "Proposal #                         14659 non-null float64\n",
      "Business Unit                      14659 non-null int64\n",
      "Bid_NoBid                          14659 non-null int64\n",
      "BidProbability%                    14659 non-null float64\n",
      "BlankBidProb                       14659 non-null int64\n",
      "UndeterminedBidProb                14659 non-null int64\n",
      "LowBidProb                         14659 non-null int64\n",
      "MediumBidProb                      14659 non-null int64\n",
      "HighBidProb                        14659 non-null int64\n",
      "AdjEstimatedBase+OptionDuration    14659 non-null int64\n",
      "Amount                             14659 non-null float64\n",
      "WeightedAmount                     14659 non-null float64\n",
      "Zero                               14659 non-null int64\n",
      "Less1m                             14659 non-null int64\n",
      "1m_10m                             14659 non-null int64\n",
      "10m_30m                            14659 non-null int64\n",
      "Over30m                            14659 non-null int64\n",
      "EstimatedFee%                      14659 non-null float64\n",
      "ProbabilityWin                     14659 non-null float64\n",
      "ProbabilityWin10%                  14659 non-null int64\n",
      "ProbWin15%Blank&QualStage          14659 non-null int64\n",
      "ProbWin30%Blank&AllOtherStage      14659 non-null int64\n",
      "ProbabilityWin30%                  14659 non-null int64\n",
      "ProbabilityWin50%                  14659 non-null int64\n",
      "ProbabilityWin70%                  14659 non-null int64\n",
      "ProbabilityWin90%                  14659 non-null int64\n",
      "ProbabilityWin100%                 14659 non-null int64\n",
      "EstimatedB&PAmt                    14659 non-null float64\n",
      "ActualB&PAmt                       14659 non-null float64\n",
      "Commercial                         14659 non-null int64\n",
      "Federal                            14659 non-null int64\n",
      "Other                              14659 non-null int64\n",
      "CommercialCT                       14659 non-null int64\n",
      "Cost Reimbursable                  14659 non-null int64\n",
      "FP                                 14659 non-null int64\n",
      "Non-Fee Bearing                    14659 non-null int64\n",
      "Other.1                            14659 non-null int64\n",
      "T&M                                14659 non-null int64\n",
      "Days_in_Qualification              14659 non-null int64\n",
      "Days_in_PlanningCapture            14659 non-null int64\n",
      "Days_in_ProposalPriceQuote         14659 non-null int64\n",
      "Days_in_Negotiation                14659 non-null int64\n",
      "Days_in_Review                     14659 non-null int64\n",
      "AdditionalMarketsMultiAreaBlank    14659 non-null int64\n",
      "EducationWorkforceDev              14659 non-null int64\n",
      "EnergyEnvironment                  14659 non-null int64\n",
      "FoodAgriculture                    14659 non-null int64\n",
      "Health                             14659 non-null int64\n",
      "dtypes: float64(9), int64(44)\n",
      "memory usage: 5.9 MB\n"
     ]
    }
   ],
   "source": [
    "pipeline.info()"
   ]
  },
  {
   "cell_type": "code",
   "execution_count": 14,
   "metadata": {
    "collapsed": false
   },
   "outputs": [],
   "source": [
    "# drop the Multiclass column, so that all other features can be used as the x values.  \n",
    "# The Multiclass column will be the Target column for the Multiclass categorization algorithms.\n",
    "\n",
    "X = pipeline.drop('Multiclass', axis = 1)"
   ]
  },
  {
   "cell_type": "code",
   "execution_count": 15,
   "metadata": {
    "collapsed": true
   },
   "outputs": [],
   "source": [
    "X = X.drop('4_Class', axis = 1)"
   ]
  },
  {
   "cell_type": "code",
   "execution_count": 16,
   "metadata": {
    "collapsed": false
   },
   "outputs": [],
   "source": [
    "# Also drop the Win_Lose_Log column, which will be used as the Target column only in the logistic Regression.\n",
    "\n",
    "X = X.drop('Win_Lose_Log', axis = 1)"
   ]
  },
  {
   "cell_type": "code",
   "execution_count": 17,
   "metadata": {
    "collapsed": true
   },
   "outputs": [],
   "source": [
    "# Since I am tackling logistic regression first, the Win_Lose_Log column will be the target column.\n",
    "\n",
    "ylog = pipeline['Win_Lose_Log']"
   ]
  },
  {
   "cell_type": "markdown",
   "metadata": {},
   "source": [
    "# Model # 1: Logistic Regression - One vs. All\n",
    "\n",
    "Given logistic regression is mostly used for binary outcomes, I have to combined the \"Losses\" and \"Other\" classes into one class, and \"Wins\" will be its own class:\n",
    "\n",
    "* Wins = 1\n",
    "* Losses = 0\n",
    "* Bid No / Cancel / Closed Other = 0"
   ]
  },
  {
   "cell_type": "code",
   "execution_count": 18,
   "metadata": {
    "collapsed": true
   },
   "outputs": [],
   "source": [
    "logmodel = LogisticRegression()"
   ]
  },
  {
   "cell_type": "code",
   "execution_count": 19,
   "metadata": {
    "collapsed": false
   },
   "outputs": [],
   "source": [
    "# Train test split using 33% split\n",
    "\n",
    "X_trainLog, X_testLog, y_trainLog, y_testLog = train_test_split(X, ylog, test_size=0.33, random_state=101)"
   ]
  },
  {
   "cell_type": "code",
   "execution_count": 20,
   "metadata": {
    "collapsed": false
   },
   "outputs": [
    {
     "data": {
      "text/plain": [
       "LogisticRegression(C=1.0, class_weight=None, dual=False, fit_intercept=True,\n",
       "          intercept_scaling=1, max_iter=100, multi_class='ovr', n_jobs=1,\n",
       "          penalty='l2', random_state=None, solver='liblinear', tol=0.0001,\n",
       "          verbose=0, warm_start=False)"
      ]
     },
     "execution_count": 20,
     "metadata": {},
     "output_type": "execute_result"
    }
   ],
   "source": [
    "logmodel.fit(X_trainLog, y_trainLog)"
   ]
  },
  {
   "cell_type": "code",
   "execution_count": 21,
   "metadata": {
    "collapsed": true
   },
   "outputs": [],
   "source": [
    "predictionsLog = logmodel.predict(X_testLog)"
   ]
  },
  {
   "cell_type": "code",
   "execution_count": 22,
   "metadata": {
    "collapsed": false
   },
   "outputs": [
    {
     "name": "stdout",
     "output_type": "stream",
     "text": [
      "[[2531  724]\n",
      " [ 211 1372]]\n",
      "\n",
      "\n",
      "             precision    recall  f1-score   support\n",
      "\n",
      "          0       0.92      0.78      0.84      3255\n",
      "          1       0.65      0.87      0.75      1583\n",
      "\n",
      "avg / total       0.84      0.81      0.81      4838\n",
      "\n"
     ]
    }
   ],
   "source": [
    "print(confusion_matrix(y_testLog,predictionsLog))\n",
    "print('\\n')\n",
    "print(classification_report(y_testLog,predictionsLog))"
   ]
  },
  {
   "cell_type": "markdown",
   "metadata": {},
   "source": [
    "# Use GridSearch CV to Optimize the Logistic model"
   ]
  },
  {
   "cell_type": "code",
   "execution_count": 23,
   "metadata": {
    "collapsed": true
   },
   "outputs": [],
   "source": [
    "log_params = {'C': [.01, .1, 1., 10., 100.]}"
   ]
  },
  {
   "cell_type": "code",
   "execution_count": 24,
   "metadata": {
    "collapsed": true
   },
   "outputs": [],
   "source": [
    "gridLog = GridSearchCV(LogisticRegression(),log_params,verbose=1)"
   ]
  },
  {
   "cell_type": "code",
   "execution_count": 25,
   "metadata": {
    "collapsed": false
   },
   "outputs": [
    {
     "name": "stdout",
     "output_type": "stream",
     "text": [
      "Fitting 3 folds for each of 5 candidates, totalling 15 fits\n"
     ]
    },
    {
     "name": "stderr",
     "output_type": "stream",
     "text": [
      "[Parallel(n_jobs=1)]: Done  15 out of  15 | elapsed:    1.4s finished\n"
     ]
    },
    {
     "data": {
      "text/plain": [
       "GridSearchCV(cv=None, error_score='raise',\n",
       "       estimator=LogisticRegression(C=1.0, class_weight=None, dual=False, fit_intercept=True,\n",
       "          intercept_scaling=1, max_iter=100, multi_class='ovr', n_jobs=1,\n",
       "          penalty='l2', random_state=None, solver='liblinear', tol=0.0001,\n",
       "          verbose=0, warm_start=False),\n",
       "       fit_params={}, iid=True, n_jobs=1,\n",
       "       param_grid={'C': [0.01, 0.1, 1.0, 10.0, 100.0]},\n",
       "       pre_dispatch='2*n_jobs', refit=True, scoring=None, verbose=1)"
      ]
     },
     "execution_count": 25,
     "metadata": {},
     "output_type": "execute_result"
    }
   ],
   "source": [
    "gridLog.fit(X_trainLog,y_trainLog)"
   ]
  },
  {
   "cell_type": "code",
   "execution_count": 26,
   "metadata": {
    "collapsed": false
   },
   "outputs": [
    {
     "data": {
      "text/plain": [
       "{'C': 1.0}"
      ]
     },
     "execution_count": 26,
     "metadata": {},
     "output_type": "execute_result"
    }
   ],
   "source": [
    "gridLog.best_params_"
   ]
  },
  {
   "cell_type": "code",
   "execution_count": 27,
   "metadata": {
    "collapsed": false
   },
   "outputs": [
    {
     "data": {
      "text/plain": [
       "LogisticRegression(C=1.0, class_weight=None, dual=False, fit_intercept=True,\n",
       "          intercept_scaling=1, max_iter=100, multi_class='ovr', n_jobs=1,\n",
       "          penalty='l2', random_state=None, solver='liblinear', tol=0.0001,\n",
       "          verbose=0, warm_start=False)"
      ]
     },
     "execution_count": 27,
     "metadata": {},
     "output_type": "execute_result"
    }
   ],
   "source": [
    "gridLog.best_estimator_"
   ]
  },
  {
   "cell_type": "code",
   "execution_count": 28,
   "metadata": {
    "collapsed": true
   },
   "outputs": [],
   "source": [
    "grid_predictionLog = gridLog.predict(X_testLog)"
   ]
  },
  {
   "cell_type": "markdown",
   "metadata": {},
   "source": [
    "# Logistic Regression:  Below are the Recall and Precision scores:"
   ]
  },
  {
   "cell_type": "code",
   "execution_count": 29,
   "metadata": {
    "collapsed": false
   },
   "outputs": [
    {
     "name": "stdout",
     "output_type": "stream",
     "text": [
      "[[2531  724]\n",
      " [ 211 1372]]\n",
      "\n",
      "\n",
      "             precision    recall  f1-score   support\n",
      "\n",
      "          0       0.92      0.78      0.84      3255\n",
      "          1       0.65      0.87      0.75      1583\n",
      "\n",
      "avg / total       0.84      0.81      0.81      4838\n",
      "\n"
     ]
    }
   ],
   "source": [
    "print(confusion_matrix(y_testLog,grid_predictionLog))\n",
    "print('\\n')\n",
    "print(classification_report(y_testLog,grid_predictionLog))"
   ]
  },
  {
   "cell_type": "code",
   "execution_count": 30,
   "metadata": {
    "collapsed": false
   },
   "outputs": [],
   "source": [
    "logcoef = pd.DataFrame(zip(X_testLog.columns, gridLog.best_estimator_.coef_[0]), columns = ['features', 'Coefficients'])"
   ]
  },
  {
   "cell_type": "markdown",
   "metadata": {},
   "source": [
    "# Below are the top 10 positive coefficients.  \n",
    "* Feature \"ActualB&PAmt\" (The actual cost spent on the proposal) was the most positive coefficient. This means the higher the ActualB&PAmt, the more likely the proposal will be labeled as a 'Win'.\n"
   ]
  },
  {
   "cell_type": "code",
   "execution_count": 31,
   "metadata": {
    "collapsed": false
   },
   "outputs": [
    {
     "data": {
      "text/html": [
       "<div>\n",
       "<table border=\"1\" class=\"dataframe\">\n",
       "  <thead>\n",
       "    <tr style=\"text-align: right;\">\n",
       "      <th></th>\n",
       "      <th>features</th>\n",
       "      <th>Coefficients</th>\n",
       "    </tr>\n",
       "  </thead>\n",
       "  <tbody>\n",
       "    <tr>\n",
       "      <th>30</th>\n",
       "      <td>ActualB&amp;PAmt</td>\n",
       "      <td>0.000022</td>\n",
       "    </tr>\n",
       "    <tr>\n",
       "      <th>43</th>\n",
       "      <td>Days_in_Negotiation</td>\n",
       "      <td>0.000021</td>\n",
       "    </tr>\n",
       "    <tr>\n",
       "      <th>2</th>\n",
       "      <td>Proposal #</td>\n",
       "      <td>0.000012</td>\n",
       "    </tr>\n",
       "    <tr>\n",
       "      <th>41</th>\n",
       "      <td>Days_in_PlanningCapture</td>\n",
       "      <td>0.000012</td>\n",
       "    </tr>\n",
       "    <tr>\n",
       "      <th>0</th>\n",
       "      <td>BidWin%</td>\n",
       "      <td>0.000006</td>\n",
       "    </tr>\n",
       "    <tr>\n",
       "      <th>28</th>\n",
       "      <td>ProbabilityWin100%</td>\n",
       "      <td>0.000005</td>\n",
       "    </tr>\n",
       "    <tr>\n",
       "      <th>20</th>\n",
       "      <td>ProbabilityWin</td>\n",
       "      <td>0.000005</td>\n",
       "    </tr>\n",
       "    <tr>\n",
       "      <th>15</th>\n",
       "      <td>Less1m</td>\n",
       "      <td>0.000002</td>\n",
       "    </tr>\n",
       "    <tr>\n",
       "      <th>27</th>\n",
       "      <td>ProbabilityWin90%</td>\n",
       "      <td>0.000002</td>\n",
       "    </tr>\n",
       "    <tr>\n",
       "      <th>4</th>\n",
       "      <td>Bid_NoBid</td>\n",
       "      <td>0.000001</td>\n",
       "    </tr>\n",
       "  </tbody>\n",
       "</table>\n",
       "</div>"
      ],
      "text/plain": [
       "                   features  Coefficients\n",
       "30             ActualB&PAmt      0.000022\n",
       "43      Days_in_Negotiation      0.000021\n",
       "2                Proposal #      0.000012\n",
       "41  Days_in_PlanningCapture      0.000012\n",
       "0                   BidWin%      0.000006\n",
       "28       ProbabilityWin100%      0.000005\n",
       "20           ProbabilityWin      0.000005\n",
       "15                   Less1m      0.000002\n",
       "27        ProbabilityWin90%      0.000002\n",
       "4                 Bid_NoBid      0.000001"
      ]
     },
     "execution_count": 31,
     "metadata": {},
     "output_type": "execute_result"
    }
   ],
   "source": [
    "logcoef.sort_values('Coefficients',ascending=False).head(10)"
   ]
  },
  {
   "cell_type": "markdown",
   "metadata": {},
   "source": [
    "# These are the most negative coefficients.  Using \"Days_in_Review\" as an example:  the higher the number of days that a proposal is in Review, the less likely that the proposal will be labelled as a \"Win'."
   ]
  },
  {
   "cell_type": "code",
   "execution_count": 32,
   "metadata": {
    "collapsed": false
   },
   "outputs": [
    {
     "data": {
      "text/html": [
       "<div>\n",
       "<table border=\"1\" class=\"dataframe\">\n",
       "  <thead>\n",
       "    <tr style=\"text-align: right;\">\n",
       "      <th></th>\n",
       "      <th>features</th>\n",
       "      <th>Coefficients</th>\n",
       "    </tr>\n",
       "  </thead>\n",
       "  <tbody>\n",
       "    <tr>\n",
       "      <th>21</th>\n",
       "      <td>ProbabilityWin10%</td>\n",
       "      <td>-0.000003</td>\n",
       "    </tr>\n",
       "    <tr>\n",
       "      <th>37</th>\n",
       "      <td>Non-Fee Bearing</td>\n",
       "      <td>-0.000003</td>\n",
       "    </tr>\n",
       "    <tr>\n",
       "      <th>3</th>\n",
       "      <td>Business Unit</td>\n",
       "      <td>-0.000003</td>\n",
       "    </tr>\n",
       "    <tr>\n",
       "      <th>24</th>\n",
       "      <td>ProbabilityWin30%</td>\n",
       "      <td>-0.000003</td>\n",
       "    </tr>\n",
       "    <tr>\n",
       "      <th>29</th>\n",
       "      <td>EstimatedB&amp;PAmt</td>\n",
       "      <td>-0.000031</td>\n",
       "    </tr>\n",
       "    <tr>\n",
       "      <th>40</th>\n",
       "      <td>Days_in_Qualification</td>\n",
       "      <td>-0.000074</td>\n",
       "    </tr>\n",
       "    <tr>\n",
       "      <th>11</th>\n",
       "      <td>AdjEstimatedBase+OptionDuration</td>\n",
       "      <td>-0.000153</td>\n",
       "    </tr>\n",
       "    <tr>\n",
       "      <th>42</th>\n",
       "      <td>Days_in_ProposalPriceQuote</td>\n",
       "      <td>-0.000232</td>\n",
       "    </tr>\n",
       "    <tr>\n",
       "      <th>44</th>\n",
       "      <td>Days_in_Review</td>\n",
       "      <td>-0.000445</td>\n",
       "    </tr>\n",
       "    <tr>\n",
       "      <th>1</th>\n",
       "      <td>Fiscal_Year</td>\n",
       "      <td>-0.001688</td>\n",
       "    </tr>\n",
       "  </tbody>\n",
       "</table>\n",
       "</div>"
      ],
      "text/plain": [
       "                           features  Coefficients\n",
       "21                ProbabilityWin10%     -0.000003\n",
       "37                  Non-Fee Bearing     -0.000003\n",
       "3                     Business Unit     -0.000003\n",
       "24                ProbabilityWin30%     -0.000003\n",
       "29                  EstimatedB&PAmt     -0.000031\n",
       "40            Days_in_Qualification     -0.000074\n",
       "11  AdjEstimatedBase+OptionDuration     -0.000153\n",
       "42       Days_in_ProposalPriceQuote     -0.000232\n",
       "44                   Days_in_Review     -0.000445\n",
       "1                       Fiscal_Year     -0.001688"
      ]
     },
     "execution_count": 32,
     "metadata": {},
     "output_type": "execute_result"
    }
   ],
   "source": [
    "logcoef.sort_values('Coefficients',ascending=False).tail(10)"
   ]
  },
  {
   "cell_type": "markdown",
   "metadata": {},
   "source": [
    "# Since I am finished analyzing Logistic Regression, and the rest of the models can do Multi-class categorization, now I will make the target be the \"Multiclass\" column."
   ]
  },
  {
   "cell_type": "code",
   "execution_count": 27,
   "metadata": {
    "collapsed": false
   },
   "outputs": [],
   "source": [
    "# the Win_Lose column is the target column or y value\n",
    "\n",
    "y = pipeline['Multiclass']"
   ]
  },
  {
   "cell_type": "markdown",
   "metadata": {},
   "source": [
    "# Model # 2:  Random Forest"
   ]
  },
  {
   "cell_type": "code",
   "execution_count": 28,
   "metadata": {
    "collapsed": true
   },
   "outputs": [],
   "source": [
    "from sklearn.ensemble import RandomForestClassifier"
   ]
  },
  {
   "cell_type": "code",
   "execution_count": 29,
   "metadata": {
    "collapsed": true
   },
   "outputs": [],
   "source": [
    "rfc = RandomForestClassifier()"
   ]
  },
  {
   "cell_type": "code",
   "execution_count": 30,
   "metadata": {
    "collapsed": true
   },
   "outputs": [],
   "source": [
    "# Train test split using 33% split\n",
    "\n",
    "X_trainRfc, X_testRfc, y_trainRfc, y_testRfc = train_test_split(X, y, test_size=0.33, random_state=101)"
   ]
  },
  {
   "cell_type": "code",
   "execution_count": 31,
   "metadata": {
    "collapsed": false
   },
   "outputs": [
    {
     "data": {
      "text/plain": [
       "RandomForestClassifier(bootstrap=True, class_weight=None, criterion='gini',\n",
       "            max_depth=None, max_features='auto', max_leaf_nodes=None,\n",
       "            min_samples_leaf=1, min_samples_split=2,\n",
       "            min_weight_fraction_leaf=0.0, n_estimators=10, n_jobs=1,\n",
       "            oob_score=False, random_state=None, verbose=0,\n",
       "            warm_start=False)"
      ]
     },
     "execution_count": 31,
     "metadata": {},
     "output_type": "execute_result"
    }
   ],
   "source": [
    "rfc.fit(X_trainRfc,y_trainRfc)"
   ]
  },
  {
   "cell_type": "code",
   "execution_count": 32,
   "metadata": {
    "collapsed": true
   },
   "outputs": [],
   "source": [
    "rfc_pred = rfc.predict(X_testRfc)"
   ]
  },
  {
   "cell_type": "code",
   "execution_count": 33,
   "metadata": {
    "collapsed": false
   },
   "outputs": [
    {
     "name": "stdout",
     "output_type": "stream",
     "text": [
      "[[ 745  166   53]\n",
      " [ 271 1270   42]\n",
      " [ 127  157 2007]]\n",
      "\n",
      "\n",
      "             precision    recall  f1-score   support\n",
      "\n",
      "          0       0.65      0.77      0.71       964\n",
      "          1       0.80      0.80      0.80      1583\n",
      "          2       0.95      0.88      0.91      2291\n",
      "\n",
      "avg / total       0.84      0.83      0.84      4838\n",
      "\n"
     ]
    }
   ],
   "source": [
    "print(confusion_matrix(y_testRfc,rfc_pred))\n",
    "print('\\n')\n",
    "print(classification_report(y_testRfc,rfc_pred))"
   ]
  },
  {
   "cell_type": "markdown",
   "metadata": {},
   "source": [
    "**Random Forest: GridSearch CV:**"
   ]
  },
  {
   "cell_type": "code",
   "execution_count": 35,
   "metadata": {
    "collapsed": false
   },
   "outputs": [],
   "source": [
    "forest_params = {'oob_score': [True, False], \n",
    "                 'min_samples_split': [2,3,4,8], \n",
    "                 'min_samples_leaf': [1,2,3,4,5,6],\n",
    "                'n_estimators': [50,100, 150,200]}"
   ]
  },
  {
   "cell_type": "code",
   "execution_count": 36,
   "metadata": {
    "collapsed": false
   },
   "outputs": [],
   "source": [
    "gridrfc = GridSearchCV(RandomForestClassifier(),forest_params,verbose=1)"
   ]
  },
  {
   "cell_type": "code",
   "execution_count": 37,
   "metadata": {
    "collapsed": false
   },
   "outputs": [
    {
     "name": "stdout",
     "output_type": "stream",
     "text": [
      "Fitting 3 folds for each of 192 candidates, totalling 576 fits\n"
     ]
    },
    {
     "name": "stderr",
     "output_type": "stream",
     "text": [
      "[Parallel(n_jobs=1)]: Done  49 tasks       | elapsed:  1.0min\n",
      "[Parallel(n_jobs=1)]: Done 199 tasks       | elapsed:  4.0min\n",
      "[Parallel(n_jobs=1)]: Done 449 tasks       | elapsed:  8.7min\n",
      "[Parallel(n_jobs=1)]: Done 576 out of 576 | elapsed: 11.0min finished\n"
     ]
    },
    {
     "data": {
      "text/plain": [
       "GridSearchCV(cv=None, error_score='raise',\n",
       "       estimator=RandomForestClassifier(bootstrap=True, class_weight=None, criterion='gini',\n",
       "            max_depth=None, max_features='auto', max_leaf_nodes=None,\n",
       "            min_samples_leaf=1, min_samples_split=2,\n",
       "            min_weight_fraction_leaf=0.0, n_estimators=10, n_jobs=1,\n",
       "            oob_score=False, random_state=None, verbose=0,\n",
       "            warm_start=False),\n",
       "       fit_params={}, iid=True, n_jobs=1,\n",
       "       param_grid={'min_samples_split': [2, 3, 4, 8], 'n_estimators': [50, 100, 150, 200], 'oob_score': [True, False], 'min_samples_leaf': [1, 2, 3, 4, 5, 6]},\n",
       "       pre_dispatch='2*n_jobs', refit=True, scoring=None, verbose=1)"
      ]
     },
     "execution_count": 37,
     "metadata": {},
     "output_type": "execute_result"
    }
   ],
   "source": [
    "gridrfc.fit(X_trainRfc,y_trainRfc)"
   ]
  },
  {
   "cell_type": "code",
   "execution_count": 38,
   "metadata": {
    "collapsed": false
   },
   "outputs": [
    {
     "data": {
      "text/plain": [
       "{'min_samples_leaf': 1,\n",
       " 'min_samples_split': 4,\n",
       " 'n_estimators': 200,\n",
       " 'oob_score': False}"
      ]
     },
     "execution_count": 38,
     "metadata": {},
     "output_type": "execute_result"
    }
   ],
   "source": [
    "gridrfc.best_params_"
   ]
  },
  {
   "cell_type": "code",
   "execution_count": 39,
   "metadata": {
    "collapsed": false
   },
   "outputs": [
    {
     "data": {
      "text/plain": [
       "RandomForestClassifier(bootstrap=True, class_weight=None, criterion='gini',\n",
       "            max_depth=None, max_features='auto', max_leaf_nodes=None,\n",
       "            min_samples_leaf=1, min_samples_split=4,\n",
       "            min_weight_fraction_leaf=0.0, n_estimators=200, n_jobs=1,\n",
       "            oob_score=False, random_state=None, verbose=0,\n",
       "            warm_start=False)"
      ]
     },
     "execution_count": 39,
     "metadata": {},
     "output_type": "execute_result"
    }
   ],
   "source": [
    "gridrfc.best_estimator_"
   ]
  },
  {
   "cell_type": "code",
   "execution_count": 40,
   "metadata": {
    "collapsed": true
   },
   "outputs": [],
   "source": [
    "grid_predictionRfc = gridrfc.predict(X_testRfc)"
   ]
  },
  {
   "cell_type": "markdown",
   "metadata": {},
   "source": [
    "# Random Forests Optimized Precision and Recall Scores"
   ]
  },
  {
   "cell_type": "code",
   "execution_count": 41,
   "metadata": {
    "collapsed": false
   },
   "outputs": [
    {
     "name": "stdout",
     "output_type": "stream",
     "text": [
      "[[ 765  160   39]\n",
      " [ 267 1292   24]\n",
      " [ 114  142 2035]]\n",
      "\n",
      "\n",
      "             precision    recall  f1-score   support\n",
      "\n",
      "          0       0.67      0.79      0.73       964\n",
      "          1       0.81      0.82      0.81      1583\n",
      "          2       0.97      0.89      0.93      2291\n",
      "\n",
      "avg / total       0.86      0.85      0.85      4838\n",
      "\n"
     ]
    }
   ],
   "source": [
    "print(confusion_matrix(y_testRfc,grid_predictionRfc))\n",
    "print('\\n')\n",
    "print(classification_report(y_testRfc,grid_predictionRfc))"
   ]
  },
  {
   "cell_type": "markdown",
   "metadata": {},
   "source": [
    "# Random Forests:  most important features (sorted from Most to Least)"
   ]
  },
  {
   "cell_type": "code",
   "execution_count": 42,
   "metadata": {
    "collapsed": false
   },
   "outputs": [
    {
     "data": {
      "text/html": [
       "<div>\n",
       "<table border=\"1\" class=\"dataframe\">\n",
       "  <thead>\n",
       "    <tr style=\"text-align: right;\">\n",
       "      <th></th>\n",
       "      <th>0</th>\n",
       "      <th>1</th>\n",
       "    </tr>\n",
       "  </thead>\n",
       "  <tbody>\n",
       "    <tr>\n",
       "      <th>2</th>\n",
       "      <td>Proposal #</td>\n",
       "      <td>0.121112</td>\n",
       "    </tr>\n",
       "    <tr>\n",
       "      <th>4</th>\n",
       "      <td>Bid_NoBid</td>\n",
       "      <td>0.097861</td>\n",
       "    </tr>\n",
       "    <tr>\n",
       "      <th>0</th>\n",
       "      <td>BidWin%</td>\n",
       "      <td>0.086803</td>\n",
       "    </tr>\n",
       "    <tr>\n",
       "      <th>30</th>\n",
       "      <td>ActualB&amp;PAmt</td>\n",
       "      <td>0.086438</td>\n",
       "    </tr>\n",
       "    <tr>\n",
       "      <th>13</th>\n",
       "      <td>WeightedAmount</td>\n",
       "      <td>0.077269</td>\n",
       "    </tr>\n",
       "    <tr>\n",
       "      <th>5</th>\n",
       "      <td>BidProbability%</td>\n",
       "      <td>0.070927</td>\n",
       "    </tr>\n",
       "    <tr>\n",
       "      <th>20</th>\n",
       "      <td>ProbabilityWin</td>\n",
       "      <td>0.059586</td>\n",
       "    </tr>\n",
       "    <tr>\n",
       "      <th>29</th>\n",
       "      <td>EstimatedB&amp;PAmt</td>\n",
       "      <td>0.052631</td>\n",
       "    </tr>\n",
       "    <tr>\n",
       "      <th>12</th>\n",
       "      <td>Amount</td>\n",
       "      <td>0.041802</td>\n",
       "    </tr>\n",
       "    <tr>\n",
       "      <th>44</th>\n",
       "      <td>Days_in_Review</td>\n",
       "      <td>0.036390</td>\n",
       "    </tr>\n",
       "  </tbody>\n",
       "</table>\n",
       "</div>"
      ],
      "text/plain": [
       "                  0         1\n",
       "2        Proposal #  0.121112\n",
       "4         Bid_NoBid  0.097861\n",
       "0           BidWin%  0.086803\n",
       "30     ActualB&PAmt  0.086438\n",
       "13   WeightedAmount  0.077269\n",
       "5   BidProbability%  0.070927\n",
       "20   ProbabilityWin  0.059586\n",
       "29  EstimatedB&PAmt  0.052631\n",
       "12           Amount  0.041802\n",
       "44   Days_in_Review  0.036390"
      ]
     },
     "execution_count": 42,
     "metadata": {},
     "output_type": "execute_result"
    }
   ],
   "source": [
    "feat_imp_RFC2 = pd.DataFrame(zip(X_trainRfc.columns, np.transpose(gridrfc.best_estimator_.feature_importances_ ))).sort_values(1,ascending=False).head(10)\n",
    "feat_imp_RFC2"
   ]
  },
  {
   "cell_type": "code",
   "execution_count": 43,
   "metadata": {
    "collapsed": false
   },
   "outputs": [
    {
     "data": {
      "text/plain": [
       "<matplotlib.text.Text at 0xe71f470>"
      ]
     },
     "execution_count": 43,
     "metadata": {},
     "output_type": "execute_result"
    },
    {
     "data": {
      "text/plain": [
       "<matplotlib.figure.Figure at 0x10631a70>"
      ]
     },
     "metadata": {},
     "output_type": "display_data"
    },
    {
     "data": {
      "image/png": "[encoded data removed]",
      "text/plain": [
       "<matplotlib.figure.Figure at 0x10631c10>"
      ]
     },
     "metadata": {},
     "output_type": "display_data"
    }
   ],
   "source": [
    "plt.figure(figsize=(20,8))\n",
    "feat_imp_RFC2.plot(kind='bar', title='Feature Importances', fontsize=15)\n",
    "plt.title('Feature Importances', fontsize = 20)\n",
    "plt.ylabel('Feature Importance Score', fontsize=15)"
   ]
  },
  {
   "cell_type": "markdown",
   "metadata": {},
   "source": [
    "# Model # 3:   XGBOOST"
   ]
  },
  {
   "cell_type": "code",
   "execution_count": 44,
   "metadata": {
    "collapsed": false
   },
   "outputs": [],
   "source": [
    "import xgboost"
   ]
  },
  {
   "cell_type": "code",
   "execution_count": 45,
   "metadata": {
    "collapsed": false
   },
   "outputs": [],
   "source": [
    "xgmodel = xgboost.XGBClassifier()"
   ]
  },
  {
   "cell_type": "code",
   "execution_count": 46,
   "metadata": {
    "collapsed": true
   },
   "outputs": [],
   "source": [
    "# Train test split using 33% split\n",
    "\n",
    "X_trainXG, X_testXG, y_trainXG, y_testXG = train_test_split(X, y, test_size=0.33, random_state=101)"
   ]
  },
  {
   "cell_type": "code",
   "execution_count": 47,
   "metadata": {
    "collapsed": false
   },
   "outputs": [
    {
     "data": {
      "text/plain": [
       "XGBClassifier(base_score=0.5, colsample_bytree=1, gamma=0, learning_rate=0.1,\n",
       "       max_delta_step=0, max_depth=3, min_child_weight=1, n_estimators=100,\n",
       "       nthread=-1, objective='multi:softprob', seed=0, silent=True,\n",
       "       subsample=1)"
      ]
     },
     "execution_count": 47,
     "metadata": {},
     "output_type": "execute_result"
    }
   ],
   "source": [
    "xgmodel.fit(X_trainXG,y_trainXG)"
   ]
  },
  {
   "cell_type": "code",
   "execution_count": 48,
   "metadata": {
    "collapsed": true
   },
   "outputs": [],
   "source": [
    "XGpredictions = xgmodel.predict(X_testXG)"
   ]
  },
  {
   "cell_type": "code",
   "execution_count": 49,
   "metadata": {
    "collapsed": false
   },
   "outputs": [
    {
     "name": "stdout",
     "output_type": "stream",
     "text": [
      "[[ 783  155   26]\n",
      " [ 264 1297   22]\n",
      " [ 120  154 2017]]\n",
      "\n",
      "\n",
      "             precision    recall  f1-score   support\n",
      "\n",
      "          0       0.67      0.81      0.73       964\n",
      "          1       0.81      0.82      0.81      1583\n",
      "          2       0.98      0.88      0.93      2291\n",
      "\n",
      "avg / total       0.86      0.85      0.85      4838\n",
      "\n"
     ]
    }
   ],
   "source": [
    "print(confusion_matrix(y_testXG,XGpredictions))\n",
    "print('\\n')\n",
    "print(classification_report(y_testXG,XGpredictions))"
   ]
  },
  {
   "cell_type": "markdown",
   "metadata": {},
   "source": [
    "# Here are the 10 most important features (sorted most to least important):"
   ]
  },
  {
   "cell_type": "markdown",
   "metadata": {},
   "source": [
    "* F44 = Days_in_Review\n",
    "* F27 = ActualB&PAmt\n",
    "* F9 = Amount\n",
    "* F39 = Days_in_ProposalPriceQuote\n",
    "* F0 = BidWin%\n",
    "* F26 = EstimatedB&PAmt\n",
    "* F1 = Bid_NoBid\n",
    "* F10 = WeightedAmount\n",
    "* F40 = Days_in_Negotiation\n",
    "* F16 = EstimatedFee%"
   ]
  },
  {
   "cell_type": "code",
   "execution_count": 58,
   "metadata": {
    "collapsed": false
   },
   "outputs": [
    {
     "data": {
      "text/plain": [
       "f44    260\n",
       "f30    219\n",
       "f2     214\n",
       "f12    166\n",
       "f29    140\n",
       "f0     139\n",
       "f42    119\n",
       "f13    100\n",
       "f43     88\n",
       "f4      84\n",
       "dtype: int64"
      ]
     },
     "execution_count": 58,
     "metadata": {},
     "output_type": "execute_result"
    }
   ],
   "source": [
    "featu_impXG = pd.Series(xgmodel.booster().get_fscore()).sort_values(ascending=False)\n",
    "featu_impXG.head(10)"
   ]
  },
  {
   "cell_type": "code",
   "execution_count": 51,
   "metadata": {
    "collapsed": false
   },
   "outputs": [
    {
     "data": {
      "text/plain": [
       "<matplotlib.text.Text at 0x10dff5f0>"
      ]
     },
     "execution_count": 51,
     "metadata": {},
     "output_type": "execute_result"
    },
    {
     "data": {
      "image/png": "[encoded data removed]",
      "text/plain": [
       "<matplotlib.figure.Figure at 0x10e2c030>"
      ]
     },
     "metadata": {},
     "output_type": "display_data"
    }
   ],
   "source": [
    "plt.figure(figsize=(20,8))\n",
    "featu_impXG.plot(kind='bar', fontsize=20)\n",
    "plt.title('Feature Importances', fontsize = 20)\n",
    "plt.ylabel('Feature Importance Score', fontsize=20)"
   ]
  },
  {
   "cell_type": "markdown",
   "metadata": {},
   "source": [
    "# Perform Kfold cross-validation with 5 folds:"
   ]
  },
  {
   "cell_type": "code",
   "execution_count": 52,
   "metadata": {
    "collapsed": true
   },
   "outputs": [],
   "source": [
    "kf_xg = KFold(len(pipeline), 5, shuffle=True, random_state=8)"
   ]
  },
  {
   "cell_type": "code",
   "execution_count": 53,
   "metadata": {
    "collapsed": true
   },
   "outputs": [],
   "source": [
    "xgmodel2 = xgboost.XGBClassifier()"
   ]
  },
  {
   "cell_type": "markdown",
   "metadata": {},
   "source": [
    "* After performing Kfold cross-validation, here are the Precision scores for the 5 folds\n",
    "* As you can see the scores are very similar to the scores calculated above in the Classification Reports\n",
    "* This implies that the model generalizes well"
   ]
  },
  {
   "cell_type": "code",
   "execution_count": 54,
   "metadata": {
    "collapsed": false
   },
   "outputs": [
    {
     "name": "stdout",
     "output_type": "stream",
     "text": [
      "[ 0.85071338  0.84927425  0.83793332  0.84594337  0.86156885]\n",
      "0.849086630902\n"
     ]
    }
   ],
   "source": [
    "precision = cross_val_score(xgmodel2,X, y, scoring=\"f1_weighted\", cv=kf_xg)\n",
    "\n",
    "average_precision = sum(precision) / len(precision)\n",
    "\n",
    "print(precision)\n",
    "print(average_precision)"
   ]
  },
  {
   "cell_type": "markdown",
   "metadata": {},
   "source": [
    "# I will perform a Grid Search to optimize the XGBoost parameters:"
   ]
  },
  {
   "cell_type": "code",
   "execution_count": 55,
   "metadata": {
    "collapsed": true
   },
   "outputs": [],
   "source": [
    "param_gridXGB = {'n_estimators':[100, 150, 200],'learning_rate':[0.0001, 0.001, 0.01, 0.1, 0.2, 0.3]}"
   ]
  },
  {
   "cell_type": "code",
   "execution_count": 56,
   "metadata": {
    "collapsed": true
   },
   "outputs": [],
   "source": [
    "gridXGB = GridSearchCV(xgboost.XGBClassifier(),param_gridXGB,verbose=1)"
   ]
  },
  {
   "cell_type": "code",
   "execution_count": 57,
   "metadata": {
    "collapsed": false
   },
   "outputs": [
    {
     "name": "stdout",
     "output_type": "stream",
     "text": [
      "Fitting 3 folds for each of 18 candidates, totalling 54 fits\n"
     ]
    },
    {
     "name": "stderr",
     "output_type": "stream",
     "text": [
      "[Parallel(n_jobs=1)]: Done  49 tasks       | elapsed:  1.5min\n",
      "[Parallel(n_jobs=1)]: Done  54 out of  54 | elapsed:  1.7min finished\n"
     ]
    },
    {
     "data": {
      "text/plain": [
       "GridSearchCV(cv=None, error_score='raise',\n",
       "       estimator=XGBClassifier(base_score=0.5, colsample_bytree=1, gamma=0, learning_rate=0.1,\n",
       "       max_delta_step=0, max_depth=3, min_child_weight=1, n_estimators=100,\n",
       "       nthread=-1, objective='binary:logistic', seed=0, silent=True,\n",
       "       subsample=1),\n",
       "       fit_params={}, iid=True, n_jobs=1,\n",
       "       param_grid={'n_estimators': [100, 150, 200], 'learning_rate': [0.0001, 0.001, 0.01, 0.1, 0.2, 0.3]},\n",
       "       pre_dispatch='2*n_jobs', refit=True, scoring=None, verbose=1)"
      ]
     },
     "execution_count": 57,
     "metadata": {},
     "output_type": "execute_result"
    }
   ],
   "source": [
    "gridXGB.fit(X_trainXG,y_trainXG)"
   ]
  },
  {
   "cell_type": "code",
   "execution_count": 66,
   "metadata": {
    "collapsed": false
   },
   "outputs": [
    {
     "data": {
      "text/plain": [
       "{'learning_rate': 0.2, 'n_estimators': 100}"
      ]
     },
     "execution_count": 66,
     "metadata": {},
     "output_type": "execute_result"
    }
   ],
   "source": [
    "gridXGB.best_params_"
   ]
  },
  {
   "cell_type": "code",
   "execution_count": 60,
   "metadata": {
    "collapsed": false
   },
   "outputs": [
    {
     "data": {
      "text/plain": [
       "XGBClassifier(base_score=0.5, colsample_bytree=1, gamma=0, learning_rate=0.2,\n",
       "       max_delta_step=0, max_depth=3, min_child_weight=1, n_estimators=100,\n",
       "       nthread=-1, objective='multi:softprob', seed=0, silent=True,\n",
       "       subsample=1)"
      ]
     },
     "execution_count": 60,
     "metadata": {},
     "output_type": "execute_result"
    }
   ],
   "source": [
    "gridXGB.best_estimator_"
   ]
  },
  {
   "cell_type": "code",
   "execution_count": 61,
   "metadata": {
    "collapsed": false
   },
   "outputs": [],
   "source": [
    "grid_predictionXGB = gridXGB.predict(X_testXG)"
   ]
  },
  {
   "cell_type": "markdown",
   "metadata": {},
   "source": [
    "# XGBoost Precision and Recall scores after GridSeach # 1:"
   ]
  },
  {
   "cell_type": "code",
   "execution_count": 62,
   "metadata": {
    "collapsed": false
   },
   "outputs": [
    {
     "name": "stdout",
     "output_type": "stream",
     "text": [
      "[[ 779  152   33]\n",
      " [ 262 1287   34]\n",
      " [ 107  138 2046]]\n",
      "\n",
      "\n",
      "             precision    recall  f1-score   support\n",
      "\n",
      "          0       0.68      0.81      0.74       964\n",
      "          1       0.82      0.81      0.81      1583\n",
      "          2       0.97      0.89      0.93      2291\n",
      "\n",
      "avg / total       0.86      0.85      0.85      4838\n",
      "\n"
     ]
    }
   ],
   "source": [
    "print(confusion_matrix(y_testXG,grid_predictionXGB))\n",
    "print('\\n')\n",
    "print(classification_report(y_testXG,grid_predictionXGB))"
   ]
  },
  {
   "cell_type": "markdown",
   "metadata": {},
   "source": [
    "# XGBoost GridSeach # 2:"
   ]
  },
  {
   "cell_type": "code",
   "execution_count": 63,
   "metadata": {
    "collapsed": true
   },
   "outputs": [],
   "source": [
    "param_gridXGB2 = {'n_estimators':[50, 100, 150, 200], 'max_depth':[2,4,6,8]}"
   ]
  },
  {
   "cell_type": "code",
   "execution_count": 64,
   "metadata": {
    "collapsed": true
   },
   "outputs": [],
   "source": [
    "gridXGB2 = GridSearchCV(xgboost.XGBClassifier(),param_gridXGB2,verbose=1)"
   ]
  },
  {
   "cell_type": "code",
   "execution_count": 65,
   "metadata": {
    "collapsed": false
   },
   "outputs": [
    {
     "name": "stdout",
     "output_type": "stream",
     "text": [
      "Fitting 3 folds for each of 16 candidates, totalling 48 fits\n"
     ]
    },
    {
     "name": "stderr",
     "output_type": "stream",
     "text": [
      "[Parallel(n_jobs=1)]: Done  48 out of  48 | elapsed:  2.0min finished\n"
     ]
    },
    {
     "data": {
      "text/plain": [
       "GridSearchCV(cv=None, error_score='raise',\n",
       "       estimator=XGBClassifier(base_score=0.5, colsample_bytree=1, gamma=0, learning_rate=0.1,\n",
       "       max_delta_step=0, max_depth=3, min_child_weight=1, n_estimators=100,\n",
       "       nthread=-1, objective='binary:logistic', seed=0, silent=True,\n",
       "       subsample=1),\n",
       "       fit_params={}, iid=True, n_jobs=1,\n",
       "       param_grid={'n_estimators': [50, 100, 150, 200], 'max_depth': [2, 4, 6, 8]},\n",
       "       pre_dispatch='2*n_jobs', refit=True, scoring=None, verbose=1)"
      ]
     },
     "execution_count": 65,
     "metadata": {},
     "output_type": "execute_result"
    }
   ],
   "source": [
    "gridXGB2.fit(X_trainXG,y_trainXG)"
   ]
  },
  {
   "cell_type": "code",
   "execution_count": 67,
   "metadata": {
    "collapsed": false
   },
   "outputs": [
    {
     "data": {
      "text/plain": [
       "{'max_depth': 6, 'n_estimators': 100}"
      ]
     },
     "execution_count": 67,
     "metadata": {},
     "output_type": "execute_result"
    }
   ],
   "source": [
    "gridXGB2.best_params_"
   ]
  },
  {
   "cell_type": "code",
   "execution_count": 68,
   "metadata": {
    "collapsed": false
   },
   "outputs": [
    {
     "data": {
      "text/plain": [
       "XGBClassifier(base_score=0.5, colsample_bytree=1, gamma=0, learning_rate=0.1,\n",
       "       max_delta_step=0, max_depth=6, min_child_weight=1, n_estimators=100,\n",
       "       nthread=-1, objective='multi:softprob', seed=0, silent=True,\n",
       "       subsample=1)"
      ]
     },
     "execution_count": 68,
     "metadata": {},
     "output_type": "execute_result"
    }
   ],
   "source": [
    "gridXGB2.best_estimator_"
   ]
  },
  {
   "cell_type": "markdown",
   "metadata": {},
   "source": [
    "# XGBoost Precision and Recall scores after GridSearch #3:"
   ]
  },
  {
   "cell_type": "code",
   "execution_count": 70,
   "metadata": {
    "collapsed": false
   },
   "outputs": [
    {
     "name": "stdout",
     "output_type": "stream",
     "text": [
      "[[ 779  152   33]\n",
      " [ 262 1287   34]\n",
      " [ 107  138 2046]]\n",
      "\n",
      "\n",
      "             precision    recall  f1-score   support\n",
      "\n",
      "          0       0.68      0.81      0.74       964\n",
      "          1       0.82      0.81      0.81      1583\n",
      "          2       0.97      0.89      0.93      2291\n",
      "\n",
      "avg / total       0.86      0.85      0.85      4838\n",
      "\n"
     ]
    }
   ],
   "source": [
    "print(confusion_matrix(y_testXG,grid_predictionXGB))\n",
    "print('\\n')\n",
    "print(classification_report(y_testXG,grid_predictionXGB))"
   ]
  },
  {
   "cell_type": "markdown",
   "metadata": {},
   "source": [
    "# XGBoost GridSearch # 3:"
   ]
  },
  {
   "cell_type": "code",
   "execution_count": 71,
   "metadata": {
    "collapsed": true
   },
   "outputs": [],
   "source": [
    "param_gridXGB3 = {'subsample':[0.1, 0.2, 0.3, 0.4, 0.5, 0.6, 0.7, 0.8, 1.0]}"
   ]
  },
  {
   "cell_type": "code",
   "execution_count": 78,
   "metadata": {
    "collapsed": true
   },
   "outputs": [],
   "source": [
    "gridXGB3 = GridSearchCV(xgboost.XGBClassifier(base_score=0.5, colsample_bytree=1, gamma=0, learning_rate=0.2,\n",
    "       max_delta_step=0, max_depth=6, min_child_weight=1, n_estimators=100,\n",
    "       nthread=-1, objective='multi:softprob', seed=0, silent=True,\n",
    "       subsample=1),param_gridXGB3,verbose=1)"
   ]
  },
  {
   "cell_type": "code",
   "execution_count": 79,
   "metadata": {
    "collapsed": false
   },
   "outputs": [
    {
     "name": "stdout",
     "output_type": "stream",
     "text": [
      "Fitting 3 folds for each of 9 candidates, totalling 27 fits\n"
     ]
    },
    {
     "name": "stderr",
     "output_type": "stream",
     "text": [
      "[Parallel(n_jobs=1)]: Done  27 out of  27 | elapsed:   52.3s finished\n"
     ]
    },
    {
     "data": {
      "text/plain": [
       "GridSearchCV(cv=None, error_score='raise',\n",
       "       estimator=XGBClassifier(base_score=0.5, colsample_bytree=1, gamma=0, learning_rate=0.2,\n",
       "       max_delta_step=0, max_depth=6, min_child_weight=1, n_estimators=100,\n",
       "       nthread=-1, objective='multi:softprob', seed=0, silent=True,\n",
       "       subsample=1),\n",
       "       fit_params={}, iid=True, n_jobs=1,\n",
       "       param_grid={'subsample': [0.1, 0.2, 0.3, 0.4, 0.5, 0.6, 0.7, 0.8, 1.0]},\n",
       "       pre_dispatch='2*n_jobs', refit=True, scoring=None, verbose=1)"
      ]
     },
     "execution_count": 79,
     "metadata": {},
     "output_type": "execute_result"
    }
   ],
   "source": [
    "gridXGB3.fit(X_trainXG,y_trainXG)"
   ]
  },
  {
   "cell_type": "code",
   "execution_count": 80,
   "metadata": {
    "collapsed": false
   },
   "outputs": [
    {
     "data": {
      "text/plain": [
       "{'subsample': 1.0}"
      ]
     },
     "execution_count": 80,
     "metadata": {},
     "output_type": "execute_result"
    }
   ],
   "source": [
    "gridXGB3.best_params_"
   ]
  },
  {
   "cell_type": "code",
   "execution_count": 81,
   "metadata": {
    "collapsed": false
   },
   "outputs": [
    {
     "data": {
      "text/plain": [
       "XGBClassifier(base_score=0.5, colsample_bytree=1, gamma=0, learning_rate=0.2,\n",
       "       max_delta_step=0, max_depth=6, min_child_weight=1, n_estimators=100,\n",
       "       nthread=-1, objective='multi:softprob', seed=0, silent=True,\n",
       "       subsample=1.0)"
      ]
     },
     "execution_count": 81,
     "metadata": {},
     "output_type": "execute_result"
    }
   ],
   "source": [
    "gridXGB3.best_estimator_"
   ]
  },
  {
   "cell_type": "code",
   "execution_count": 82,
   "metadata": {
    "collapsed": true
   },
   "outputs": [],
   "source": [
    "grid_predictionXGB3 = gridXGB3.predict(X_testXG)"
   ]
  },
  {
   "cell_type": "markdown",
   "metadata": {},
   "source": [
    "# XGBoost Precision and Recall scores after GridSearch #3:"
   ]
  },
  {
   "cell_type": "code",
   "execution_count": 170,
   "metadata": {
    "collapsed": false
   },
   "outputs": [
    {
     "name": "stdout",
     "output_type": "stream",
     "text": [
      "[[ 753  169   42]\n",
      " [ 234 1308   41]\n",
      " [  95  133 2063]]\n",
      "\n",
      "\n",
      "             precision    recall  f1-score   support\n",
      "\n",
      "          0       0.70      0.78      0.74       964\n",
      "          1       0.81      0.83      0.82      1583\n",
      "          2       0.96      0.90      0.93      2291\n",
      "\n",
      "avg / total       0.86      0.85      0.86      4838\n",
      "\n"
     ]
    }
   ],
   "source": [
    "print(confusion_matrix(y_testXG,grid_predictionXGB3))\n",
    "print('\\n')\n",
    "print(classification_report(y_testXG,grid_predictionXGB3))"
   ]
  },
  {
   "cell_type": "markdown",
   "metadata": {},
   "source": [
    "# Here are the 11 most important features for this round:\n",
    "\n",
    "* F30 = ActualB&PAmt\n",
    "* F2 = Proposal #\n",
    "* F12 = Amount\n",
    "* F29 = EstimatedB&PAmt\n",
    "* F13 = WeightedAmount\n",
    "* F44 = Days_in_Review\n",
    "* F42 = Days_in_ProposalPriceQuote\n",
    "* F19 = EstimatedFee%\n",
    "* F11 = AdjEstimatedBase+OptionDuration\n",
    "* F40 = Days_in_Qualification\n",
    "* F0 = BidWin%\n"
   ]
  },
  {
   "cell_type": "code",
   "execution_count": 172,
   "metadata": {
    "collapsed": false
   },
   "outputs": [
    {
     "data": {
      "text/plain": [
       "f30    1163\n",
       "f2     1110\n",
       "f12     973\n",
       "f29     864\n",
       "f13     812\n",
       "f44     761\n",
       "f42     551\n",
       "f19     450\n",
       "f11     388\n",
       "f40     294\n",
       "f0      247\n",
       "dtype: int64"
      ]
     },
     "execution_count": 172,
     "metadata": {},
     "output_type": "execute_result"
    }
   ],
   "source": [
    "feat_impXGB1 = pd.Series(gridXGB3.best_estimator_.booster().get_fscore()).sort_values(ascending=False)\n",
    "feat_impXGB1.head(11)"
   ]
  },
  {
   "cell_type": "code",
   "execution_count": 85,
   "metadata": {
    "collapsed": false
   },
   "outputs": [
    {
     "data": {
      "text/plain": [
       "<matplotlib.text.Text at 0x1118d050>"
      ]
     },
     "execution_count": 85,
     "metadata": {},
     "output_type": "execute_result"
    },
    {
     "data": {
      "image/png": "[encoded data removed]",
      "text/plain": [
       "<matplotlib.figure.Figure at 0x10631bf0>"
      ]
     },
     "metadata": {},
     "output_type": "display_data"
    }
   ],
   "source": [
    "plt.figure(figsize=(20,8))\n",
    "feat_impXGB1.plot(kind='bar', fontsize=20)\n",
    "plt.title('Feature Importances XGBoost', fontsize = 20)\n",
    "plt.ylabel('Feature Importance Score', fontsize=20)"
   ]
  },
  {
   "cell_type": "markdown",
   "metadata": {},
   "source": [
    "# Model # 4:  Support Vector Machines"
   ]
  },
  {
   "cell_type": "markdown",
   "metadata": {},
   "source": [
    "* Scale Data for SVM:"
   ]
  },
  {
   "cell_type": "code",
   "execution_count": 86,
   "metadata": {
    "collapsed": false
   },
   "outputs": [],
   "source": [
    "scalerSVM = StandardScaler()"
   ]
  },
  {
   "cell_type": "code",
   "execution_count": 87,
   "metadata": {
    "collapsed": false
   },
   "outputs": [
    {
     "data": {
      "text/plain": [
       "StandardScaler(copy=True, with_mean=True, with_std=True)"
      ]
     },
     "execution_count": 87,
     "metadata": {},
     "output_type": "execute_result"
    }
   ],
   "source": [
    "scalerSVM.fit(X)"
   ]
  },
  {
   "cell_type": "code",
   "execution_count": 88,
   "metadata": {
    "collapsed": true
   },
   "outputs": [],
   "source": [
    "scaled_featureSVM = scalerSVM.transform(X)"
   ]
  },
  {
   "cell_type": "code",
   "execution_count": 89,
   "metadata": {
    "collapsed": true
   },
   "outputs": [],
   "source": [
    "df_featSVM = pd.DataFrame(scaled_featureSVM,columns=X.columns)"
   ]
  },
  {
   "cell_type": "code",
   "execution_count": 90,
   "metadata": {
    "collapsed": false
   },
   "outputs": [
    {
     "data": {
      "text/html": [
       "<div>\n",
       "<table border=\"1\" class=\"dataframe\">\n",
       "  <thead>\n",
       "    <tr style=\"text-align: right;\">\n",
       "      <th></th>\n",
       "      <th>BidWin%</th>\n",
       "      <th>Fiscal_Year</th>\n",
       "      <th>Proposal #</th>\n",
       "      <th>Business Unit</th>\n",
       "      <th>Bid_NoBid</th>\n",
       "      <th>BidProbability%</th>\n",
       "      <th>BlankBidProb</th>\n",
       "      <th>UndeterminedBidProb</th>\n",
       "      <th>LowBidProb</th>\n",
       "      <th>MediumBidProb</th>\n",
       "      <th>...</th>\n",
       "      <th>Days_in_Qualification</th>\n",
       "      <th>Days_in_PlanningCapture</th>\n",
       "      <th>Days_in_ProposalPriceQuote</th>\n",
       "      <th>Days_in_Negotiation</th>\n",
       "      <th>Days_in_Review</th>\n",
       "      <th>AdditionalMarketsMultiAreaBlank</th>\n",
       "      <th>EducationWorkforceDev</th>\n",
       "      <th>EnergyEnvironment</th>\n",
       "      <th>FoodAgriculture</th>\n",
       "      <th>Health</th>\n",
       "    </tr>\n",
       "  </thead>\n",
       "  <tbody>\n",
       "    <tr>\n",
       "      <th>0</th>\n",
       "      <td>0.310252</td>\n",
       "      <td>-1.507868</td>\n",
       "      <td>0.590925</td>\n",
       "      <td>-0.662991</td>\n",
       "      <td>0.782041</td>\n",
       "      <td>0.773116</td>\n",
       "      <td>0.366277</td>\n",
       "      <td>-0.045285</td>\n",
       "      <td>-0.109601</td>\n",
       "      <td>-0.131988</td>\n",
       "      <td>...</td>\n",
       "      <td>-0.293958</td>\n",
       "      <td>-0.125456</td>\n",
       "      <td>-0.282784</td>\n",
       "      <td>-0.125584</td>\n",
       "      <td>-0.325019</td>\n",
       "      <td>-0.673350</td>\n",
       "      <td>-0.246392</td>\n",
       "      <td>-0.420326</td>\n",
       "      <td>-0.170266</td>\n",
       "      <td>1.100005</td>\n",
       "    </tr>\n",
       "    <tr>\n",
       "      <th>1</th>\n",
       "      <td>-0.209043</td>\n",
       "      <td>-1.507868</td>\n",
       "      <td>0.589685</td>\n",
       "      <td>-0.662991</td>\n",
       "      <td>0.782041</td>\n",
       "      <td>0.773116</td>\n",
       "      <td>0.366277</td>\n",
       "      <td>-0.045285</td>\n",
       "      <td>-0.109601</td>\n",
       "      <td>-0.131988</td>\n",
       "      <td>...</td>\n",
       "      <td>-0.293958</td>\n",
       "      <td>-0.125456</td>\n",
       "      <td>-0.282784</td>\n",
       "      <td>-0.125584</td>\n",
       "      <td>-0.325019</td>\n",
       "      <td>-0.673350</td>\n",
       "      <td>-0.246392</td>\n",
       "      <td>-0.420326</td>\n",
       "      <td>-0.170266</td>\n",
       "      <td>1.100005</td>\n",
       "    </tr>\n",
       "    <tr>\n",
       "      <th>2</th>\n",
       "      <td>0.310252</td>\n",
       "      <td>-1.507868</td>\n",
       "      <td>4.305030</td>\n",
       "      <td>-0.662991</td>\n",
       "      <td>0.782041</td>\n",
       "      <td>0.773116</td>\n",
       "      <td>0.366277</td>\n",
       "      <td>-0.045285</td>\n",
       "      <td>-0.109601</td>\n",
       "      <td>-0.131988</td>\n",
       "      <td>...</td>\n",
       "      <td>-0.293958</td>\n",
       "      <td>-0.125456</td>\n",
       "      <td>-0.282784</td>\n",
       "      <td>-0.125584</td>\n",
       "      <td>-0.325019</td>\n",
       "      <td>-0.673350</td>\n",
       "      <td>-0.246392</td>\n",
       "      <td>-0.420326</td>\n",
       "      <td>-0.170266</td>\n",
       "      <td>1.100005</td>\n",
       "    </tr>\n",
       "    <tr>\n",
       "      <th>3</th>\n",
       "      <td>0.310252</td>\n",
       "      <td>-1.507868</td>\n",
       "      <td>0.590306</td>\n",
       "      <td>-0.662991</td>\n",
       "      <td>0.782041</td>\n",
       "      <td>0.773116</td>\n",
       "      <td>0.366277</td>\n",
       "      <td>-0.045285</td>\n",
       "      <td>-0.109601</td>\n",
       "      <td>-0.131988</td>\n",
       "      <td>...</td>\n",
       "      <td>-0.293958</td>\n",
       "      <td>-0.125456</td>\n",
       "      <td>-0.282784</td>\n",
       "      <td>-0.125584</td>\n",
       "      <td>-0.325019</td>\n",
       "      <td>-0.673350</td>\n",
       "      <td>-0.246392</td>\n",
       "      <td>-0.420326</td>\n",
       "      <td>-0.170266</td>\n",
       "      <td>1.100005</td>\n",
       "    </tr>\n",
       "    <tr>\n",
       "      <th>4</th>\n",
       "      <td>-0.728338</td>\n",
       "      <td>-1.507868</td>\n",
       "      <td>0.590924</td>\n",
       "      <td>-0.662991</td>\n",
       "      <td>0.782041</td>\n",
       "      <td>0.773116</td>\n",
       "      <td>0.366277</td>\n",
       "      <td>-0.045285</td>\n",
       "      <td>-0.109601</td>\n",
       "      <td>-0.131988</td>\n",
       "      <td>...</td>\n",
       "      <td>-0.293958</td>\n",
       "      <td>-0.125456</td>\n",
       "      <td>-0.282784</td>\n",
       "      <td>-0.125584</td>\n",
       "      <td>-0.325019</td>\n",
       "      <td>1.485111</td>\n",
       "      <td>-0.246392</td>\n",
       "      <td>-0.420326</td>\n",
       "      <td>-0.170266</td>\n",
       "      <td>-0.909087</td>\n",
       "    </tr>\n",
       "  </tbody>\n",
       "</table>\n",
       "<p>5 rows × 50 columns</p>\n",
       "</div>"
      ],
      "text/plain": [
       "    BidWin%  Fiscal_Year  Proposal #  Business Unit  Bid_NoBid  \\\n",
       "0  0.310252    -1.507868    0.590925      -0.662991   0.782041   \n",
       "1 -0.209043    -1.507868    0.589685      -0.662991   0.782041   \n",
       "2  0.310252    -1.507868    4.305030      -0.662991   0.782041   \n",
       "3  0.310252    -1.507868    0.590306      -0.662991   0.782041   \n",
       "4 -0.728338    -1.507868    0.590924      -0.662991   0.782041   \n",
       "\n",
       "   BidProbability%  BlankBidProb  UndeterminedBidProb  LowBidProb  \\\n",
       "0         0.773116      0.366277            -0.045285   -0.109601   \n",
       "1         0.773116      0.366277            -0.045285   -0.109601   \n",
       "2         0.773116      0.366277            -0.045285   -0.109601   \n",
       "3         0.773116      0.366277            -0.045285   -0.109601   \n",
       "4         0.773116      0.366277            -0.045285   -0.109601   \n",
       "\n",
       "   MediumBidProb    ...     Days_in_Qualification  Days_in_PlanningCapture  \\\n",
       "0      -0.131988    ...                 -0.293958                -0.125456   \n",
       "1      -0.131988    ...                 -0.293958                -0.125456   \n",
       "2      -0.131988    ...                 -0.293958                -0.125456   \n",
       "3      -0.131988    ...                 -0.293958                -0.125456   \n",
       "4      -0.131988    ...                 -0.293958                -0.125456   \n",
       "\n",
       "   Days_in_ProposalPriceQuote  Days_in_Negotiation  Days_in_Review  \\\n",
       "0                   -0.282784            -0.125584       -0.325019   \n",
       "1                   -0.282784            -0.125584       -0.325019   \n",
       "2                   -0.282784            -0.125584       -0.325019   \n",
       "3                   -0.282784            -0.125584       -0.325019   \n",
       "4                   -0.282784            -0.125584       -0.325019   \n",
       "\n",
       "   AdditionalMarketsMultiAreaBlank  EducationWorkforceDev  EnergyEnvironment  \\\n",
       "0                        -0.673350              -0.246392          -0.420326   \n",
       "1                        -0.673350              -0.246392          -0.420326   \n",
       "2                        -0.673350              -0.246392          -0.420326   \n",
       "3                        -0.673350              -0.246392          -0.420326   \n",
       "4                         1.485111              -0.246392          -0.420326   \n",
       "\n",
       "   FoodAgriculture    Health  \n",
       "0        -0.170266  1.100005  \n",
       "1        -0.170266  1.100005  \n",
       "2        -0.170266  1.100005  \n",
       "3        -0.170266  1.100005  \n",
       "4        -0.170266 -0.909087  \n",
       "\n",
       "[5 rows x 50 columns]"
      ]
     },
     "execution_count": 90,
     "metadata": {},
     "output_type": "execute_result"
    }
   ],
   "source": [
    "df_featSVM.head()"
   ]
  },
  {
   "cell_type": "code",
   "execution_count": 91,
   "metadata": {
    "collapsed": true
   },
   "outputs": [],
   "source": [
    "# Train test split using 33% split\n",
    "\n",
    "X_trainSVM, X_testSVM, y_trainSVM, y_testSVM = train_test_split(df_featSVM, y, test_size=0.33, random_state=101)"
   ]
  },
  {
   "cell_type": "markdown",
   "metadata": {},
   "source": [
    "# Run SVM Algorithm"
   ]
  },
  {
   "cell_type": "code",
   "execution_count": 92,
   "metadata": {
    "collapsed": true
   },
   "outputs": [],
   "source": [
    "model = SVC(probability=True)"
   ]
  },
  {
   "cell_type": "code",
   "execution_count": 93,
   "metadata": {
    "collapsed": false
   },
   "outputs": [
    {
     "data": {
      "text/plain": [
       "SVC(C=1.0, cache_size=200, class_weight=None, coef0=0.0,\n",
       "  decision_function_shape=None, degree=3, gamma='auto', kernel='rbf',\n",
       "  max_iter=-1, probability=True, random_state=None, shrinking=True,\n",
       "  tol=0.001, verbose=False)"
      ]
     },
     "execution_count": 93,
     "metadata": {},
     "output_type": "execute_result"
    }
   ],
   "source": [
    "model.fit(X_trainSVM,y_trainSVM)"
   ]
  },
  {
   "cell_type": "code",
   "execution_count": 94,
   "metadata": {
    "collapsed": true
   },
   "outputs": [],
   "source": [
    "predictionSVM = model.predict(X_testSVM)"
   ]
  },
  {
   "cell_type": "code",
   "execution_count": 95,
   "metadata": {
    "collapsed": false
   },
   "outputs": [
    {
     "name": "stdout",
     "output_type": "stream",
     "text": [
      "[[ 783  155   26]\n",
      " [ 276 1276   31]\n",
      " [ 175  176 1940]]\n",
      "\n",
      "\n",
      "             precision    recall  f1-score   support\n",
      "\n",
      "          0       0.63      0.81      0.71       964\n",
      "          1       0.79      0.81      0.80      1583\n",
      "          2       0.97      0.85      0.90      2291\n",
      "\n",
      "avg / total       0.85      0.83      0.83      4838\n",
      "\n"
     ]
    }
   ],
   "source": [
    "print(confusion_matrix(y_testSVM,predictionSVM))\n",
    "print('\\n')\n",
    "print(classification_report(y_testSVM,predictionSVM))"
   ]
  },
  {
   "cell_type": "markdown",
   "metadata": {},
   "source": [
    "# Use GridSearchCV to optimize the C and gamma parameters:"
   ]
  },
  {
   "cell_type": "code",
   "execution_count": 96,
   "metadata": {
    "collapsed": true
   },
   "outputs": [],
   "source": [
    "param_grid = {'C':[0.001,0.1,1,10,100],'gamma':[1,0.1,0.01,0.001,0.0001]}"
   ]
  },
  {
   "cell_type": "code",
   "execution_count": 97,
   "metadata": {
    "collapsed": true
   },
   "outputs": [],
   "source": [
    "grid = GridSearchCV(SVC(probability=True),param_grid,verbose=1)"
   ]
  },
  {
   "cell_type": "code",
   "execution_count": 98,
   "metadata": {
    "collapsed": false
   },
   "outputs": [
    {
     "name": "stdout",
     "output_type": "stream",
     "text": [
      "Fitting 3 folds for each of 25 candidates, totalling 75 fits\n"
     ]
    },
    {
     "name": "stderr",
     "output_type": "stream",
     "text": [
      "[Parallel(n_jobs=1)]: Done  49 tasks       | elapsed: 18.5min\n",
      "[Parallel(n_jobs=1)]: Done  75 out of  75 | elapsed: 25.6min finished\n"
     ]
    },
    {
     "data": {
      "text/plain": [
       "GridSearchCV(cv=None, error_score='raise',\n",
       "       estimator=SVC(C=1.0, cache_size=200, class_weight=None, coef0=0.0,\n",
       "  decision_function_shape=None, degree=3, gamma='auto', kernel='rbf',\n",
       "  max_iter=-1, probability=True, random_state=None, shrinking=True,\n",
       "  tol=0.001, verbose=False),\n",
       "       fit_params={}, iid=True, n_jobs=1,\n",
       "       param_grid={'C': [0.001, 0.1, 1, 10, 100], 'gamma': [1, 0.1, 0.01, 0.001, 0.0001]},\n",
       "       pre_dispatch='2*n_jobs', refit=True, scoring=None, verbose=1)"
      ]
     },
     "execution_count": 98,
     "metadata": {},
     "output_type": "execute_result"
    }
   ],
   "source": [
    "grid.fit(X_trainSVM,y_trainSVM)"
   ]
  },
  {
   "cell_type": "code",
   "execution_count": 99,
   "metadata": {
    "collapsed": false
   },
   "outputs": [
    {
     "data": {
      "text/plain": [
       "{'C': 100, 'gamma': 0.001}"
      ]
     },
     "execution_count": 99,
     "metadata": {},
     "output_type": "execute_result"
    }
   ],
   "source": [
    "grid.best_params_"
   ]
  },
  {
   "cell_type": "code",
   "execution_count": 100,
   "metadata": {
    "collapsed": false
   },
   "outputs": [
    {
     "data": {
      "text/plain": [
       "SVC(C=100, cache_size=200, class_weight=None, coef0=0.0,\n",
       "  decision_function_shape=None, degree=3, gamma=0.001, kernel='rbf',\n",
       "  max_iter=-1, probability=True, random_state=None, shrinking=True,\n",
       "  tol=0.001, verbose=False)"
      ]
     },
     "execution_count": 100,
     "metadata": {},
     "output_type": "execute_result"
    }
   ],
   "source": [
    "grid.best_estimator_"
   ]
  },
  {
   "cell_type": "code",
   "execution_count": 101,
   "metadata": {
    "collapsed": true
   },
   "outputs": [],
   "source": [
    "grid_predictionSVM = grid.predict(X_testSVM)"
   ]
  },
  {
   "cell_type": "markdown",
   "metadata": {},
   "source": [
    "# SVM -  Precision and Recall Scores:"
   ]
  },
  {
   "cell_type": "code",
   "execution_count": 102,
   "metadata": {
    "collapsed": false
   },
   "outputs": [
    {
     "name": "stdout",
     "output_type": "stream",
     "text": [
      "[[ 786  152   26]\n",
      " [ 291 1263   29]\n",
      " [ 164  171 1956]]\n",
      "\n",
      "\n",
      "             precision    recall  f1-score   support\n",
      "\n",
      "          0       0.63      0.82      0.71       964\n",
      "          1       0.80      0.80      0.80      1583\n",
      "          2       0.97      0.85      0.91      2291\n",
      "\n",
      "avg / total       0.85      0.83      0.83      4838\n",
      "\n"
     ]
    }
   ],
   "source": [
    "print(confusion_matrix(y_testSVM,grid_predictionSVM))\n",
    "print('\\n')\n",
    "print(classification_report(y_testSVM,grid_predictionSVM))"
   ]
  },
  {
   "cell_type": "markdown",
   "metadata": {},
   "source": [
    "# Model # 5:   K Nearest Neighbors"
   ]
  },
  {
   "cell_type": "code",
   "execution_count": 103,
   "metadata": {
    "collapsed": true
   },
   "outputs": [],
   "source": [
    "scaler = StandardScaler()"
   ]
  },
  {
   "cell_type": "code",
   "execution_count": 104,
   "metadata": {
    "collapsed": false
   },
   "outputs": [
    {
     "data": {
      "text/plain": [
       "StandardScaler(copy=True, with_mean=True, with_std=True)"
      ]
     },
     "execution_count": 104,
     "metadata": {},
     "output_type": "execute_result"
    }
   ],
   "source": [
    "scaler.fit(X)"
   ]
  },
  {
   "cell_type": "code",
   "execution_count": 105,
   "metadata": {
    "collapsed": true
   },
   "outputs": [],
   "source": [
    "scaled_features = scaler.transform(X)"
   ]
  },
  {
   "cell_type": "code",
   "execution_count": 106,
   "metadata": {
    "collapsed": true
   },
   "outputs": [],
   "source": [
    "df_feat = pd.DataFrame(scaled_features,columns=X.columns)"
   ]
  },
  {
   "cell_type": "code",
   "execution_count": 107,
   "metadata": {
    "collapsed": false
   },
   "outputs": [
    {
     "data": {
      "text/html": [
       "<div>\n",
       "<table border=\"1\" class=\"dataframe\">\n",
       "  <thead>\n",
       "    <tr style=\"text-align: right;\">\n",
       "      <th></th>\n",
       "      <th>BidWin%</th>\n",
       "      <th>Fiscal_Year</th>\n",
       "      <th>Proposal #</th>\n",
       "      <th>Business Unit</th>\n",
       "      <th>Bid_NoBid</th>\n",
       "      <th>BidProbability%</th>\n",
       "      <th>BlankBidProb</th>\n",
       "      <th>UndeterminedBidProb</th>\n",
       "      <th>LowBidProb</th>\n",
       "      <th>MediumBidProb</th>\n",
       "      <th>...</th>\n",
       "      <th>Days_in_Qualification</th>\n",
       "      <th>Days_in_PlanningCapture</th>\n",
       "      <th>Days_in_ProposalPriceQuote</th>\n",
       "      <th>Days_in_Negotiation</th>\n",
       "      <th>Days_in_Review</th>\n",
       "      <th>AdditionalMarketsMultiAreaBlank</th>\n",
       "      <th>EducationWorkforceDev</th>\n",
       "      <th>EnergyEnvironment</th>\n",
       "      <th>FoodAgriculture</th>\n",
       "      <th>Health</th>\n",
       "    </tr>\n",
       "  </thead>\n",
       "  <tbody>\n",
       "    <tr>\n",
       "      <th>0</th>\n",
       "      <td>0.310252</td>\n",
       "      <td>-1.507868</td>\n",
       "      <td>0.590925</td>\n",
       "      <td>-0.662991</td>\n",
       "      <td>0.782041</td>\n",
       "      <td>0.773116</td>\n",
       "      <td>0.366277</td>\n",
       "      <td>-0.045285</td>\n",
       "      <td>-0.109601</td>\n",
       "      <td>-0.131988</td>\n",
       "      <td>...</td>\n",
       "      <td>-0.293958</td>\n",
       "      <td>-0.125456</td>\n",
       "      <td>-0.282784</td>\n",
       "      <td>-0.125584</td>\n",
       "      <td>-0.325019</td>\n",
       "      <td>-0.673350</td>\n",
       "      <td>-0.246392</td>\n",
       "      <td>-0.420326</td>\n",
       "      <td>-0.170266</td>\n",
       "      <td>1.100005</td>\n",
       "    </tr>\n",
       "    <tr>\n",
       "      <th>1</th>\n",
       "      <td>-0.209043</td>\n",
       "      <td>-1.507868</td>\n",
       "      <td>0.589685</td>\n",
       "      <td>-0.662991</td>\n",
       "      <td>0.782041</td>\n",
       "      <td>0.773116</td>\n",
       "      <td>0.366277</td>\n",
       "      <td>-0.045285</td>\n",
       "      <td>-0.109601</td>\n",
       "      <td>-0.131988</td>\n",
       "      <td>...</td>\n",
       "      <td>-0.293958</td>\n",
       "      <td>-0.125456</td>\n",
       "      <td>-0.282784</td>\n",
       "      <td>-0.125584</td>\n",
       "      <td>-0.325019</td>\n",
       "      <td>-0.673350</td>\n",
       "      <td>-0.246392</td>\n",
       "      <td>-0.420326</td>\n",
       "      <td>-0.170266</td>\n",
       "      <td>1.100005</td>\n",
       "    </tr>\n",
       "    <tr>\n",
       "      <th>2</th>\n",
       "      <td>0.310252</td>\n",
       "      <td>-1.507868</td>\n",
       "      <td>4.305030</td>\n",
       "      <td>-0.662991</td>\n",
       "      <td>0.782041</td>\n",
       "      <td>0.773116</td>\n",
       "      <td>0.366277</td>\n",
       "      <td>-0.045285</td>\n",
       "      <td>-0.109601</td>\n",
       "      <td>-0.131988</td>\n",
       "      <td>...</td>\n",
       "      <td>-0.293958</td>\n",
       "      <td>-0.125456</td>\n",
       "      <td>-0.282784</td>\n",
       "      <td>-0.125584</td>\n",
       "      <td>-0.325019</td>\n",
       "      <td>-0.673350</td>\n",
       "      <td>-0.246392</td>\n",
       "      <td>-0.420326</td>\n",
       "      <td>-0.170266</td>\n",
       "      <td>1.100005</td>\n",
       "    </tr>\n",
       "    <tr>\n",
       "      <th>3</th>\n",
       "      <td>0.310252</td>\n",
       "      <td>-1.507868</td>\n",
       "      <td>0.590306</td>\n",
       "      <td>-0.662991</td>\n",
       "      <td>0.782041</td>\n",
       "      <td>0.773116</td>\n",
       "      <td>0.366277</td>\n",
       "      <td>-0.045285</td>\n",
       "      <td>-0.109601</td>\n",
       "      <td>-0.131988</td>\n",
       "      <td>...</td>\n",
       "      <td>-0.293958</td>\n",
       "      <td>-0.125456</td>\n",
       "      <td>-0.282784</td>\n",
       "      <td>-0.125584</td>\n",
       "      <td>-0.325019</td>\n",
       "      <td>-0.673350</td>\n",
       "      <td>-0.246392</td>\n",
       "      <td>-0.420326</td>\n",
       "      <td>-0.170266</td>\n",
       "      <td>1.100005</td>\n",
       "    </tr>\n",
       "    <tr>\n",
       "      <th>4</th>\n",
       "      <td>-0.728338</td>\n",
       "      <td>-1.507868</td>\n",
       "      <td>0.590924</td>\n",
       "      <td>-0.662991</td>\n",
       "      <td>0.782041</td>\n",
       "      <td>0.773116</td>\n",
       "      <td>0.366277</td>\n",
       "      <td>-0.045285</td>\n",
       "      <td>-0.109601</td>\n",
       "      <td>-0.131988</td>\n",
       "      <td>...</td>\n",
       "      <td>-0.293958</td>\n",
       "      <td>-0.125456</td>\n",
       "      <td>-0.282784</td>\n",
       "      <td>-0.125584</td>\n",
       "      <td>-0.325019</td>\n",
       "      <td>1.485111</td>\n",
       "      <td>-0.246392</td>\n",
       "      <td>-0.420326</td>\n",
       "      <td>-0.170266</td>\n",
       "      <td>-0.909087</td>\n",
       "    </tr>\n",
       "  </tbody>\n",
       "</table>\n",
       "<p>5 rows × 50 columns</p>\n",
       "</div>"
      ],
      "text/plain": [
       "    BidWin%  Fiscal_Year  Proposal #  Business Unit  Bid_NoBid  \\\n",
       "0  0.310252    -1.507868    0.590925      -0.662991   0.782041   \n",
       "1 -0.209043    -1.507868    0.589685      -0.662991   0.782041   \n",
       "2  0.310252    -1.507868    4.305030      -0.662991   0.782041   \n",
       "3  0.310252    -1.507868    0.590306      -0.662991   0.782041   \n",
       "4 -0.728338    -1.507868    0.590924      -0.662991   0.782041   \n",
       "\n",
       "   BidProbability%  BlankBidProb  UndeterminedBidProb  LowBidProb  \\\n",
       "0         0.773116      0.366277            -0.045285   -0.109601   \n",
       "1         0.773116      0.366277            -0.045285   -0.109601   \n",
       "2         0.773116      0.366277            -0.045285   -0.109601   \n",
       "3         0.773116      0.366277            -0.045285   -0.109601   \n",
       "4         0.773116      0.366277            -0.045285   -0.109601   \n",
       "\n",
       "   MediumBidProb    ...     Days_in_Qualification  Days_in_PlanningCapture  \\\n",
       "0      -0.131988    ...                 -0.293958                -0.125456   \n",
       "1      -0.131988    ...                 -0.293958                -0.125456   \n",
       "2      -0.131988    ...                 -0.293958                -0.125456   \n",
       "3      -0.131988    ...                 -0.293958                -0.125456   \n",
       "4      -0.131988    ...                 -0.293958                -0.125456   \n",
       "\n",
       "   Days_in_ProposalPriceQuote  Days_in_Negotiation  Days_in_Review  \\\n",
       "0                   -0.282784            -0.125584       -0.325019   \n",
       "1                   -0.282784            -0.125584       -0.325019   \n",
       "2                   -0.282784            -0.125584       -0.325019   \n",
       "3                   -0.282784            -0.125584       -0.325019   \n",
       "4                   -0.282784            -0.125584       -0.325019   \n",
       "\n",
       "   AdditionalMarketsMultiAreaBlank  EducationWorkforceDev  EnergyEnvironment  \\\n",
       "0                        -0.673350              -0.246392          -0.420326   \n",
       "1                        -0.673350              -0.246392          -0.420326   \n",
       "2                        -0.673350              -0.246392          -0.420326   \n",
       "3                        -0.673350              -0.246392          -0.420326   \n",
       "4                         1.485111              -0.246392          -0.420326   \n",
       "\n",
       "   FoodAgriculture    Health  \n",
       "0        -0.170266  1.100005  \n",
       "1        -0.170266  1.100005  \n",
       "2        -0.170266  1.100005  \n",
       "3        -0.170266  1.100005  \n",
       "4        -0.170266 -0.909087  \n",
       "\n",
       "[5 rows x 50 columns]"
      ]
     },
     "execution_count": 107,
     "metadata": {},
     "output_type": "execute_result"
    }
   ],
   "source": [
    "df_feat.head()"
   ]
  },
  {
   "cell_type": "code",
   "execution_count": 108,
   "metadata": {
    "collapsed": true
   },
   "outputs": [],
   "source": [
    "# Train test split using 33% split\n",
    "\n",
    "X_trainKnn, X_testKnn, y_trainKnn, y_testKnn = train_test_split(df_feat, y, test_size=0.33, random_state=101)"
   ]
  },
  {
   "cell_type": "code",
   "execution_count": 109,
   "metadata": {
    "collapsed": true
   },
   "outputs": [],
   "source": [
    "knn = KNeighborsClassifier(n_neighbors=1)"
   ]
  },
  {
   "cell_type": "code",
   "execution_count": 110,
   "metadata": {
    "collapsed": false
   },
   "outputs": [
    {
     "data": {
      "text/plain": [
       "KNeighborsClassifier(algorithm='auto', leaf_size=30, metric='minkowski',\n",
       "           metric_params=None, n_jobs=1, n_neighbors=1, p=2,\n",
       "           weights='uniform')"
      ]
     },
     "execution_count": 110,
     "metadata": {},
     "output_type": "execute_result"
    }
   ],
   "source": [
    "knn.fit(X_trainKnn,y_trainKnn)"
   ]
  },
  {
   "cell_type": "code",
   "execution_count": 111,
   "metadata": {
    "collapsed": true
   },
   "outputs": [],
   "source": [
    "predKnn = knn.predict(X_testKnn)"
   ]
  },
  {
   "cell_type": "code",
   "execution_count": 112,
   "metadata": {
    "collapsed": false
   },
   "outputs": [
    {
     "name": "stdout",
     "output_type": "stream",
     "text": [
      "[[ 558  263  143]\n",
      " [ 278 1143  162]\n",
      " [ 152  170 1969]]\n",
      "\n",
      "\n",
      "             precision    recall  f1-score   support\n",
      "\n",
      "          0       0.56      0.58      0.57       964\n",
      "          1       0.73      0.72      0.72      1583\n",
      "          2       0.87      0.86      0.86      2291\n",
      "\n",
      "avg / total       0.76      0.76      0.76      4838\n",
      "\n"
     ]
    }
   ],
   "source": [
    "print(confusion_matrix(y_testKnn,predKnn))\n",
    "print('\\n')\n",
    "print(classification_report(y_testKnn,predKnn))"
   ]
  },
  {
   "cell_type": "code",
   "execution_count": 113,
   "metadata": {
    "collapsed": true
   },
   "outputs": [],
   "source": [
    "error_rate = []\n",
    "\n",
    "for i in range(1,40):\n",
    "    \n",
    "    knn = KNeighborsClassifier(n_neighbors=i)\n",
    "    knn.fit(X_trainKnn,y_trainKnn)\n",
    "    pred_i = knn.predict(X_testKnn)\n",
    "    error_rate.append(np.mean(pred_i != y_testKnn))  "
   ]
  },
  {
   "cell_type": "code",
   "execution_count": 115,
   "metadata": {
    "collapsed": false
   },
   "outputs": [
    {
     "data": {
      "text/plain": [
       "<matplotlib.text.Text at 0x153d4130>"
      ]
     },
     "execution_count": 115,
     "metadata": {},
     "output_type": "execute_result"
    },
    {
     "data": {
      "image/png": "[encoded data removed]",
      "text/plain": [
       "<matplotlib.figure.Figure at 0x14f31050>"
      ]
     },
     "metadata": {},
     "output_type": "display_data"
    }
   ],
   "source": [
    "plt.figure(figsize=(10,6))\n",
    "plt.plot(range(1,40),error_rate,color='blue',linestyle='dashed',marker='o',markerfacecolor='red',markersize=10)\n",
    "plt.title('Error Rate vs K value', fontsize=15)\n",
    "plt.xlabel('K')\n",
    "plt.ylabel('Error Rate')"
   ]
  },
  {
   "cell_type": "markdown",
   "metadata": {},
   "source": [
    "# KNN - Precision and Recall Scores:"
   ]
  },
  {
   "cell_type": "code",
   "execution_count": 116,
   "metadata": {
    "collapsed": false
   },
   "outputs": [
    {
     "name": "stdout",
     "output_type": "stream",
     "text": [
      "[[ 558  263  143]\n",
      " [ 278 1143  162]\n",
      " [ 152  170 1969]]\n",
      "\n",
      "\n",
      "             precision    recall  f1-score   support\n",
      "\n",
      "          0       0.56      0.58      0.57       964\n",
      "          1       0.73      0.72      0.72      1583\n",
      "          2       0.87      0.86      0.86      2291\n",
      "\n",
      "avg / total       0.76      0.76      0.76      4838\n",
      "\n"
     ]
    }
   ],
   "source": [
    "knn = KNeighborsClassifier(n_neighbors=9)\n",
    "\n",
    "knn.fit(X_trainKnn,y_trainKnn)\n",
    "\n",
    "predK = knn.predict(X_testKnn)\n",
    "\n",
    "print(confusion_matrix(y_testKnn,predKnn))\n",
    "print('\\n')\n",
    "print(classification_report(y_testKnn,predKnn))"
   ]
  },
  {
   "cell_type": "markdown",
   "metadata": {},
   "source": [
    "# Model # 6:  Decision Trees"
   ]
  },
  {
   "cell_type": "code",
   "execution_count": 117,
   "metadata": {
    "collapsed": true
   },
   "outputs": [],
   "source": [
    "dtree = DecisionTreeClassifier()"
   ]
  },
  {
   "cell_type": "code",
   "execution_count": 118,
   "metadata": {
    "collapsed": true
   },
   "outputs": [],
   "source": [
    "# Train test split using 33% split\n",
    "\n",
    "X_trainTree, X_testTree, y_trainTree, y_testTree = train_test_split(X, y, test_size=0.33, random_state=101)"
   ]
  },
  {
   "cell_type": "code",
   "execution_count": 119,
   "metadata": {
    "collapsed": false
   },
   "outputs": [
    {
     "data": {
      "text/plain": [
       "DecisionTreeClassifier(class_weight=None, criterion='gini', max_depth=None,\n",
       "            max_features=None, max_leaf_nodes=None, min_samples_leaf=1,\n",
       "            min_samples_split=2, min_weight_fraction_leaf=0.0,\n",
       "            presort=False, random_state=None, splitter='best')"
      ]
     },
     "execution_count": 119,
     "metadata": {},
     "output_type": "execute_result"
    }
   ],
   "source": [
    "dtree.fit(X_trainTree,y_trainTree)"
   ]
  },
  {
   "cell_type": "code",
   "execution_count": 120,
   "metadata": {
    "collapsed": true
   },
   "outputs": [],
   "source": [
    "treepredictions = dtree.predict(X_testTree)"
   ]
  },
  {
   "cell_type": "markdown",
   "metadata": {},
   "source": [
    "# Trees Precision and Recall scores:"
   ]
  },
  {
   "cell_type": "code",
   "execution_count": 121,
   "metadata": {
    "collapsed": false
   },
   "outputs": [
    {
     "name": "stdout",
     "output_type": "stream",
     "text": [
      "[[ 603  243  118]\n",
      " [ 262 1187  134]\n",
      " [  93  146 2052]]\n",
      "\n",
      "\n",
      "             precision    recall  f1-score   support\n",
      "\n",
      "          0       0.63      0.63      0.63       964\n",
      "          1       0.75      0.75      0.75      1583\n",
      "          2       0.89      0.90      0.89      2291\n",
      "\n",
      "avg / total       0.79      0.79      0.79      4838\n",
      "\n"
     ]
    }
   ],
   "source": [
    "print(confusion_matrix(y_testTree,treepredictions))\n",
    "print('\\n')\n",
    "print(classification_report(y_testTree,treepredictions))"
   ]
  },
  {
   "cell_type": "code",
   "execution_count": null,
   "metadata": {
    "collapsed": true
   },
   "outputs": [],
   "source": []
  },
  {
   "cell_type": "markdown",
   "metadata": {},
   "source": [
    "# Export Data"
   ]
  },
  {
   "cell_type": "code",
   "execution_count": 122,
   "metadata": {
    "collapsed": true
   },
   "outputs": [],
   "source": [
    "from copy import deepcopy"
   ]
  },
  {
   "cell_type": "code",
   "execution_count": 127,
   "metadata": {
    "collapsed": true
   },
   "outputs": [],
   "source": [
    "newdf1 = X_testXG"
   ]
  },
  {
   "cell_type": "code",
   "execution_count": 128,
   "metadata": {
    "collapsed": false
   },
   "outputs": [
    {
     "name": "stderr",
     "output_type": "stream",
     "text": [
      "C:\\Users\\aforero\\AppData\\Local\\Continuum\\Anaconda2\\lib\\site-packages\\ipykernel\\__main__.py:1: SettingWithCopyWarning: \n",
      "A value is trying to be set on a copy of a slice from a DataFrame.\n",
      "Try using .loc[row_indexer,col_indexer] = value instead\n",
      "\n",
      "See the caveats in the documentation: http://pandas.pydata.org/pandas-docs/stable/indexing.html#indexing-view-versus-copy\n",
      "  if __name__ == '__main__':\n"
     ]
    }
   ],
   "source": [
    "newdf1[\"Predicted_Labels\"] = grid_predictionXGB3"
   ]
  },
  {
   "cell_type": "code",
   "execution_count": 129,
   "metadata": {
    "collapsed": false
   },
   "outputs": [
    {
     "name": "stderr",
     "output_type": "stream",
     "text": [
      "C:\\Users\\aforero\\AppData\\Local\\Continuum\\Anaconda2\\lib\\site-packages\\ipykernel\\__main__.py:1: SettingWithCopyWarning: \n",
      "A value is trying to be set on a copy of a slice from a DataFrame.\n",
      "Try using .loc[row_indexer,col_indexer] = value instead\n",
      "\n",
      "See the caveats in the documentation: http://pandas.pydata.org/pandas-docs/stable/indexing.html#indexing-view-versus-copy\n",
      "  if __name__ == '__main__':\n"
     ]
    }
   ],
   "source": [
    "newdf1[\"Original_Labels\"] = y_testXG"
   ]
  },
  {
   "cell_type": "code",
   "execution_count": 130,
   "metadata": {
    "collapsed": true
   },
   "outputs": [],
   "source": [
    "newdf1.to_csv(\"XGBoost_predictions.csv\")"
   ]
  },
  {
   "cell_type": "code",
   "execution_count": 165,
   "metadata": {
    "collapsed": true
   },
   "outputs": [],
   "source": [
    "traindf = X_trainXG"
   ]
  },
  {
   "cell_type": "code",
   "execution_count": 166,
   "metadata": {
    "collapsed": true
   },
   "outputs": [],
   "source": [
    "XGpredictions_train = xgmodel.predict(X_trainXG)"
   ]
  },
  {
   "cell_type": "code",
   "execution_count": 167,
   "metadata": {
    "collapsed": false
   },
   "outputs": [
    {
     "name": "stderr",
     "output_type": "stream",
     "text": [
      "C:\\Users\\aforero\\AppData\\Local\\Continuum\\Anaconda2\\lib\\site-packages\\ipykernel\\__main__.py:1: SettingWithCopyWarning: \n",
      "A value is trying to be set on a copy of a slice from a DataFrame.\n",
      "Try using .loc[row_indexer,col_indexer] = value instead\n",
      "\n",
      "See the caveats in the documentation: http://pandas.pydata.org/pandas-docs/stable/indexing.html#indexing-view-versus-copy\n",
      "  if __name__ == '__main__':\n"
     ]
    }
   ],
   "source": [
    "traindf[\"Predicted_Labels\"] = XGpredictions_train"
   ]
  },
  {
   "cell_type": "code",
   "execution_count": 168,
   "metadata": {
    "collapsed": false
   },
   "outputs": [
    {
     "name": "stderr",
     "output_type": "stream",
     "text": [
      "C:\\Users\\aforero\\AppData\\Local\\Continuum\\Anaconda2\\lib\\site-packages\\ipykernel\\__main__.py:1: SettingWithCopyWarning: \n",
      "A value is trying to be set on a copy of a slice from a DataFrame.\n",
      "Try using .loc[row_indexer,col_indexer] = value instead\n",
      "\n",
      "See the caveats in the documentation: http://pandas.pydata.org/pandas-docs/stable/indexing.html#indexing-view-versus-copy\n",
      "  if __name__ == '__main__':\n"
     ]
    }
   ],
   "source": [
    "traindf[\"Original_Labels\"] = y_trainXG"
   ]
  },
  {
   "cell_type": "code",
   "execution_count": 169,
   "metadata": {
    "collapsed": true
   },
   "outputs": [],
   "source": [
    "traindf.to_csv(\"XGBoost_predictions_train.csv\")"
   ]
  },
  {
   "cell_type": "code",
   "execution_count": null,
   "metadata": {
    "collapsed": true
   },
   "outputs": [],
   "source": []
  },
  {
   "cell_type": "code",
   "execution_count": null,
   "metadata": {
    "collapsed": true
   },
   "outputs": [],
   "source": []
  }
 ],
 "metadata": {
  "anaconda-cloud": {},
  "kernelspec": {
   "display_name": "Python [Root]",
   "language": "python",
   "name": "Python [Root]"
  },
  "language_info": {
   "codemirror_mode": {
    "name": "ipython",
    "version": 2
   },
   "file_extension": ".py",
   "mimetype": "text/x-python",
   "name": "python",
   "nbconvert_exporter": "python",
   "pygments_lexer": "ipython2",
   "version": "2.7.12"
  }
 },
 "nbformat": 4,
 "nbformat_minor": 0
}
