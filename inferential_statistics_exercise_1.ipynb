{
 "cells": [
  {
   "cell_type": "markdown",
   "metadata": {},
   "source": [
    "## What is the true normal human body temperature? \n",
    "\n",
    "#### Background\n",
    "\n",
    "The mean normal body temperature was held to be 37$^{\\circ}$C or 98.6$^{\\circ}$F for more than 120 years since it was first conceptualized and reported by Carl Wunderlich in a famous 1868 book. In 1992, this value was revised to 36.8$^{\\circ}$C or 98.2$^{\\circ}$F. \n",
    "\n",
    "#### Exercise\n",
    "In this exercise, you will analyze a dataset of human body temperatures and employ the concepts of hypothesis testing, confidence intervals, and statistical significance.\n",
    "\n",
    "Answer the following questions **in this notebook below and submit to your Github account**. \n",
    "\n",
    "1.  Is the distribution of body temperatures normal? \n",
    "    - Remember that this is a condition for the CLT, and hence the statistical tests we are using, to apply. \n",
    "2.  Is the true population mean really 98.6 degrees F?\n",
    "    - Bring out the one sample hypothesis test! In this situation, is it approriate to apply a z-test or a t-test? How will the result be different?\n",
    "3.  At what temperature should we consider someone's temperature to be \"abnormal\"?\n",
    "    - Start by computing the margin of error and confidence interval.\n",
    "4.  Is there a significant difference between males and females in normal temperature?\n",
    "    - Set up and solve for a two sample hypothesis testing.\n",
    "\n",
    "You can include written notes in notebook cells using Markdown: \n",
    "   - In the control panel at the top, choose Cell > Cell Type > Markdown\n",
    "   - Markdown syntax: http://nestacms.com/docs/creating-content/markdown-cheat-sheet\n",
    "\n",
    "#### Resources\n",
    "\n",
    "+ Information and data sources: http://www.amstat.org/publications/jse/datasets/normtemp.txt, http://www.amstat.org/publications/jse/jse_data_archive.htm\n",
    "+ Markdown syntax: http://nestacms.com/docs/creating-content/markdown-cheat-sheet\n",
    "\n",
    "****"
   ]
  },
  {
   "cell_type": "code",
   "execution_count": 32,
   "metadata": {
    "collapsed": true
   },
   "outputs": [],
   "source": [
    "import pandas as pd\n",
    "import numpy as np\n",
    "import math"
   ]
  },
  {
   "cell_type": "code",
   "execution_count": 33,
   "metadata": {
    "collapsed": true
   },
   "outputs": [],
   "source": [
    "import matplotlib.pyplot as plt\n",
    "import seaborn as sns\n",
    "%matplotlib inline"
   ]
  },
  {
   "cell_type": "code",
   "execution_count": 34,
   "metadata": {
    "collapsed": true
   },
   "outputs": [],
   "source": [
    "import scipy.stats as stats"
   ]
  },
  {
   "cell_type": "code",
   "execution_count": 35,
   "metadata": {
    "collapsed": false
   },
   "outputs": [],
   "source": [
    "df = pd.read_csv('data/human_body_temperature.csv')"
   ]
  },
  {
   "cell_type": "code",
   "execution_count": 36,
   "metadata": {
    "collapsed": false
   },
   "outputs": [
    {
     "data": {
      "text/html": [
       "<div>\n",
       "<table border=\"1\" class=\"dataframe\">\n",
       "  <thead>\n",
       "    <tr style=\"text-align: right;\">\n",
       "      <th></th>\n",
       "      <th>temperature</th>\n",
       "      <th>gender</th>\n",
       "      <th>heart_rate</th>\n",
       "    </tr>\n",
       "  </thead>\n",
       "  <tbody>\n",
       "    <tr>\n",
       "      <th>0</th>\n",
       "      <td>99.3</td>\n",
       "      <td>F</td>\n",
       "      <td>68.0</td>\n",
       "    </tr>\n",
       "    <tr>\n",
       "      <th>1</th>\n",
       "      <td>98.4</td>\n",
       "      <td>F</td>\n",
       "      <td>81.0</td>\n",
       "    </tr>\n",
       "    <tr>\n",
       "      <th>2</th>\n",
       "      <td>97.8</td>\n",
       "      <td>M</td>\n",
       "      <td>73.0</td>\n",
       "    </tr>\n",
       "    <tr>\n",
       "      <th>3</th>\n",
       "      <td>99.2</td>\n",
       "      <td>F</td>\n",
       "      <td>66.0</td>\n",
       "    </tr>\n",
       "    <tr>\n",
       "      <th>4</th>\n",
       "      <td>98.0</td>\n",
       "      <td>F</td>\n",
       "      <td>73.0</td>\n",
       "    </tr>\n",
       "  </tbody>\n",
       "</table>\n",
       "</div>"
      ],
      "text/plain": [
       "   temperature gender  heart_rate\n",
       "0         99.3      F        68.0\n",
       "1         98.4      F        81.0\n",
       "2         97.8      M        73.0\n",
       "3         99.2      F        66.0\n",
       "4         98.0      F        73.0"
      ]
     },
     "execution_count": 36,
     "metadata": {},
     "output_type": "execute_result"
    }
   ],
   "source": [
    "df.head()"
   ]
  },
  {
   "cell_type": "code",
   "execution_count": 37,
   "metadata": {
    "collapsed": false
   },
   "outputs": [
    {
     "data": {
      "text/html": [
       "<div>\n",
       "<table border=\"1\" class=\"dataframe\">\n",
       "  <thead>\n",
       "    <tr style=\"text-align: right;\">\n",
       "      <th></th>\n",
       "      <th>temperature</th>\n",
       "      <th>heart_rate</th>\n",
       "    </tr>\n",
       "  </thead>\n",
       "  <tbody>\n",
       "    <tr>\n",
       "      <th>count</th>\n",
       "      <td>130.000000</td>\n",
       "      <td>130.000000</td>\n",
       "    </tr>\n",
       "    <tr>\n",
       "      <th>mean</th>\n",
       "      <td>98.249231</td>\n",
       "      <td>73.761538</td>\n",
       "    </tr>\n",
       "    <tr>\n",
       "      <th>std</th>\n",
       "      <td>0.733183</td>\n",
       "      <td>7.062077</td>\n",
       "    </tr>\n",
       "    <tr>\n",
       "      <th>min</th>\n",
       "      <td>96.300000</td>\n",
       "      <td>57.000000</td>\n",
       "    </tr>\n",
       "    <tr>\n",
       "      <th>25%</th>\n",
       "      <td>97.800000</td>\n",
       "      <td>69.000000</td>\n",
       "    </tr>\n",
       "    <tr>\n",
       "      <th>50%</th>\n",
       "      <td>98.300000</td>\n",
       "      <td>74.000000</td>\n",
       "    </tr>\n",
       "    <tr>\n",
       "      <th>75%</th>\n",
       "      <td>98.700000</td>\n",
       "      <td>79.000000</td>\n",
       "    </tr>\n",
       "    <tr>\n",
       "      <th>max</th>\n",
       "      <td>100.800000</td>\n",
       "      <td>89.000000</td>\n",
       "    </tr>\n",
       "  </tbody>\n",
       "</table>\n",
       "</div>"
      ],
      "text/plain": [
       "       temperature  heart_rate\n",
       "count   130.000000  130.000000\n",
       "mean     98.249231   73.761538\n",
       "std       0.733183    7.062077\n",
       "min      96.300000   57.000000\n",
       "25%      97.800000   69.000000\n",
       "50%      98.300000   74.000000\n",
       "75%      98.700000   79.000000\n",
       "max     100.800000   89.000000"
      ]
     },
     "execution_count": 37,
     "metadata": {},
     "output_type": "execute_result"
    }
   ],
   "source": [
    "df.describe()"
   ]
  },
  {
   "cell_type": "code",
   "execution_count": 38,
   "metadata": {
    "collapsed": false
   },
   "outputs": [],
   "source": [
    "temp = df['temperature']"
   ]
  },
  {
   "cell_type": "markdown",
   "metadata": {},
   "source": [
    "# Question # 1 - Is the distribution of body temperatures normal?\n",
    "\n",
    "# The below distplot or histogram seems to show that body temperature is normally distributed:"
   ]
  },
  {
   "cell_type": "code",
   "execution_count": 39,
   "metadata": {
    "collapsed": false
   },
   "outputs": [
    {
     "data": {
      "text/plain": [
       "<matplotlib.axes._subplots.AxesSubplot at 0xcc3c2b0>"
      ]
     },
     "execution_count": 39,
     "metadata": {},
     "output_type": "execute_result"
    },
    {
     "data": {
      "image/png": "[encoded data removed]",
      "text/plain": [
       "<matplotlib.figure.Figure at 0xcc3c7b0>"
      ]
     },
     "metadata": {},
     "output_type": "display_data"
    }
   ],
   "source": [
    "sns.distplot(temp, bins=20)"
   ]
  },
  {
   "cell_type": "markdown",
   "metadata": {},
   "source": [
    "# Normaltest shows that Body temperature data is normally distributed:\n",
    "\n",
    "Ho: Body temp is normally distributed\n",
    "\n",
    "Ha: Body temp is NOT normally distributed\n",
    "\n",
    "* Confidence Interval(CI) assumed = 95%, therefore reject HO if p < 0.05\n",
    "\n",
    "\n",
    "* normaltest returns a 2-tuple of the chi-squared statistic, and the associated p-value. Given the null hypothesis that x came from a normal distribution, the p-value represents the probability that a chi-squared statistic that large (or larger) would be seen.\n",
    "* If the p-val is very small, it means it is unlikely that the data came from a normal distribution.\n",
    "* In below code you can see that the p-value is 0.26.\n",
    "* If assume 95% confidence interval, then if p < 0.05, we should reject the null hypothesis. The p-value of 0.26 is greater than 0.05, therefore we do not reject the Ho, and that means that the distribution of body temperature is normal."
   ]
  },
  {
   "cell_type": "code",
   "execution_count": 40,
   "metadata": {
    "collapsed": false
   },
   "outputs": [
    {
     "data": {
      "text/plain": [
       "NormaltestResult(statistic=2.7038014333192031, pvalue=0.2587479863488254)"
      ]
     },
     "execution_count": 40,
     "metadata": {},
     "output_type": "execute_result"
    }
   ],
   "source": [
    "stats.normaltest(temp)"
   ]
  },
  {
   "cell_type": "markdown",
   "metadata": {},
   "source": [
    "# Shapiro test also shows that data is normally distributed:\n",
    "* p value is 0.233, which is greater than 0.05"
   ]
  },
  {
   "cell_type": "code",
   "execution_count": 41,
   "metadata": {
    "collapsed": false
   },
   "outputs": [
    {
     "data": {
      "text/plain": [
       "(0.9865769743919373, 0.2331680953502655)"
      ]
     },
     "execution_count": 41,
     "metadata": {},
     "output_type": "execute_result"
    }
   ],
   "source": [
    "stats.shapiro(temp)"
   ]
  },
  {
   "cell_type": "markdown",
   "metadata": {
    "collapsed": true
   },
   "source": [
    "# Question # 2:  Is the true population mean really 98.6 degrees F?\n",
    "* Bring out the one sample hypothesis test! In this situation, is it approriate to apply a z-test or a t-test? How will the result be different?"
   ]
  },
  {
   "cell_type": "markdown",
   "metadata": {},
   "source": [
    "Ho: Mu = 98.6 F\n",
    "\n",
    "Ha: Mu != 98.6 F\n",
    "\n",
    "* Confidence Interval(CI) assumed = 95%, therefore reject HO if p < 0.05\n",
    "* Confidence Interval(CI) assumed = 99%, therefore reject HO if p < 0.01\n",
    "\n",
    "\n",
    "If we assume that Ho is true, what is the probability of getting a Mu that is not equal to 98.6 F?\n",
    "\n",
    "\n",
    "# Question # 2a:  In this situation, is it approriate to apply a z-test or a t-test?\n",
    "* A z-test would be appropriate if these 2 conditions are met:  1) I know the standard deviation of the population, and 2)  The sample size is above 30.\n",
    "* Since I do not know the population standard deviation, then a t-test should be used.\n",
    "\n",
    "# Question # 2b:  How will the result be different?\n",
    "* If I knew the population standard deviation and sample was greater than 30, I would use a z-test because it would be more accurate than a t-test.  With a t-test, since you are using the sample standard deviation as an **estimate** of the population standard deviation, then it is just an approximation of how the population behaves.\n"
   ]
  },
  {
   "cell_type": "markdown",
   "metadata": {},
   "source": [
    "# Is the true population mean really 98.6 degrees F?\n",
    "\n",
    "* Below here you can see the code where I ran a t-test, and the test statistic is -5.45. \n",
    "* In other words, the sample mean is -5.45 standard deviations below the null hypothesis mean of 98.6 F (recall that the sample mean of the temp dataframe is 98.249231 F, which is less than the Ho mean of 98.6 F)\n",
    "* The formula to calculate the t-statistic is:  \n",
    "t = Sample Mean - Ho Mean / standard error of the mean\n",
    "* standard error of the mean = (standard deviation of sample / square root of number of observations)\n",
    "* t = 98.249231 - 98.6 / ( 0.733183 / sqrt(130))"
   ]
  },
  {
   "cell_type": "code",
   "execution_count": 68,
   "metadata": {
    "collapsed": false
   },
   "outputs": [
    {
     "data": {
      "text/plain": [
       "Ttest_1sampResult(statistic=-5.4548232923645195, pvalue=2.4106320415561276e-07)"
      ]
     },
     "execution_count": 68,
     "metadata": {},
     "output_type": "execute_result"
    }
   ],
   "source": [
    "# Alternative scypy function to calculate t statistic and pvalue:\n",
    "\n",
    "stats.ttest_1samp(temp, 98.6)"
   ]
  },
  {
   "cell_type": "markdown",
   "metadata": {},
   "source": [
    "# Calculate Degrees of Freedom:"
   ]
  },
  {
   "cell_type": "code",
   "execution_count": 43,
   "metadata": {
    "collapsed": false
   },
   "outputs": [
    {
     "data": {
      "text/plain": [
       "129"
      ]
     },
     "execution_count": 43,
     "metadata": {},
     "output_type": "execute_result"
    }
   ],
   "source": [
    "DOF = len(temp) - 1\n",
    "DOF"
   ]
  },
  {
   "cell_type": "markdown",
   "metadata": {},
   "source": [
    "# We can calculate the chances of seeing a result as extreme as the one we observed (known as the p-value) by passing the t-statistic in as the quantile to the stats.t.cdf() function:"
   ]
  },
  {
   "cell_type": "code",
   "execution_count": 44,
   "metadata": {
    "collapsed": false
   },
   "outputs": [
    {
     "data": {
      "text/plain": [
       "2.4106320415561276e-07"
      ]
     },
     "execution_count": 44,
     "metadata": {},
     "output_type": "execute_result"
    }
   ],
   "source": [
    "stats.t.cdf(x= -5.4548232923645195,      # T-test statistic\n",
    "               df= 129) * 2              # multiply by 2 since the sample could differ in either positive or negative direction"
   ]
  },
  {
   "cell_type": "markdown",
   "metadata": {},
   "source": [
    "* Notice that this result of _2.4106e-07_ matches the pvalue result using the Ttest_1sampResult function above.\n",
    "* A p-value of 2.4106e-07 means we'd expect to see data as extreme as our sample due to chance about 0.0000241% of the time if the null hypothesis was true. \n",
    "\n",
    "# Answer Question 1:\n",
    "\n",
    "* **In this case, the p-value is lower than our significance level α (equal to 1-conf.level or 0.05) so we should reject the null hypothesis.  In other words, the true population mean temperature is not 98.6 degrees F.** \n"
   ]
  },
  {
   "cell_type": "markdown",
   "metadata": {},
   "source": [
    "# Question # 3:  At what temperature should we consider someone's temperature to be \"abnormal\"?\n",
    "* Start by computing the margin of error and confidence interval."
   ]
  },
  {
   "cell_type": "code",
   "execution_count": 59,
   "metadata": {
    "collapsed": false
   },
   "outputs": [
    {
     "data": {
      "text/plain": [
       "0.06430441683789101"
      ]
     },
     "execution_count": 59,
     "metadata": {},
     "output_type": "execute_result"
    }
   ],
   "source": [
    "# Calculate Standard Error:\n",
    "\n",
    "Standard_Error = temp.std()/math.sqrt(130)  # Sample stdev/sample size\n",
    "Standard_Error"
   ]
  },
  {
   "cell_type": "code",
   "execution_count": 60,
   "metadata": {
    "collapsed": false
   },
   "outputs": [
    {
     "data": {
      "text/plain": [
       "0.064304416837891024"
      ]
     },
     "execution_count": 60,
     "metadata": {},
     "output_type": "execute_result"
    }
   ],
   "source": [
    "# Alternative way to calc standard error:\n",
    "\n",
    "stderr = stats.sem(temp)\n",
    "stderr"
   ]
  },
  {
   "cell_type": "markdown",
   "metadata": {},
   "source": [
    "* **The 95% confidence interval is (98.122, 98.376) as shown in below code:**\n",
    "\n",
    "# ANSWER Question 2: \n",
    "* **Any temperature outside this range would be considered \"abnormal\"**\n",
    "* FYI, also this CI does not capture the Ho mean of 98.6 F"
   ]
  },
  {
   "cell_type": "code",
   "execution_count": 45,
   "metadata": {
    "collapsed": false
   },
   "outputs": [
    {
     "data": {
      "text/plain": [
       "(98.122002905608042, 98.376458632853513)"
      ]
     },
     "execution_count": 45,
     "metadata": {},
     "output_type": "execute_result"
    }
   ],
   "source": [
    "stats.t.interval(0.95,                        # Confidence level\n",
    "                 df = 129,                    # Degrees of freedom\n",
    "                 loc = temp.mean(),           # Sample mean\n",
    "                 scale= sigma)                # Standard dev estimate"
   ]
  },
  {
   "cell_type": "code",
   "execution_count": 61,
   "metadata": {
    "collapsed": false
   },
   "outputs": [
    {
     "data": {
      "text/plain": [
       "(98.122002905608042, 98.376458632853513)"
      ]
     },
     "execution_count": 61,
     "metadata": {},
     "output_type": "execute_result"
    }
   ],
   "source": [
    "# Alternative way to compute the 95% confidence interval:\n",
    "\n",
    "import statsmodels.stats.api as sms\n",
    "\n",
    "sms.DescrStatsW(temp).tconfint_mean()"
   ]
  },
  {
   "cell_type": "markdown",
   "metadata": {},
   "source": [
    "# ANSWER Question 2b:\n",
    "* **If we use a 99% confidence interval then the range is (98.081, 98.417), and any temp outside this range would be \"abnormal**\n",
    "*  This range also does not capture the mean of 98.6F**."
   ]
  },
  {
   "cell_type": "code",
   "execution_count": 46,
   "metadata": {
    "collapsed": false
   },
   "outputs": [
    {
     "data": {
      "text/plain": [
       "(98.08110824239759, 98.417353296063965)"
      ]
     },
     "execution_count": 46,
     "metadata": {},
     "output_type": "execute_result"
    }
   ],
   "source": [
    "sigma = temp.std()/math.sqrt(130)  # Sample stdev/sample size\n",
    "\n",
    "stats.t.interval(0.99,                        # Confidence level\n",
    "                 df = 129,                    # Degrees of freedom\n",
    "                 loc = temp.mean(),           # Sample mean\n",
    "                 scale= sigma)                # Standard dev estimate"
   ]
  },
  {
   "cell_type": "markdown",
   "metadata": {},
   "source": [
    "# Question # 4:  Is there a significant difference between males and females in normal temperature?\n",
    "* Set up and solve for a two sample hypothesis testing."
   ]
  },
  {
   "cell_type": "code",
   "execution_count": 74,
   "metadata": {
    "collapsed": false
   },
   "outputs": [],
   "source": [
    "males = df[df['gender'] == 'M']\n",
    "malestemp = males['temperature']"
   ]
  },
  {
   "cell_type": "code",
   "execution_count": 75,
   "metadata": {
    "collapsed": true
   },
   "outputs": [],
   "source": [
    "females = df[df['gender'] == 'F']\n",
    "femalestemp = females['temperature']"
   ]
  },
  {
   "cell_type": "markdown",
   "metadata": {},
   "source": [
    "# Set up Hypothesis test\n",
    "\n",
    "Ho: The mean of malestemp is equal to the mean of femalestemp; \n",
    "* reject Ho if p < 0.05 (95% CI)\n",
    "\n",
    "Ha: The mean of malestemp is NOT EQUAL to the mean of femalestemp\n"
   ]
  },
  {
   "cell_type": "markdown",
   "metadata": {},
   "source": [
    "The below code shows that the two sample test yields a p-value of 0.023938, which means there is a 2% chance we'd see sample data this far apart if the two groups tested are actually identical. \n",
    "\n",
    "# ANSWER Question 4:\n",
    "* Using a  95% confidence level we would reject the null hypothesis, since the p-value is less than the corresponding significance level of 5%.  In other words, the mean of male temperatures is NOT equal to the mean of female temperatures\n",
    "* However if we used a 99% confidence level, we could not reject the null hypothesis because the probability of 0.0239 is not less than 0.01.  In other words, the mean of male temperature is equal to the mean of female temperatures"
   ]
  },
  {
   "cell_type": "code",
   "execution_count": 76,
   "metadata": {
    "collapsed": false
   },
   "outputs": [
    {
     "data": {
      "text/plain": [
       "Ttest_indResult(statistic=-2.2854345381656112, pvalue=0.023938264182934196)"
      ]
     },
     "execution_count": 76,
     "metadata": {},
     "output_type": "execute_result"
    }
   ],
   "source": [
    "stats.ttest_ind(a= malestemp,\n",
    "                b= femalestemp,\n",
    "                equal_var=False)    # Assume samples have equal variance?        "
   ]
  },
  {
   "cell_type": "code",
   "execution_count": null,
   "metadata": {
    "collapsed": true
   },
   "outputs": [],
   "source": []
  }
 ],
 "metadata": {
  "anaconda-cloud": {},
  "kernelspec": {
   "display_name": "Python [Root]",
   "language": "python",
   "name": "Python [Root]"
  },
  "language_info": {
   "codemirror_mode": {
    "name": "ipython",
    "version": 2
   },
   "file_extension": ".py",
   "mimetype": "text/x-python",
   "name": "python",
   "nbconvert_exporter": "python",
   "pygments_lexer": "ipython2",
   "version": "2.7.12"
  }
 },
 "nbformat": 4,
 "nbformat_minor": 0
}
